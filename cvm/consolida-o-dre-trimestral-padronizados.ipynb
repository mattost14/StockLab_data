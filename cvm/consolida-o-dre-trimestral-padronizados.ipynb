{
 "cells": [
  {
   "cell_type": "code",
   "execution_count": 33,
   "metadata": {},
   "outputs": [],
   "source": [
    "# This Python 3 environment comes with many helpful analytics libraries installed\n",
    "# It is defined by the kaggle/python docker image: https://github.com/kaggle/docker-python\n",
    "# For example, here's several helpful packages to load in \n",
    "\n",
    "import numpy as np # linear algebra\n",
    "import pandas as pd # data processing, CSV file I/O (e.g. pd.read_csv)\n",
    "import matplotlib, json\n",
    "import matplotlib.pyplot as plt\n",
    "import sys\n",
    "sys.path.append('/Users/BrunoMattos/Documents2/Dev/stocklab_data/Firestore')\n",
    "from uploadToFirestore import uploadDocumentToFirestore\n",
    "# import uploadToFirestore.uploadToFirestore             \n",
    "#import seaborn as sns\n",
    "#sns.set(rc={'figure.figsize':(15,10),\"font.size\":16,\"axes.titlesize\":16,\"axes.labelsize\":16})\n",
    "\n",
    "# Input data files are available in the \"../input/\" directory.\n",
    "# For example, running this (by clicking run or pressing Shift+Enter) will list the files in the input directory\n",
    "\n",
    "import os\n",
    "#print(os.listdir(\"./dre_input\"))\n",
    "itr_input = './input_cvm/itr/'\n",
    "dfp_input = './input_cvm/dfp/'\n",
    "\n",
    "# Any results you write to the current directory are saved as output."
   ]
  },
  {
   "cell_type": "code",
   "execution_count": 34,
   "metadata": {},
   "outputs": [],
   "source": [
    "MapaNiveis = {\n",
    "    'Receita Líquida' : 1,\n",
    "    'Custos': 2,\n",
    "    'Lucro Bruto':3,\n",
    "    'Despesas/Receitas Operacionais':4,\n",
    "    'EBITDA': 5,\n",
    "    'Despesas de Depreciação e Amortização': 6,\n",
    "    'EBIT' : 7,\n",
    "    'Resultado Financeiro': 8,\n",
    "        'Receitas Financeiras': 8.1,\n",
    "        'Despesas Financeiras': 8.2,\n",
    "    'EBT': 9,\n",
    "    'Impostos':10,\n",
    "    'Lucro Líquido': 11,\n",
    "}\n",
    "MapNivel2 = {\n",
    "    'Receitas da Intermediação Financeira' : 'Receita Líquida',\n",
    "    'Receitas das Operações' : 'Receita Líquida',\n",
    "    'Receita de Venda de Bens e/ou Serviços': 'Receita Líquida',\n",
    "    'Despesas da Intermediação Financeira': 'Custos',\n",
    "    'Custo dos Bens e/ou Serviços Vendidos': 'Custos',\n",
    "    'Sinistros e Despesas das Operações':'Custos',\n",
    "    'Resultado Bruto': 'Lucro Bruto',\n",
    "    'Resultado Bruto Intermediação Financeira': 'Lucro Bruto',\n",
    "    'Despesas/Receitas Operacionais': 'Despesas/Receitas Operacionais',\n",
    "    'Despesas Administrativas': 'Despesas/Receitas Operacionais',\n",
    "    'Outras Despesas/Receitas Operacionais': 'Despesas/Receitas Operacionais',\n",
    "    'Outras Receitas e Despesas Operacionais': 'Despesas/Receitas Operacionais',\n",
    "    'Resultado Antes dos Tributos sobre o Lucro': 'EBT',\n",
    "    'Resultado Antes do Resultado Financeiro e dos Tributos' : 'EBIT',\n",
    "    'Imposto de Renda e Contribuição Social sobre o Lucro': 'Impostos',\n",
    "    # 'Resultado de Equivalência Patrimonial' : 'Resultado de Equivalência Patrimonial',\n",
    "    'Resultado Financeiro' : 'Resultado Financeiro',\n",
    "    'Lucro/Prejuízo Consolidado do Período' : 'Lucro Líquido',\n",
    "    # 'Resultado Líquido das Operações Continuadas': 'Lucro Líquido'\n",
    "}\n",
    "MapNivel3 = {\n",
    "    'Receitas Financeiras': 'Receitas Financeiras',\n",
    "    'Despesas Financeiras': 'Despesas Financeiras',\n",
    "    'Despesas de Depreciação e Amortização' : 'Amortização/Depreciação'\n",
    "}"
   ]
  },
  {
   "cell_type": "code",
   "execution_count": 73,
   "metadata": {},
   "outputs": [],
   "source": [
    "DRE_ITR2015 = pd.read_csv(\"./input_cvm/itr/itr_cia_aberta_dre_con_2015.csv\", thousands=',', sep=';', encoding='latin-1')\n",
    "DRE_ITR2016 = pd.read_csv(\"./input_cvm/itr/itr_cia_aberta_dre_con_2016.csv\", thousands=',', sep=';', encoding='latin-1')\n",
    "DRE_ITR2017 = pd.read_csv(\"./input_cvm/itr/itr_cia_aberta_dre_con_2017.csv\", thousands=',', sep=';', encoding='latin-1')\n",
    "DRE_ITR2018 = pd.read_csv(\"./input_cvm/itr/itr_cia_aberta_dre_con_2018.csv\", thousands=',', sep=';', encoding='latin-1')\n",
    "DRE_ITR2019 = pd.read_csv(\"./input_cvm/itr/itr_cia_aberta_dre_con_2019.csv\", thousands=',', sep=';', encoding='latin-1')\n",
    "#Concat todos\n",
    "DRE_ITR=pd.concat([DRE_ITR2015,DRE_ITR2016,DRE_ITR2017,DRE_ITR2018,DRE_ITR2019])\n",
    "#Carregando dados padronizados (DFP) de cada ano\n",
    "DRE_DFP2015 = pd.read_csv(\"./input_cvm/dfp/dre_cia_aberta_con_2015.csv\", thousands=',', sep=';', encoding='latin-1')\n",
    "DRE_DFP2016 = pd.read_csv(\"./input_cvm/dfp/dre_cia_aberta_con_2016.csv\", thousands=',', sep=';', encoding='latin-1')\n",
    "DRE_DFP2017 = pd.read_csv(\"./input_cvm/dfp/dre_cia_aberta_con_2017.csv\", thousands=',', sep=';', encoding='latin-1')\n",
    "DRE_DFP2018 = pd.read_csv(\"./input_cvm/dfp/dre_cia_aberta_con_2018.csv\", thousands=',', sep=';', encoding='latin-1')\n",
    "DRE_DFP2019 = pd.read_csv(\"./input_cvm/dfp/dre_cia_aberta_con_2019.csv\", thousands=',', sep=';', encoding='latin-1')\n",
    "#Concat todos\n",
    "DRE_DFP=pd.concat([DRE_DFP2015,DRE_DFP2016,DRE_DFP2017,DRE_DFP2018,DRE_DFP2019])\n",
    "#Concat DRE_ITR e DRE_DFP\n",
    "DRE=pd.concat([DRE_ITR,DRE_DFP])\n",
    "#DATA REF\n",
    "DRE.DT_REFER=pd.to_datetime(DRE.DT_REFER)\n",
    "#INICIO\n",
    "DRE.DT_INI_EXERC=pd.to_datetime(DRE.DT_INI_EXERC)\n",
    "#FIM\n",
    "DRE.DT_FIM_EXERC=pd.to_datetime(DRE.DT_FIM_EXERC)\n",
    "\n",
    "#--- Limpando dados incoerentes com os inícios e fins de trimestres ---\n",
    "#Drop ORDEM_EXERC==PENÚLTIMO\n",
    "DRE=DRE[DRE.ORDEM_EXERC=='ÚLTIMO']\n",
    "#Drop Dados com DATA de INÍCIO diferente de JAN\n",
    "# DRE=DRE[DRE.DT_INI_EXERC.dt.month==1]\n",
    "# #Drop Dados com DATA de FIM diferente de MAR(3),JUN(6),SEP(9),DEC(12) \n",
    "# DRE=DRE[DRE.DT_FIM_EXERC.dt.month.isin([3,6,9,12])]"
   ]
  },
  {
   "cell_type": "markdown",
   "metadata": {},
   "source": [
    "Definido o trimestre correspondente de cada dado"
   ]
  },
  {
   "cell_type": "code",
   "execution_count": 75,
   "metadata": {},
   "outputs": [],
   "source": [
    "#Adicionar column do nível do dado conforme columna CD_CONTA. Ex.: '3.04.02' -> nível 3\n",
    "def getLevel(row):\n",
    "    return len(row['CD_CONTA'].split('.'))\n",
    "DRE['NIVEL']=DRE.apply(lambda r: getLevel(r), axis=1)"
   ]
  },
  {
   "cell_type": "code",
   "execution_count": 76,
   "metadata": {},
   "outputs": [],
   "source": [
    "#Filtrar para somente NIVEL 2\n",
    "DRE_NIVEL1 = DRE[DRE.NIVEL==2]\n",
    "DRE_NIVEL1['DESC_SIMPLES']=DRE_NIVEL1['DS_CONTA'].map(MapNivel2)\n",
    "DRE_NIVEL1.dropna(subset=['DESC_SIMPLES'], inplace=True)\n",
    "DRE_NIVEL1['CD_CONTA']=DRE_NIVEL1['DESC_SIMPLES'].map(MapaNiveis)\n",
    "#Filtrar para somente NIVEL 3\n",
    "DRE_NIVEL2 = DRE[DRE.NIVEL==3]\n",
    "DRE_NIVEL2['DESC_SIMPLES']=DRE_NIVEL2['DS_CONTA'].map(MapNivel3)\n",
    "DRE_NIVEL2.dropna(subset=['DESC_SIMPLES'], inplace=True)\n",
    "DRE_NIVEL2['CD_CONTA']=DRE_NIVEL2['DESC_SIMPLES'].map(MapaNiveis)\n",
    "#Concat Nivel 1 e 2\n",
    "DRE_NIVEL1e2=pd.concat([DRE_NIVEL1,DRE_NIVEL2])\n",
    "#Mapeamento da Escala dos Valores\n",
    "DRE_NIVEL1e2['ESCALA'] = DRE_NIVEL1e2.ESCALA_MOEDA.map({'MIL': 1000, 'MILHAR': 1000, 'UNIDADE': 1})"
   ]
  },
  {
   "cell_type": "code",
   "execution_count": 85,
   "metadata": {},
   "outputs": [
    {
     "data": {
      "text/html": "<div>\n<style scoped>\n    .dataframe tbody tr th:only-of-type {\n        vertical-align: middle;\n    }\n\n    .dataframe tbody tr th {\n        vertical-align: top;\n    }\n\n    .dataframe thead th {\n        text-align: right;\n    }\n</style>\n<table border=\"1\" class=\"dataframe\">\n  <thead>\n    <tr style=\"text-align: right;\">\n      <th></th>\n      <th>CNPJ_CIA</th>\n      <th>DT_REFER</th>\n      <th>VERSAO</th>\n      <th>DENOM_CIA</th>\n      <th>CD_CVM</th>\n      <th>GRUPO_DFP</th>\n      <th>MOEDA</th>\n      <th>ESCALA_MOEDA</th>\n      <th>ORDEM_EXERC</th>\n      <th>DT_INI_EXERC</th>\n      <th>DT_FIM_EXERC</th>\n      <th>CD_CONTA</th>\n      <th>DS_CONTA</th>\n      <th>VL_CONTA</th>\n      <th>NIVEL</th>\n      <th>DESC_SIMPLES</th>\n      <th>ESCALA</th>\n    </tr>\n  </thead>\n  <tbody>\n    <tr>\n      <th>14523</th>\n      <td>64.904.295/0001-03</td>\n      <td>2017-02-28</td>\n      <td>1</td>\n      <td>CAMIL ALIMENTOS S.A.</td>\n      <td>24228</td>\n      <td>DF Consolidado - Demonstração do Resultado</td>\n      <td>REAL</td>\n      <td>MILHAR</td>\n      <td>ÚLTIMO</td>\n      <td>2016-03-01</td>\n      <td>2017-02-28</td>\n      <td>364</td>\n      <td>Receita de Venda de Bens e/ou Serviços</td>\n      <td>4947730.0</td>\n      <td>2</td>\n      <td>Receita Líquida</td>\n      <td>1000</td>\n    </tr>\n    <tr>\n      <th>40975</th>\n      <td>64.904.295/0001-03</td>\n      <td>2017-05-31</td>\n      <td>1</td>\n      <td>CAMIL ALIMENTOS S.A.</td>\n      <td>24228</td>\n      <td>DF Consolidado - Demonstração do Resultado</td>\n      <td>REAL</td>\n      <td>MIL</td>\n      <td>ÚLTIMO</td>\n      <td>2017-03-01</td>\n      <td>2017-05-31</td>\n      <td>91</td>\n      <td>Receita de Venda de Bens e/ou Serviços</td>\n      <td>1225559.0</td>\n      <td>2</td>\n      <td>Receita Líquida</td>\n      <td>1000</td>\n    </tr>\n    <tr>\n      <th>41025</th>\n      <td>64.904.295/0001-03</td>\n      <td>2017-08-31</td>\n      <td>1</td>\n      <td>CAMIL ALIMENTOS S.A.</td>\n      <td>24228</td>\n      <td>DF Consolidado - Demonstração do Resultado</td>\n      <td>REAL</td>\n      <td>MIL</td>\n      <td>ÚLTIMO</td>\n      <td>2017-03-01</td>\n      <td>2017-08-31</td>\n      <td>183</td>\n      <td>Receita de Venda de Bens e/ou Serviços</td>\n      <td>2387444.0</td>\n      <td>2</td>\n      <td>Receita Líquida</td>\n      <td>1000</td>\n    </tr>\n    <tr>\n      <th>41075</th>\n      <td>64.904.295/0001-03</td>\n      <td>2017-11-30</td>\n      <td>1</td>\n      <td>CAMIL ALIMENTOS S.A.</td>\n      <td>24228</td>\n      <td>DF Consolidado - Demonstração do Resultado</td>\n      <td>REAL</td>\n      <td>MIL</td>\n      <td>ÚLTIMO</td>\n      <td>2017-03-01</td>\n      <td>2017-11-30</td>\n      <td>274</td>\n      <td>Receita de Venda de Bens e/ou Serviços</td>\n      <td>3546607.0</td>\n      <td>2</td>\n      <td>Receita Líquida</td>\n      <td>1000</td>\n    </tr>\n    <tr>\n      <th>14757</th>\n      <td>64.904.295/0001-03</td>\n      <td>2018-02-28</td>\n      <td>2</td>\n      <td>CAMIL ALIMENTOS S.A.</td>\n      <td>24228</td>\n      <td>DF Consolidado - Demonstração do Resultado</td>\n      <td>REAL</td>\n      <td>MILHAR</td>\n      <td>ÚLTIMO</td>\n      <td>2017-03-01</td>\n      <td>2018-02-28</td>\n      <td>364</td>\n      <td>Receita de Venda de Bens e/ou Serviços</td>\n      <td>4662940.0</td>\n      <td>2</td>\n      <td>Receita Líquida</td>\n      <td>1000</td>\n    </tr>\n    <tr>\n      <th>40279</th>\n      <td>64.904.295/0001-03</td>\n      <td>2018-05-31</td>\n      <td>1</td>\n      <td>CAMIL ALIMENTOS S.A.</td>\n      <td>24228</td>\n      <td>DF Consolidado - Demonstração do Resultado</td>\n      <td>REAL</td>\n      <td>MIL</td>\n      <td>ÚLTIMO</td>\n      <td>2018-03-01</td>\n      <td>2018-05-31</td>\n      <td>91</td>\n      <td>Receita de Venda de Bens e/ou Serviços</td>\n      <td>1004364.0</td>\n      <td>2</td>\n      <td>Receita Líquida</td>\n      <td>1000</td>\n    </tr>\n    <tr>\n      <th>40329</th>\n      <td>64.904.295/0001-03</td>\n      <td>2018-08-31</td>\n      <td>1</td>\n      <td>CAMIL ALIMENTOS S.A.</td>\n      <td>24228</td>\n      <td>DF Consolidado - Demonstração do Resultado</td>\n      <td>REAL</td>\n      <td>MIL</td>\n      <td>ÚLTIMO</td>\n      <td>2018-03-01</td>\n      <td>2018-08-31</td>\n      <td>183</td>\n      <td>Receita de Venda de Bens e/ou Serviços</td>\n      <td>2150002.0</td>\n      <td>2</td>\n      <td>Receita Líquida</td>\n      <td>1000</td>\n    </tr>\n    <tr>\n      <th>40379</th>\n      <td>64.904.295/0001-03</td>\n      <td>2018-11-30</td>\n      <td>1</td>\n      <td>CAMIL ALIMENTOS S.A.</td>\n      <td>24228</td>\n      <td>DF Consolidado - Demonstração do Resultado</td>\n      <td>REAL</td>\n      <td>MIL</td>\n      <td>ÚLTIMO</td>\n      <td>2018-03-01</td>\n      <td>2018-11-30</td>\n      <td>274</td>\n      <td>Receita de Venda de Bens e/ou Serviços</td>\n      <td>3416838.0</td>\n      <td>2</td>\n      <td>Receita Líquida</td>\n      <td>1000</td>\n    </tr>\n    <tr>\n      <th>3723</th>\n      <td>64.904.295/0001-03</td>\n      <td>2019-02-28</td>\n      <td>1</td>\n      <td>CAMIL ALIMENTOS S.A.</td>\n      <td>24228</td>\n      <td>DF Consolidado - Demonstração do Resultado</td>\n      <td>REAL</td>\n      <td>MILHAR</td>\n      <td>ÚLTIMO</td>\n      <td>2018-03-01</td>\n      <td>2019-02-28</td>\n      <td>364</td>\n      <td>Receita de Venda de Bens e/ou Serviços</td>\n      <td>4748825.0</td>\n      <td>2</td>\n      <td>Receita Líquida</td>\n      <td>1000</td>\n    </tr>\n    <tr>\n      <th>40042</th>\n      <td>64.904.295/0001-03</td>\n      <td>2019-05-31</td>\n      <td>1</td>\n      <td>CAMIL ALIMENTOS S.A.</td>\n      <td>24228</td>\n      <td>DF Consolidado - Demonstração do Resultado</td>\n      <td>REAL</td>\n      <td>MIL</td>\n      <td>ÚLTIMO</td>\n      <td>2019-03-01</td>\n      <td>2019-05-31</td>\n      <td>91</td>\n      <td>Receita de Venda de Bens e/ou Serviços</td>\n      <td>1237127.0</td>\n      <td>2</td>\n      <td>Receita Líquida</td>\n      <td>1000</td>\n    </tr>\n    <tr>\n      <th>40092</th>\n      <td>64.904.295/0001-03</td>\n      <td>2019-08-31</td>\n      <td>1</td>\n      <td>CAMIL ALIMENTOS S.A.</td>\n      <td>24228</td>\n      <td>DF Consolidado - Demonstração do Resultado</td>\n      <td>REAL</td>\n      <td>MIL</td>\n      <td>ÚLTIMO</td>\n      <td>2019-03-01</td>\n      <td>2019-08-31</td>\n      <td>183</td>\n      <td>Receita de Venda de Bens e/ou Serviços</td>\n      <td>2460682.0</td>\n      <td>2</td>\n      <td>Receita Líquida</td>\n      <td>1000</td>\n    </tr>\n    <tr>\n      <th>40142</th>\n      <td>64.904.295/0001-03</td>\n      <td>2019-11-30</td>\n      <td>1</td>\n      <td>CAMIL ALIMENTOS S.A.</td>\n      <td>24228</td>\n      <td>DF Consolidado - Demonstração do Resultado</td>\n      <td>REAL</td>\n      <td>MIL</td>\n      <td>ÚLTIMO</td>\n      <td>2019-03-01</td>\n      <td>2019-11-30</td>\n      <td>274</td>\n      <td>Receita de Venda de Bens e/ou Serviços</td>\n      <td>3904191.0</td>\n      <td>2</td>\n      <td>Receita Líquida</td>\n      <td>1000</td>\n    </tr>\n  </tbody>\n</table>\n</div>",
      "text/plain": "                 CNPJ_CIA   DT_REFER  VERSAO             DENOM_CIA  CD_CVM  \\\n14523  64.904.295/0001-03 2017-02-28       1  CAMIL ALIMENTOS S.A.   24228   \n40975  64.904.295/0001-03 2017-05-31       1  CAMIL ALIMENTOS S.A.   24228   \n41025  64.904.295/0001-03 2017-08-31       1  CAMIL ALIMENTOS S.A.   24228   \n41075  64.904.295/0001-03 2017-11-30       1  CAMIL ALIMENTOS S.A.   24228   \n14757  64.904.295/0001-03 2018-02-28       2  CAMIL ALIMENTOS S.A.   24228   \n40279  64.904.295/0001-03 2018-05-31       1  CAMIL ALIMENTOS S.A.   24228   \n40329  64.904.295/0001-03 2018-08-31       1  CAMIL ALIMENTOS S.A.   24228   \n40379  64.904.295/0001-03 2018-11-30       1  CAMIL ALIMENTOS S.A.   24228   \n3723   64.904.295/0001-03 2019-02-28       1  CAMIL ALIMENTOS S.A.   24228   \n40042  64.904.295/0001-03 2019-05-31       1  CAMIL ALIMENTOS S.A.   24228   \n40092  64.904.295/0001-03 2019-08-31       1  CAMIL ALIMENTOS S.A.   24228   \n40142  64.904.295/0001-03 2019-11-30       1  CAMIL ALIMENTOS S.A.   24228   \n\n                                        GRUPO_DFP MOEDA ESCALA_MOEDA  \\\n14523  DF Consolidado - Demonstração do Resultado  REAL       MILHAR   \n40975  DF Consolidado - Demonstração do Resultado  REAL          MIL   \n41025  DF Consolidado - Demonstração do Resultado  REAL          MIL   \n41075  DF Consolidado - Demonstração do Resultado  REAL          MIL   \n14757  DF Consolidado - Demonstração do Resultado  REAL       MILHAR   \n40279  DF Consolidado - Demonstração do Resultado  REAL          MIL   \n40329  DF Consolidado - Demonstração do Resultado  REAL          MIL   \n40379  DF Consolidado - Demonstração do Resultado  REAL          MIL   \n3723   DF Consolidado - Demonstração do Resultado  REAL       MILHAR   \n40042  DF Consolidado - Demonstração do Resultado  REAL          MIL   \n40092  DF Consolidado - Demonstração do Resultado  REAL          MIL   \n40142  DF Consolidado - Demonstração do Resultado  REAL          MIL   \n\n      ORDEM_EXERC DT_INI_EXERC DT_FIM_EXERC  CD_CONTA  \\\n14523      ÚLTIMO   2016-03-01   2017-02-28       364   \n40975      ÚLTIMO   2017-03-01   2017-05-31        91   \n41025      ÚLTIMO   2017-03-01   2017-08-31       183   \n41075      ÚLTIMO   2017-03-01   2017-11-30       274   \n14757      ÚLTIMO   2017-03-01   2018-02-28       364   \n40279      ÚLTIMO   2018-03-01   2018-05-31        91   \n40329      ÚLTIMO   2018-03-01   2018-08-31       183   \n40379      ÚLTIMO   2018-03-01   2018-11-30       274   \n3723       ÚLTIMO   2018-03-01   2019-02-28       364   \n40042      ÚLTIMO   2019-03-01   2019-05-31        91   \n40092      ÚLTIMO   2019-03-01   2019-08-31       183   \n40142      ÚLTIMO   2019-03-01   2019-11-30       274   \n\n                                     DS_CONTA   VL_CONTA  NIVEL  \\\n14523  Receita de Venda de Bens e/ou Serviços  4947730.0      2   \n40975  Receita de Venda de Bens e/ou Serviços  1225559.0      2   \n41025  Receita de Venda de Bens e/ou Serviços  2387444.0      2   \n41075  Receita de Venda de Bens e/ou Serviços  3546607.0      2   \n14757  Receita de Venda de Bens e/ou Serviços  4662940.0      2   \n40279  Receita de Venda de Bens e/ou Serviços  1004364.0      2   \n40329  Receita de Venda de Bens e/ou Serviços  2150002.0      2   \n40379  Receita de Venda de Bens e/ou Serviços  3416838.0      2   \n3723   Receita de Venda de Bens e/ou Serviços  4748825.0      2   \n40042  Receita de Venda de Bens e/ou Serviços  1237127.0      2   \n40092  Receita de Venda de Bens e/ou Serviços  2460682.0      2   \n40142  Receita de Venda de Bens e/ou Serviços  3904191.0      2   \n\n          DESC_SIMPLES  ESCALA  \n14523  Receita Líquida    1000  \n40975  Receita Líquida    1000  \n41025  Receita Líquida    1000  \n41075  Receita Líquida    1000  \n14757  Receita Líquida    1000  \n40279  Receita Líquida    1000  \n40329  Receita Líquida    1000  \n40379  Receita Líquida    1000  \n3723   Receita Líquida    1000  \n40042  Receita Líquida    1000  \n40092  Receita Líquida    1000  \n40142  Receita Líquida    1000  "
     },
     "execution_count": 85,
     "metadata": {},
     "output_type": "execute_result"
    }
   ],
   "source": [
    "# cvm = 94\n",
    "# cvm=1155\n",
    "cvm=24228\n",
    "T = DRE_NIVEL1e2[(DRE_NIVEL1e2.CD_CVM==cvm)&(DRE_NIVEL1e2.DESC_SIMPLES=='Receita Líquida')]\n",
    "T.CD_CONTA = T.apply(lambda x: (x['DT_FIM_EXERC']-x['DT_INI_EXERC']).days , axis=1)\n",
    "T.sort_values(['DT_INI_EXERC', 'DT_FIM_EXERC'])"
   ]
  },
  {
   "cell_type": "code",
   "execution_count": 51,
   "metadata": {},
   "outputs": [],
   "source": [
    "A = DRE.apply(lambda x: (x['DT_FIM_EXERC']-x['DT_INI_EXERC']).days , axis=1)"
   ]
  },
  {
   "cell_type": "code",
   "execution_count": 60,
   "metadata": {},
   "outputs": [
    {
     "data": {
      "text/plain": "array([ 30,  40,  89,  90,  91, 129, 132, 180, 181, 182, 183, 224, 265,\n       272, 273, 274, 283, 334, 364, 365])"
     },
     "execution_count": 60,
     "metadata": {},
     "output_type": "execute_result"
    }
   ],
   "source": [
    "B = A.unique()\n",
    "B.sort()\n",
    "B"
   ]
  },
  {
   "cell_type": "code",
   "execution_count": 11,
   "metadata": {},
   "outputs": [],
   "source": [
    "def getTrim (di,df):\n",
    "    n=(df-di)\n",
    "    if (n.days<95 and n.days>85):\n",
    "        return 1\n",
    "    elif n.days<190 and n.days>170:\n",
    "        return 2\n",
    "    elif n.days<275 and n.days>265:\n",
    "        return 3\n",
    "    elif n.days<366 and n.days>360:\n",
    "        return 4\n",
    "    else:\n",
    "        return np.nan\n",
    "    \n",
    "\n",
    "DRE['TRIM']=DRE.apply(lambda x: getTrim(x['DT_INI_EXERC'], x['DT_FIM_EXERC']), axis=1)\n",
    "DRE=DRE.dropna()\n",
    "\n",
    "#Create column with YEAR\n",
    "DRE['YEAR']=DRE.DT_FIM_EXERC.dt.year\n",
    "\n",
    "#Adicionar column do nível do dado conforme columna CD_CONTA. Ex.: '3.04.02' -> nível 3\n",
    "def getLevel(row):\n",
    "    return len(row['CD_CONTA'].split('.'))\n",
    "DRE['NIVEL']=DRE.apply(lambda r: getLevel(r), axis=1)\n",
    "DRE=DRE.sort_values(['CD_CVM', 'DS_CONTA', 'NIVEL', 'YEAR','TRIM'])\n",
    "DRE=DRE.reset_index(drop=True)"
   ]
  },
  {
   "cell_type": "code",
   "execution_count": 12,
   "metadata": {},
   "outputs": [],
   "source": [
    "#Operação de substração de linhas sucessoras\n",
    "DRE['TRIM_VL']=DRE.VL_CONTA-DRE.VL_CONTA.shift(+1)\n",
    "#Checando coerência da operação anterior\n",
    "DRE['CHECK']=(DRE.DS_CONTA==DRE.DS_CONTA.shift(+1)) & (DRE.CD_CVM==DRE.CD_CVM.shift(+1)) & (DRE.YEAR==DRE.YEAR.shift(+1)) & (DRE.TRIM-DRE.TRIM.shift(+1)==1)\n",
    "\n",
    "checkFalseIndex = DRE[(DRE['CHECK']==False) & (DRE['TRIM']==1)].index\n",
    "DRE.loc[checkFalseIndex, 'VL_CONTA']\n",
    "DRE.loc[checkFalseIndex, 'TRIM_VL']= DRE.loc[checkFalseIndex, 'VL_CONTA']\n",
    "DRE.loc[checkFalseIndex, 'CHECK'] = DRE.loc[checkFalseIndex, 'CHECK'].map({False: True})\n",
    "\n",
    "checkFalseIndex2 = DRE[(DRE['CHECK']==False) & (DRE['TRIM']!=1)].index\n",
    "DRE.loc[checkFalseIndex2, 'TRIM_VL'] = pd.np.nan"
   ]
  },
  {
   "cell_type": "code",
   "execution_count": 13,
   "metadata": {},
   "outputs": [],
   "source": [
    "#Filtrar para somente NIVEL 2\n",
    "DRE_NIVEL1 = DRE[DRE.NIVEL==2]\n",
    "DRE_NIVEL1['DESC_SIMPLES']=DRE_NIVEL1['DS_CONTA'].map(MapNivel2)\n",
    "DRE_NIVEL1.dropna(subset=['DESC_SIMPLES'], inplace=True)\n",
    "DRE_NIVEL1['CD_CONTA']=DRE_NIVEL1['DESC_SIMPLES'].map(MapaNiveis)\n",
    "#Filtrar para somente NIVEL 3\n",
    "DRE_NIVEL2 = DRE[DRE.NIVEL==3]\n",
    "DRE_NIVEL2['DESC_SIMPLES']=DRE_NIVEL2['DS_CONTA'].map(MapNivel3)\n",
    "DRE_NIVEL2.dropna(subset=['DESC_SIMPLES'], inplace=True)\n",
    "DRE_NIVEL2['CD_CONTA']=DRE_NIVEL2['DESC_SIMPLES'].map(MapaNiveis)\n",
    "\n",
    "#\n",
    "DRE_NIVEL1e2=pd.concat([DRE_NIVEL1,DRE_NIVEL2])\n",
    "#Mapeamento da Escala dos Valores\n",
    "DRE_NIVEL1e2['ESCALA'] = DRE_NIVEL1e2.ESCALA_MOEDA.map({'MIL': 1000, 'MILHAR': 1000, 'UNIDADE': 1})"
   ]
  },
  {
   "cell_type": "code",
   "execution_count": 14,
   "metadata": {},
   "outputs": [],
   "source": [
    "def calculateAV(r):\n",
    "    yr = r.YEAR\n",
    "    trim = r.TRIM\n",
    "    receita = df[(df.YEAR==yr) & (df.TRIM == trim) & (df.DESC_SIMPLES == 'Receita Líquida')]['TRIM_VL'].values[0]\n",
    "    valor = r.TRIM_VL\n",
    "    return valor/receita\n",
    "\n",
    "def calculateMarginTrim(r):\n",
    "    campo = r.DESC_SIMPLES\n",
    "    if  campo in ['EBIT', 'Lucro Líquido', 'EBT', 'Lucro Bruto']:\n",
    "        yr = r.YEAR\n",
    "        trim = r.TRIM\n",
    "        receita = df[(df.YEAR==yr) & (df.TRIM == trim) & (df.DESC_SIMPLES == 'Receita Líquida')]['TRIM_VL'].values[0]\n",
    "        valor = r.TRIM_VL\n",
    "        return valor/receita\n",
    "\n",
    "def calculateMarginYear(r):\n",
    "    campo = r.DESC_SIMPLES\n",
    "    if  campo in ['EBIT', 'Lucro Líquido', 'EBT', 'Lucro Bruto']:\n",
    "        yr = r.YEAR\n",
    "        trim = r.TRIM\n",
    "        receita = df[(df.YEAR==yr) & (df.TRIM == trim) & (df.DESC_SIMPLES == 'Receita Líquida')]['VL_CONTA'].values[0]\n",
    "        valor = r.VL_CONTA\n",
    "        return valor/receita\n",
    "\n",
    "def calculateMarginTTM(r):\n",
    "    campo = r.DESC_SIMPLES\n",
    "    if  campo in ['EBIT', 'Lucro Líquido', 'EBT', 'Lucro Bruto']:\n",
    "        yr = r.YEAR\n",
    "        trim = r.TRIM\n",
    "        receita = df[(df.YEAR==yr) & (df.TRIM == trim) & (df.DESC_SIMPLES == 'Receita Líquida')]['TTM'].values[0]\n",
    "        valor = r.TTM\n",
    "        return valor/receita"
   ]
  },
  {
   "cell_type": "code",
   "execution_count": 24,
   "metadata": {},
   "outputs": [
    {
     "name": "stdout",
     "output_type": "stream",
     "text": "YEAR  TRIM                    DESC_SIMPLES  CD_CONTA  TRIM_VL  VL_CONTA  \\\n0   2015   1.0                 Receita Líquida       1.0     18.0      18.0   \n1   2015   1.0                          Custos       2.0    -12.0     -12.0   \n2   2015   1.0                     Lucro Bruto       3.0      6.0       6.0   \n3   2015   1.0  Despesas/Receitas Operacionais       4.0  -1007.0   -1007.0   \n4   2015   1.0                            EBIT       7.0  -1001.0   -1001.0   \n5   2015   1.0            Resultado Financeiro       8.0   -574.0    -574.0   \n6   2015   1.0            Receitas Financeiras       8.1     37.0      37.0   \n7   2015   1.0            Despesas Financeiras       8.2   -611.0    -611.0   \n8   2015   1.0                             EBT       9.0  -1575.0   -1575.0   \n9   2015   1.0                        Impostos      10.0      0.0       0.0   \n10  2015   1.0                   Lucro Líquido      11.0  -1575.0   -1575.0   \n11  2015   2.0                 Receita Líquida       1.0     15.0      33.0   \n12  2015   2.0                          Custos       2.0    -14.0     -26.0   \n13  2015   2.0                     Lucro Bruto       3.0      1.0       7.0   \n14  2015   2.0  Despesas/Receitas Operacionais       4.0  -1291.0   -2298.0   \n15  2015   2.0                            EBIT       7.0  -1290.0   -2291.0   \n16  2015   2.0            Resultado Financeiro       8.0   -645.0   -1219.0   \n17  2015   2.0            Receitas Financeiras       8.1     33.0      70.0   \n18  2015   2.0            Despesas Financeiras       8.2   -678.0   -1289.0   \n19  2015   2.0                             EBT       9.0  -1935.0   -3510.0   \n20  2015   2.0                        Impostos      10.0      0.0       0.0   \n21  2015   2.0                   Lucro Líquido      11.0  -1935.0   -3510.0   \n\n    NIVEL  ESCALA        AH  TTM          AV  \n0       2    1000       NaN  NaN    1.000000  \n1       2    1000       NaN  NaN   -0.666667  \n2       2    1000       NaN  NaN    0.333333  \n3       2    1000       NaN  NaN  -55.944444  \n4       2    1000       NaN  NaN  -55.611111  \n5       2    1000       NaN  NaN  -31.888889  \n6       3    1000       NaN  NaN    2.055556  \n7       3    1000       NaN  NaN  -33.944444  \n8       2    1000       NaN  NaN  -87.500000  \n9       2    1000       NaN  NaN    0.000000  \n10      2    1000       NaN  NaN  -87.500000  \n11      2    1000 -0.166667  NaN    1.000000  \n12      2    1000  0.166667  NaN   -0.933333  \n13      2    1000 -0.833333  NaN    0.066667  \n14      2    1000  0.282026  NaN  -86.066667  \n15      2    1000  0.288711  NaN  -86.000000  \n16      2    1000  0.123693  NaN  -43.000000  \n17      3    1000 -0.108108  NaN    2.200000  \n18      3    1000  0.109656  NaN  -45.200000  \n19      2    1000  0.228571  NaN -129.000000  \n20      2    1000       NaN  NaN    0.000000  \n21      2    1000  0.228571  NaN -129.000000  \n"
    }
   ],
   "source": [
    "for cvm in DRE_NIVEL1e2.CD_CVM.unique()[0:1]:\n",
    "    cvm= 3174\n",
    "    df = DRE_NIVEL1e2[DRE_NIVEL1e2.CD_CVM==cvm].groupby(['YEAR','TRIM','DESC_SIMPLES','CD_CONTA'])['TRIM_VL', 'VL_CONTA', 'NIVEL','ESCALA'].sum().reset_index()\n",
    "\n",
    "    #Sort para garantir o sequenciamento correto\n",
    "    df = df.sort_values(['DESC_SIMPLES', 'YEAR','TRIM']).reset_index(drop=True)\n",
    "    #Calculate Variação entre Trimestre - AH (Análise Horizontal)\n",
    "    cutTwo = (df.DESC_SIMPLES == df.DESC_SIMPLES.shift(1)) \n",
    "    AH = []\n",
    "    for i, row in df.iterrows():\n",
    "        if cutTwo[i]:\n",
    "            ah = (df.iloc[i]['TRIM_VL']-df.iloc[i-1]['TRIM_VL'])/df.iloc[i-1]['TRIM_VL']\n",
    "            AH.append(ah)\n",
    "        else:\n",
    "            AH.append(None)\n",
    "    df['AH']=pd.Series(AH)\n",
    "    # Calculate TTM (Soma das últimas 4 rows)\n",
    "    cutFour = (df.DESC_SIMPLES == df.DESC_SIMPLES.shift(1)) & (df.DESC_SIMPLES == df.DESC_SIMPLES.shift(2)) & (df.DESC_SIMPLES == df.DESC_SIMPLES.shift(3))\n",
    "    TTM = []\n",
    "    for i, row in df.iterrows():\n",
    "        if cutFour[i]:\n",
    "            TTM.append(sum(df.iloc[i-3:i+1]['TRIM_VL'].values))\n",
    "        else:\n",
    "            TTM.append(np.nan)\n",
    "    df['TTM']=pd.Series(TTM)\n",
    "    #Sort novamente\n",
    "    df = df.sort_values(['YEAR','TRIM','CD_CONTA']).reset_index(drop=True)\n",
    "    #Cálculo da Variação Vertical no Trimestre - AV (Análise Vertical)\n",
    "    df['AV'] = df.apply(lambda r: calculateAV(r), axis=1)\n",
    "    #Cálculo das Margins\n",
    "    print(df)\n",
    "    df['MARGIN_TRIM']=df.apply(lambda r: calculateMarginTrim(r), axis=1)\n",
    "    df['MARGIN_ANO']=df.apply(lambda r: calculateMarginYear(r), axis=1)\n",
    "    df['MARGIN_TTM']=df.apply(lambda r: calculateMarginTTM(r), axis=1)\n",
    "    #Adicionando o TRIM_ANO como coluna\n",
    "    df['TRIM_ANO']=df.apply(lambda r: \"%dT%d\" %(r['TRIM'],r['YEAR']), axis=1)\n",
    "    #Gravando arquivo\n",
    "    data = {\"data\" : df.to_dict('records')}\n",
    "    data = {\n",
    "        \"cvm\": int(cvm), \n",
    "        \"data\" : data,\n",
    "    }\n",
    "    with open('./output_cvm/dre/'+str(cvm)+'.json', 'w') as outfile:\n",
    "        json.dump(data, outfile, indent=2)"
   ]
  },
  {
   "cell_type": "code",
   "execution_count": 292,
   "metadata": {},
   "outputs": [
    {
     "name": "stdout",
     "output_type": "stream",
     "text": "Uploading 94.json...\n \nUploading 1023.json...\n \nUploading 1520.json...\n \nUploading 1384.json...\n \nUploading 5410.json...\n \nUploading 701.json...\n \nUploading 1325.json...\n \nUploading 1562.json...\n \nUploading 906.json...\n \nUploading 1155.json...\n \nUploading 1210.json...\n \n"
    }
   ],
   "source": [
    "### UPLOAD DOCUMENTS TO FIRESTORE ####\n",
    "path_to_output_folder = './output_cvm/dre/'\n",
    "json_files = [pos_json for pos_json in os.listdir(path_to_output_folder) if pos_json.endswith('.json')]\n",
    "for file in json_files:\n",
    "    print('Uploading ' + file + '...')\n",
    "    uploadDocumentToFirestore('dre',path_to_output_folder+file,file.split('.')[0])\n",
    "    print(' ')"
   ]
  },
  {
   "cell_type": "code",
   "execution_count": null,
   "metadata": {},
   "outputs": [],
   "source": []
  }
 ],
 "metadata": {
  "kernelspec": {
   "display_name": "Python 3",
   "language": "python",
   "name": "python3"
  },
  "language_info": {
   "codemirror_mode": {
    "name": "ipython",
    "version": 3
   },
   "file_extension": ".py",
   "mimetype": "text/x-python",
   "name": "python",
   "nbconvert_exporter": "python",
   "pygments_lexer": "ipython3",
   "version": "3.6.0-final"
  }
 },
 "nbformat": 4,
 "nbformat_minor": 1
}