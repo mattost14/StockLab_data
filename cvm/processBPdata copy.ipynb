{
 "cells": [
  {
   "cell_type": "code",
   "execution_count": 3,
   "metadata": {},
   "outputs": [],
   "source": [
    "import numpy as np # linear algebra\n",
    "import pandas as pd # data processing, CSV file I/O (e.g. pd.read_csv)\n",
    "import matplotlib, json\n",
    "import matplotlib.pyplot as plt\n",
    "import sys\n",
    "sys.path.append('/Users/BrunoMattos/Documents2/Dev/stocklab_data/Firestore')\n",
    "#from uploadToFirestore import uploadDocumentToFirestore\n",
    "import os\n",
    "#print(os.listdir(\"./dre_input\"))\n",
    "itr_input = './input_cvm/itr/'\n",
    "dfp_input = './input_cvm/dfp/'\n",
    "# print(os.listdir(\"./input_cvm/itr\"))"
   ]
  },
  {
   "cell_type": "code",
   "execution_count": 4,
   "metadata": {},
   "outputs": [],
   "source": [
    "MapaNiveis = {\n",
    "    'Ativo Total' : '1',\n",
    "        'Ativo Circulante': '1.1',\n",
    "            'Caixa e Equivalentes de Caixa': '1.1.1',\n",
    "            'Aplicações Financeiras': '1.1.2',\n",
    "            'Contas a Receber': '1.1.3',\n",
    "            'Estoques': '1.1.4',\n",
    "        'Ativo Não Circulante': '1.2',\n",
    "            'Ativo Realizável a Longo Prazo': '1.2.1',\n",
    "            'Investimentos' : '1.2.2',\n",
    "            'Imobilizado' : '1.2.3',\n",
    "            'Intangível' : '1.2.4',\n",
    "\n",
    "    'Passivo Total': '2',\n",
    "        'Passivo Circulante' : '2.1',\n",
    "            'Empréstimos e Financiamentos': '2.1.1',\n",
    "        'Passivo Não Circulante' : '2.2',\n",
    "            'Empréstimos e Financiamentos a Longo Prazo': '2.2.1',\n",
    "        'Patrimônio Líquido' : '2.3',\n",
    "                'Capital Social Realizado': '2.3.1',\n",
    "                'Reservas de Capital': '2.3.2',\n",
    "                'Reservas de Lucros': '2.3.3',\n",
    "                'Lucros/Prejuízos Acumulados': '2.3.4',\n",
    "}\n",
    "MapNivel1 = {\n",
    "    'Ativo Total' : 'Ativo Total',\n",
    "    'Passivo Total' : 'Passivo Total',\n",
    "}\n",
    "MapNivel2 = {\n",
    "    #Ativos\n",
    "    'Ativo Circulante' : 'Ativo Circulante', \n",
    "    'Ativo Não Circulante': 'Ativo Não Circulante',\n",
    "    'Ativo Realizável a Longo Prazo' : 'Ativo Não Circulante',\n",
    "    'Ativo Permanente': 'Ativo Não Circulante',\n",
    "    #Passivos\n",
    "    'Passivo Circulante' : 'Passivo Circulante',\n",
    "    'Passivo Não Circulante' : 'Passivo Não Circulante',\n",
    "    'Patrimônio Líquido' : 'Patrimônio Líquido',\n",
    "    'Patrimônio Líquido Consolidado' : 'Patrimônio Líquido',\n",
    "}\n",
    "MapNivel3 = {\n",
    "    #Ativo Circulante - subitens\n",
    "    'Caixa e Equivalentes de Caixa':'Caixa e Equivalentes de Caixa',\n",
    "    'Disponibilidades':'Caixa e Equivalentes de Caixa',\n",
    "    'Aplicações Financeiras':'Aplicações Financeiras',\n",
    "    'Aplicações Interfinanceiras de Liquidez':'Aplicações Financeiras',\n",
    "    'Contas a Receber':'Contas a Receber',\n",
    "    'Estoques': 'Estoques',\n",
    "    #Ativo Não Circulante - subitens\n",
    "    'Ativo Realizável a Longo Prazo':'Ativo Realizável a Longo Prazo',\n",
    "    'Investimentos':'Investimentos',\n",
    "    'Imobilizado': 'Imobilizado',\n",
    "    'Intangível': 'Intangível',\n",
    "    #Passivo Circulante - subitens\n",
    "    'Empréstimos e Financiamentos':'Empréstimos e Financiamentos',\n",
    "    #Passivo Não Circulante - subitens\n",
    "    'Empréstimos e Financiamentos a Longo Prazo': 'Empréstimos e Financiamentos a Longo Prazo',\n",
    "    #Patrimonio Liquido - subitens\n",
    "    'Capital Social Realizado': 'Capital Social Realizado',\n",
    "    'Reservas de Capital': 'Reservas de Capital',\n",
    "    'Reservas de Lucros': 'Reservas de Lucros',\n",
    "    'Lucros/Prejuízos Acumulados': 'Lucros/Prejuízos Acumulados',\n",
    "}\n",
    "MapGrupo = {\n",
    "    'DF Consolidado - Balanço Patrimonial Ativo': 'Ativo Consolidado',\n",
    "    'DF Individual - Balanço Patrimonial Ativo': 'Ativo Individual',\n",
    "    'DF Consolidado - Balanço Patrimonial Passivo': 'Passivo Consolidado',\n",
    "    'DF Individual - Balanço Patrimonial Passivo': 'Passivo Individual',\n",
    "}"
   ]
  },
  {
   "cell_type": "code",
   "execution_count": 5,
   "metadata": {},
   "outputs": [],
   "source": [
    "#BALANÇO PATRIMONIAL ATIVO\n",
    "\n",
    "# --- ITR\n",
    "# BPA_ITR_CON = pd.DataFrame() \n",
    "# path = itr_input + 'itr_cia_aberta_bpa_con_'\n",
    "# for year in range(2015,2020,1):\n",
    "#     BPA_ITR_CON = pd.concat([BPA_ITR_CON, pd.read_csv(path+str(year)+'.csv', thousands=',', sep=';', encoding='latin-1')])\n",
    "\n",
    "# BPA_ITR_IND = pd.DataFrame()\n",
    "# path = itr_input + 'itr_cia_aberta_bpa_ind_'\n",
    "# for year in range(2015,2020,1):\n",
    "#     BPA_ITR_IND = pd.concat([BPA_ITR_IND, pd.read_csv(path+str(year)+'.csv', thousands=',', sep=';', encoding='latin-1')])\n",
    "\n",
    "# --- DFP\n",
    "BPA_DFP_CON = pd.DataFrame() \n",
    "path = dfp_input + 'bpa_cia_aberta_con_'\n",
    "for year in range(2015,2020,1):\n",
    "    BPA_DFP_CON = pd.concat([BPA_DFP_CON, pd.read_csv(path+str(year)+'.csv', thousands=',', sep=';', encoding='latin-1')])\n",
    "\n",
    "BPA_DFP_IND = pd.DataFrame()\n",
    "path = dfp_input + 'bpa_cia_aberta_ind_'\n",
    "for year in range(2015,2020,1):\n",
    "    BPA_DFP_IND = pd.concat([BPA_DFP_IND, pd.read_csv(path+str(year)+'.csv', thousands=',', sep=';', encoding='latin-1')])\n",
    "\n",
    "BPA = pd.concat([BPA_ITR_CON, BPA_DFP_CON]) \n",
    "\n",
    "#BALANÇO PATRIMONIAL PASSIVO\n",
    "\n",
    "# --- ITR\n",
    "# BPP_ITR_CON = pd.DataFrame() \n",
    "# path = itr_input + 'itr_cia_aberta_bpp_con_'\n",
    "# for year in range(2015,2020,1):\n",
    "#     BPP_ITR_CON = pd.concat([BPP_ITR_CON, pd.read_csv(path+str(year)+'.csv', thousands=',', sep=';', encoding='latin-1')])\n",
    "\n",
    "# BPP_ITR_IND = pd.DataFrame()\n",
    "# path = itr_input + 'itr_cia_aberta_bpp_ind_'\n",
    "# for year in range(2015,2020,1):\n",
    "#     BPP_ITR_IND = pd.concat([BPP_ITR_IND, pd.read_csv(path+str(year)+'.csv', thousands=',', sep=';', encoding='latin-1')])\n",
    "\n",
    "# --- DFP\n",
    "BPP_DFP_CON = pd.DataFrame() \n",
    "path = dfp_input + 'bpp_cia_aberta_con_'\n",
    "for year in range(2015,2020,1):\n",
    "    BPP_DFP_CON = pd.concat([BPP_DFP_CON, pd.read_csv(path+str(year)+'.csv', thousands=',', sep=';', encoding='latin-1')])\n",
    "\n",
    "BPP_DFP_IND = pd.DataFrame()\n",
    "path = dfp_input + 'bpp_cia_aberta_ind_'\n",
    "for year in range(2015,2020,1):\n",
    "    BPP_DFP_IND = pd.concat([BPP_DFP_IND, pd.read_csv(path+str(year)+'.csv', thousands=',', sep=';', encoding='latin-1')])\n",
    "\n",
    "BPP = pd.concat([BPP_ITR_CON,  BPP_DFP_CON,]) \n",
    "\n",
    "BP = pd.concat([BPA,BPP])"
   ]
  },
  {
   "cell_type": "code",
   "execution_count": 6,
   "metadata": {},
   "outputs": [
    {
     "output_type": "stream",
     "name": "stdout",
     "text": "1 - Gerando NÍVEIS ...\n"
    }
   ],
   "source": [
    "#Drop ORDEM_EXERC==PENÚLTIMO\n",
    "BP=BP[BP.ORDEM_EXERC=='ÚLTIMO']\n",
    "print('1 - Gerando NÍVEIS ...')\n",
    "def getLevel(row):\n",
    "    return len(row['CD_CONTA'].split('.'))   \n",
    "BP['NIVEL']=BP.apply(lambda r: getLevel(r), axis=1)"
   ]
  },
  {
   "cell_type": "code",
   "execution_count": 21,
   "metadata": {},
   "outputs": [],
   "source": [
    "BP.DT_FIM_EXERC=pd.to_datetime(BP.DT_FIM_EXERC)"
   ]
  },
  {
   "cell_type": "code",
   "execution_count": 18,
   "metadata": {},
   "outputs": [
    {
     "output_type": "execute_result",
     "data": {
      "text/plain": "array(['Ativo Circulante', 'Ativo Não Circulante', 'Passivo Circulante',\n       'Passivo Não Circulante', 'Patrimônio Líquido Consolidado',\n       'Patrimônio Líquido'], dtype=object)"
     },
     "metadata": {},
     "execution_count": 18
    }
   ],
   "source": [
    "BP[(BP.CD_CVM==94) & (BP.NIVEL==2)].DS_CONTA.unique()"
   ]
  },
  {
   "cell_type": "code",
   "execution_count": 30,
   "metadata": {},
   "outputs": [],
   "source": [
    "TESTE = BP[(BP.CD_CVM==19348) & (BP.NIVEL==2) & (BP.YEAR==2019)&(BP.TRIM==4)]#.groupby(['CD_CONTA','DS_CONTA']).sum()"
   ]
  },
  {
   "cell_type": "code",
   "execution_count": 31,
   "metadata": {},
   "outputs": [
    {
     "output_type": "execute_result",
     "data": {
      "text/plain": "                 CNPJ_CIA    DT_REFER  VERSAO                   DENOM_CIA  \\\n6197   60.872.504/0001-23  2019-12-31       1  ITAU UNIBANCO HOLDING S.A.   \n6199   60.872.504/0001-23  2019-12-31       1  ITAU UNIBANCO HOLDING S.A.   \n6211   60.872.504/0001-23  2019-12-31       1  ITAU UNIBANCO HOLDING S.A.   \n6213   60.872.504/0001-23  2019-12-31       1  ITAU UNIBANCO HOLDING S.A.   \n6217   60.872.504/0001-23  2019-12-31       1  ITAU UNIBANCO HOLDING S.A.   \n6227   60.872.504/0001-23  2019-12-31       1  ITAU UNIBANCO HOLDING S.A.   \n6233   60.872.504/0001-23  2019-12-31       1  ITAU UNIBANCO HOLDING S.A.   \n11747  60.872.504/0001-23  2019-12-31       1  ITAU UNIBANCO HOLDING S.A.   \n11767  60.872.504/0001-23  2019-12-31       1  ITAU UNIBANCO HOLDING S.A.   \n11785  60.872.504/0001-23  2019-12-31       1  ITAU UNIBANCO HOLDING S.A.   \n11855  60.872.504/0001-23  2019-12-31       1  ITAU UNIBANCO HOLDING S.A.   \n11857  60.872.504/0001-23  2019-12-31       1  ITAU UNIBANCO HOLDING S.A.   \n11859  60.872.504/0001-23  2019-12-31       1  ITAU UNIBANCO HOLDING S.A.   \n11861  60.872.504/0001-23  2019-12-31       1  ITAU UNIBANCO HOLDING S.A.   \n11863  60.872.504/0001-23  2019-12-31       1  ITAU UNIBANCO HOLDING S.A.   \n11865  60.872.504/0001-23  2019-12-31       1  ITAU UNIBANCO HOLDING S.A.   \n11867  60.872.504/0001-23  2019-12-31       1  ITAU UNIBANCO HOLDING S.A.   \n11873  60.872.504/0001-23  2019-12-31       1  ITAU UNIBANCO HOLDING S.A.   \n21893  60.872.504/0001-23  2019-12-31       1  ITAU UNIBANCO HOLDING S.A.   \n21913  60.872.504/0001-23  2019-12-31       1  ITAU UNIBANCO HOLDING S.A.   \n21933  60.872.504/0001-23  2019-12-31       1  ITAU UNIBANCO HOLDING S.A.   \n21935  60.872.504/0001-23  2019-12-31       1  ITAU UNIBANCO HOLDING S.A.   \n\n       CD_CVM                                     GRUPO_DFP MOEDA  \\\n6197    19348    DF Consolidado - Balanço Patrimonial Ativo  REAL   \n6199    19348    DF Consolidado - Balanço Patrimonial Ativo  REAL   \n6211    19348    DF Consolidado - Balanço Patrimonial Ativo  REAL   \n6213    19348    DF Consolidado - Balanço Patrimonial Ativo  REAL   \n6217    19348    DF Consolidado - Balanço Patrimonial Ativo  REAL   \n6227    19348    DF Consolidado - Balanço Patrimonial Ativo  REAL   \n6233    19348    DF Consolidado - Balanço Patrimonial Ativo  REAL   \n11747   19348     DF Individual - Balanço Patrimonial Ativo  REAL   \n11767   19348     DF Individual - Balanço Patrimonial Ativo  REAL   \n11785   19348     DF Individual - Balanço Patrimonial Ativo  REAL   \n11855   19348  DF Consolidado - Balanço Patrimonial Passivo  REAL   \n11857   19348  DF Consolidado - Balanço Patrimonial Passivo  REAL   \n11859   19348  DF Consolidado - Balanço Patrimonial Passivo  REAL   \n11861   19348  DF Consolidado - Balanço Patrimonial Passivo  REAL   \n11863   19348  DF Consolidado - Balanço Patrimonial Passivo  REAL   \n11865   19348  DF Consolidado - Balanço Patrimonial Passivo  REAL   \n11867   19348  DF Consolidado - Balanço Patrimonial Passivo  REAL   \n11873   19348  DF Consolidado - Balanço Patrimonial Passivo  REAL   \n21893   19348   DF Individual - Balanço Patrimonial Passivo  REAL   \n21913   19348   DF Individual - Balanço Patrimonial Passivo  REAL   \n21933   19348   DF Individual - Balanço Patrimonial Passivo  REAL   \n21935   19348   DF Individual - Balanço Patrimonial Passivo  REAL   \n\n      ESCALA_MOEDA ORDEM_EXERC DT_FIM_EXERC CD_CONTA  \\\n6197        MILHAR      ÚLTIMO   2019-12-31     1.01   \n6199        MILHAR      ÚLTIMO   2019-12-31     1.02   \n6211        MILHAR      ÚLTIMO   2019-12-31     1.03   \n6213        MILHAR      ÚLTIMO   2019-12-31     1.04   \n6217        MILHAR      ÚLTIMO   2019-12-31     1.05   \n6227        MILHAR      ÚLTIMO   2019-12-31     1.06   \n6233        MILHAR      ÚLTIMO   2019-12-31     1.07   \n11747       MILHAR      ÚLTIMO   2019-12-31     1.01   \n11767       MILHAR      ÚLTIMO   2019-12-31     1.02   \n11785       MILHAR      ÚLTIMO   2019-12-31     1.03   \n11855       MILHAR      ÚLTIMO   2019-12-31     2.01   \n11857       MILHAR      ÚLTIMO   2019-12-31     2.02   \n11859       MILHAR      ÚLTIMO   2019-12-31     2.03   \n11861       MILHAR      ÚLTIMO   2019-12-31     2.04   \n11863       MILHAR      ÚLTIMO   2019-12-31     2.05   \n11865       MILHAR      ÚLTIMO   2019-12-31     2.06   \n11867       MILHAR      ÚLTIMO   2019-12-31     2.07   \n11873       MILHAR      ÚLTIMO   2019-12-31     2.08   \n21893       MILHAR      ÚLTIMO   2019-12-31     2.01   \n21913       MILHAR      ÚLTIMO   2019-12-31     2.02   \n21933       MILHAR      ÚLTIMO   2019-12-31     2.03   \n21935       MILHAR      ÚLTIMO   2019-12-31     2.05   \n\n                                                DS_CONTA      VL_CONTA  NIVEL  \\\n6197                       Caixa e Equivalentes de Caixa  3.036700e+07      2   \n6199                                  Ativos Financeiros  1.501481e+09      2   \n6211                                  Tributos Diferidos  4.896000e+07      2   \n6213                                       Outros Ativos  1.469100e+07      2   \n6217                                       Investimentos  1.509700e+07      2   \n6227                                         Imobilizado  7.166000e+06      2   \n6233                                          Intangível  1.971900e+07      2   \n11747                                   Ativo Circulante  2.647017e+07      2   \n11767                     Ativo Realizável a Longo Prazo  4.210483e+07      2   \n11785                                   Ativo Permanente  1.137722e+08      2   \n11855  Passivos Financeiros ao Valor Justo através do...  0.000000e+00      2   \n11857  Outros Passivos Financeiros Designados ao Valo...  4.802900e+07      2   \n11859           Passivos Financeiros ao Custo Amortizado  1.159830e+09      2   \n11861                                          Provisões  2.145400e+07      2   \n11863                                   Passivos Fiscais  7.891000e+06      2   \n11865                                    Outros Passivos  2.508120e+08      2   \n11867  Passivos sobre Ativos Não Correntes a Venda e ...  0.000000e+00      2   \n11873                     Patrimônio Líquido Consolidado  1.494650e+08      2   \n21893                                 Passivo Circulante  5.096004e+06      2   \n21913                     Passivo Exigível a Longo Prazo  4.500693e+07      2   \n21933                   Resultados de Exercícios Futuros  0.000000e+00      2   \n21935                                 Patrimônio Líquido  1.322442e+08      2   \n\n       TRIM  YEAR  \n6197      4  2019  \n6199      4  2019  \n6211      4  2019  \n6213      4  2019  \n6217      4  2019  \n6227      4  2019  \n6233      4  2019  \n11747     4  2019  \n11767     4  2019  \n11785     4  2019  \n11855     4  2019  \n11857     4  2019  \n11859     4  2019  \n11861     4  2019  \n11863     4  2019  \n11865     4  2019  \n11867     4  2019  \n11873     4  2019  \n21893     4  2019  \n21913     4  2019  \n21933     4  2019  \n21935     4  2019  ",
      "text/html": "<div>\n<style scoped>\n    .dataframe tbody tr th:only-of-type {\n        vertical-align: middle;\n    }\n\n    .dataframe tbody tr th {\n        vertical-align: top;\n    }\n\n    .dataframe thead th {\n        text-align: right;\n    }\n</style>\n<table border=\"1\" class=\"dataframe\">\n  <thead>\n    <tr style=\"text-align: right;\">\n      <th></th>\n      <th>CNPJ_CIA</th>\n      <th>DT_REFER</th>\n      <th>VERSAO</th>\n      <th>DENOM_CIA</th>\n      <th>CD_CVM</th>\n      <th>GRUPO_DFP</th>\n      <th>MOEDA</th>\n      <th>ESCALA_MOEDA</th>\n      <th>ORDEM_EXERC</th>\n      <th>DT_FIM_EXERC</th>\n      <th>CD_CONTA</th>\n      <th>DS_CONTA</th>\n      <th>VL_CONTA</th>\n      <th>NIVEL</th>\n      <th>TRIM</th>\n      <th>YEAR</th>\n    </tr>\n  </thead>\n  <tbody>\n    <tr>\n      <th>6197</th>\n      <td>60.872.504/0001-23</td>\n      <td>2019-12-31</td>\n      <td>1</td>\n      <td>ITAU UNIBANCO HOLDING S.A.</td>\n      <td>19348</td>\n      <td>DF Consolidado - Balanço Patrimonial Ativo</td>\n      <td>REAL</td>\n      <td>MILHAR</td>\n      <td>ÚLTIMO</td>\n      <td>2019-12-31</td>\n      <td>1.01</td>\n      <td>Caixa e Equivalentes de Caixa</td>\n      <td>3.036700e+07</td>\n      <td>2</td>\n      <td>4</td>\n      <td>2019</td>\n    </tr>\n    <tr>\n      <th>6199</th>\n      <td>60.872.504/0001-23</td>\n      <td>2019-12-31</td>\n      <td>1</td>\n      <td>ITAU UNIBANCO HOLDING S.A.</td>\n      <td>19348</td>\n      <td>DF Consolidado - Balanço Patrimonial Ativo</td>\n      <td>REAL</td>\n      <td>MILHAR</td>\n      <td>ÚLTIMO</td>\n      <td>2019-12-31</td>\n      <td>1.02</td>\n      <td>Ativos Financeiros</td>\n      <td>1.501481e+09</td>\n      <td>2</td>\n      <td>4</td>\n      <td>2019</td>\n    </tr>\n    <tr>\n      <th>6211</th>\n      <td>60.872.504/0001-23</td>\n      <td>2019-12-31</td>\n      <td>1</td>\n      <td>ITAU UNIBANCO HOLDING S.A.</td>\n      <td>19348</td>\n      <td>DF Consolidado - Balanço Patrimonial Ativo</td>\n      <td>REAL</td>\n      <td>MILHAR</td>\n      <td>ÚLTIMO</td>\n      <td>2019-12-31</td>\n      <td>1.03</td>\n      <td>Tributos Diferidos</td>\n      <td>4.896000e+07</td>\n      <td>2</td>\n      <td>4</td>\n      <td>2019</td>\n    </tr>\n    <tr>\n      <th>6213</th>\n      <td>60.872.504/0001-23</td>\n      <td>2019-12-31</td>\n      <td>1</td>\n      <td>ITAU UNIBANCO HOLDING S.A.</td>\n      <td>19348</td>\n      <td>DF Consolidado - Balanço Patrimonial Ativo</td>\n      <td>REAL</td>\n      <td>MILHAR</td>\n      <td>ÚLTIMO</td>\n      <td>2019-12-31</td>\n      <td>1.04</td>\n      <td>Outros Ativos</td>\n      <td>1.469100e+07</td>\n      <td>2</td>\n      <td>4</td>\n      <td>2019</td>\n    </tr>\n    <tr>\n      <th>6217</th>\n      <td>60.872.504/0001-23</td>\n      <td>2019-12-31</td>\n      <td>1</td>\n      <td>ITAU UNIBANCO HOLDING S.A.</td>\n      <td>19348</td>\n      <td>DF Consolidado - Balanço Patrimonial Ativo</td>\n      <td>REAL</td>\n      <td>MILHAR</td>\n      <td>ÚLTIMO</td>\n      <td>2019-12-31</td>\n      <td>1.05</td>\n      <td>Investimentos</td>\n      <td>1.509700e+07</td>\n      <td>2</td>\n      <td>4</td>\n      <td>2019</td>\n    </tr>\n    <tr>\n      <th>6227</th>\n      <td>60.872.504/0001-23</td>\n      <td>2019-12-31</td>\n      <td>1</td>\n      <td>ITAU UNIBANCO HOLDING S.A.</td>\n      <td>19348</td>\n      <td>DF Consolidado - Balanço Patrimonial Ativo</td>\n      <td>REAL</td>\n      <td>MILHAR</td>\n      <td>ÚLTIMO</td>\n      <td>2019-12-31</td>\n      <td>1.06</td>\n      <td>Imobilizado</td>\n      <td>7.166000e+06</td>\n      <td>2</td>\n      <td>4</td>\n      <td>2019</td>\n    </tr>\n    <tr>\n      <th>6233</th>\n      <td>60.872.504/0001-23</td>\n      <td>2019-12-31</td>\n      <td>1</td>\n      <td>ITAU UNIBANCO HOLDING S.A.</td>\n      <td>19348</td>\n      <td>DF Consolidado - Balanço Patrimonial Ativo</td>\n      <td>REAL</td>\n      <td>MILHAR</td>\n      <td>ÚLTIMO</td>\n      <td>2019-12-31</td>\n      <td>1.07</td>\n      <td>Intangível</td>\n      <td>1.971900e+07</td>\n      <td>2</td>\n      <td>4</td>\n      <td>2019</td>\n    </tr>\n    <tr>\n      <th>11747</th>\n      <td>60.872.504/0001-23</td>\n      <td>2019-12-31</td>\n      <td>1</td>\n      <td>ITAU UNIBANCO HOLDING S.A.</td>\n      <td>19348</td>\n      <td>DF Individual - Balanço Patrimonial Ativo</td>\n      <td>REAL</td>\n      <td>MILHAR</td>\n      <td>ÚLTIMO</td>\n      <td>2019-12-31</td>\n      <td>1.01</td>\n      <td>Ativo Circulante</td>\n      <td>2.647017e+07</td>\n      <td>2</td>\n      <td>4</td>\n      <td>2019</td>\n    </tr>\n    <tr>\n      <th>11767</th>\n      <td>60.872.504/0001-23</td>\n      <td>2019-12-31</td>\n      <td>1</td>\n      <td>ITAU UNIBANCO HOLDING S.A.</td>\n      <td>19348</td>\n      <td>DF Individual - Balanço Patrimonial Ativo</td>\n      <td>REAL</td>\n      <td>MILHAR</td>\n      <td>ÚLTIMO</td>\n      <td>2019-12-31</td>\n      <td>1.02</td>\n      <td>Ativo Realizável a Longo Prazo</td>\n      <td>4.210483e+07</td>\n      <td>2</td>\n      <td>4</td>\n      <td>2019</td>\n    </tr>\n    <tr>\n      <th>11785</th>\n      <td>60.872.504/0001-23</td>\n      <td>2019-12-31</td>\n      <td>1</td>\n      <td>ITAU UNIBANCO HOLDING S.A.</td>\n      <td>19348</td>\n      <td>DF Individual - Balanço Patrimonial Ativo</td>\n      <td>REAL</td>\n      <td>MILHAR</td>\n      <td>ÚLTIMO</td>\n      <td>2019-12-31</td>\n      <td>1.03</td>\n      <td>Ativo Permanente</td>\n      <td>1.137722e+08</td>\n      <td>2</td>\n      <td>4</td>\n      <td>2019</td>\n    </tr>\n    <tr>\n      <th>11855</th>\n      <td>60.872.504/0001-23</td>\n      <td>2019-12-31</td>\n      <td>1</td>\n      <td>ITAU UNIBANCO HOLDING S.A.</td>\n      <td>19348</td>\n      <td>DF Consolidado - Balanço Patrimonial Passivo</td>\n      <td>REAL</td>\n      <td>MILHAR</td>\n      <td>ÚLTIMO</td>\n      <td>2019-12-31</td>\n      <td>2.01</td>\n      <td>Passivos Financeiros ao Valor Justo através do...</td>\n      <td>0.000000e+00</td>\n      <td>2</td>\n      <td>4</td>\n      <td>2019</td>\n    </tr>\n    <tr>\n      <th>11857</th>\n      <td>60.872.504/0001-23</td>\n      <td>2019-12-31</td>\n      <td>1</td>\n      <td>ITAU UNIBANCO HOLDING S.A.</td>\n      <td>19348</td>\n      <td>DF Consolidado - Balanço Patrimonial Passivo</td>\n      <td>REAL</td>\n      <td>MILHAR</td>\n      <td>ÚLTIMO</td>\n      <td>2019-12-31</td>\n      <td>2.02</td>\n      <td>Outros Passivos Financeiros Designados ao Valo...</td>\n      <td>4.802900e+07</td>\n      <td>2</td>\n      <td>4</td>\n      <td>2019</td>\n    </tr>\n    <tr>\n      <th>11859</th>\n      <td>60.872.504/0001-23</td>\n      <td>2019-12-31</td>\n      <td>1</td>\n      <td>ITAU UNIBANCO HOLDING S.A.</td>\n      <td>19348</td>\n      <td>DF Consolidado - Balanço Patrimonial Passivo</td>\n      <td>REAL</td>\n      <td>MILHAR</td>\n      <td>ÚLTIMO</td>\n      <td>2019-12-31</td>\n      <td>2.03</td>\n      <td>Passivos Financeiros ao Custo Amortizado</td>\n      <td>1.159830e+09</td>\n      <td>2</td>\n      <td>4</td>\n      <td>2019</td>\n    </tr>\n    <tr>\n      <th>11861</th>\n      <td>60.872.504/0001-23</td>\n      <td>2019-12-31</td>\n      <td>1</td>\n      <td>ITAU UNIBANCO HOLDING S.A.</td>\n      <td>19348</td>\n      <td>DF Consolidado - Balanço Patrimonial Passivo</td>\n      <td>REAL</td>\n      <td>MILHAR</td>\n      <td>ÚLTIMO</td>\n      <td>2019-12-31</td>\n      <td>2.04</td>\n      <td>Provisões</td>\n      <td>2.145400e+07</td>\n      <td>2</td>\n      <td>4</td>\n      <td>2019</td>\n    </tr>\n    <tr>\n      <th>11863</th>\n      <td>60.872.504/0001-23</td>\n      <td>2019-12-31</td>\n      <td>1</td>\n      <td>ITAU UNIBANCO HOLDING S.A.</td>\n      <td>19348</td>\n      <td>DF Consolidado - Balanço Patrimonial Passivo</td>\n      <td>REAL</td>\n      <td>MILHAR</td>\n      <td>ÚLTIMO</td>\n      <td>2019-12-31</td>\n      <td>2.05</td>\n      <td>Passivos Fiscais</td>\n      <td>7.891000e+06</td>\n      <td>2</td>\n      <td>4</td>\n      <td>2019</td>\n    </tr>\n    <tr>\n      <th>11865</th>\n      <td>60.872.504/0001-23</td>\n      <td>2019-12-31</td>\n      <td>1</td>\n      <td>ITAU UNIBANCO HOLDING S.A.</td>\n      <td>19348</td>\n      <td>DF Consolidado - Balanço Patrimonial Passivo</td>\n      <td>REAL</td>\n      <td>MILHAR</td>\n      <td>ÚLTIMO</td>\n      <td>2019-12-31</td>\n      <td>2.06</td>\n      <td>Outros Passivos</td>\n      <td>2.508120e+08</td>\n      <td>2</td>\n      <td>4</td>\n      <td>2019</td>\n    </tr>\n    <tr>\n      <th>11867</th>\n      <td>60.872.504/0001-23</td>\n      <td>2019-12-31</td>\n      <td>1</td>\n      <td>ITAU UNIBANCO HOLDING S.A.</td>\n      <td>19348</td>\n      <td>DF Consolidado - Balanço Patrimonial Passivo</td>\n      <td>REAL</td>\n      <td>MILHAR</td>\n      <td>ÚLTIMO</td>\n      <td>2019-12-31</td>\n      <td>2.07</td>\n      <td>Passivos sobre Ativos Não Correntes a Venda e ...</td>\n      <td>0.000000e+00</td>\n      <td>2</td>\n      <td>4</td>\n      <td>2019</td>\n    </tr>\n    <tr>\n      <th>11873</th>\n      <td>60.872.504/0001-23</td>\n      <td>2019-12-31</td>\n      <td>1</td>\n      <td>ITAU UNIBANCO HOLDING S.A.</td>\n      <td>19348</td>\n      <td>DF Consolidado - Balanço Patrimonial Passivo</td>\n      <td>REAL</td>\n      <td>MILHAR</td>\n      <td>ÚLTIMO</td>\n      <td>2019-12-31</td>\n      <td>2.08</td>\n      <td>Patrimônio Líquido Consolidado</td>\n      <td>1.494650e+08</td>\n      <td>2</td>\n      <td>4</td>\n      <td>2019</td>\n    </tr>\n    <tr>\n      <th>21893</th>\n      <td>60.872.504/0001-23</td>\n      <td>2019-12-31</td>\n      <td>1</td>\n      <td>ITAU UNIBANCO HOLDING S.A.</td>\n      <td>19348</td>\n      <td>DF Individual - Balanço Patrimonial Passivo</td>\n      <td>REAL</td>\n      <td>MILHAR</td>\n      <td>ÚLTIMO</td>\n      <td>2019-12-31</td>\n      <td>2.01</td>\n      <td>Passivo Circulante</td>\n      <td>5.096004e+06</td>\n      <td>2</td>\n      <td>4</td>\n      <td>2019</td>\n    </tr>\n    <tr>\n      <th>21913</th>\n      <td>60.872.504/0001-23</td>\n      <td>2019-12-31</td>\n      <td>1</td>\n      <td>ITAU UNIBANCO HOLDING S.A.</td>\n      <td>19348</td>\n      <td>DF Individual - Balanço Patrimonial Passivo</td>\n      <td>REAL</td>\n      <td>MILHAR</td>\n      <td>ÚLTIMO</td>\n      <td>2019-12-31</td>\n      <td>2.02</td>\n      <td>Passivo Exigível a Longo Prazo</td>\n      <td>4.500693e+07</td>\n      <td>2</td>\n      <td>4</td>\n      <td>2019</td>\n    </tr>\n    <tr>\n      <th>21933</th>\n      <td>60.872.504/0001-23</td>\n      <td>2019-12-31</td>\n      <td>1</td>\n      <td>ITAU UNIBANCO HOLDING S.A.</td>\n      <td>19348</td>\n      <td>DF Individual - Balanço Patrimonial Passivo</td>\n      <td>REAL</td>\n      <td>MILHAR</td>\n      <td>ÚLTIMO</td>\n      <td>2019-12-31</td>\n      <td>2.03</td>\n      <td>Resultados de Exercícios Futuros</td>\n      <td>0.000000e+00</td>\n      <td>2</td>\n      <td>4</td>\n      <td>2019</td>\n    </tr>\n    <tr>\n      <th>21935</th>\n      <td>60.872.504/0001-23</td>\n      <td>2019-12-31</td>\n      <td>1</td>\n      <td>ITAU UNIBANCO HOLDING S.A.</td>\n      <td>19348</td>\n      <td>DF Individual - Balanço Patrimonial Passivo</td>\n      <td>REAL</td>\n      <td>MILHAR</td>\n      <td>ÚLTIMO</td>\n      <td>2019-12-31</td>\n      <td>2.05</td>\n      <td>Patrimônio Líquido</td>\n      <td>1.322442e+08</td>\n      <td>2</td>\n      <td>4</td>\n      <td>2019</td>\n    </tr>\n  </tbody>\n</table>\n</div>"
     },
     "metadata": {},
     "execution_count": 31
    }
   ],
   "source": [
    "TESTE"
   ]
  },
  {
   "cell_type": "code",
   "execution_count": 25,
   "metadata": {},
   "outputs": [
    {
     "output_type": "stream",
     "name": "stdout",
     "text": "3 - Filtrar para somente NIVEL 2\n"
    }
   ],
   "source": [
    "print('3 - Filtrar para somente NIVEL 2')\n",
    "BP_NIVEL2 = TESTE[TESTE.NIVEL==2]\n",
    "BP_NIVEL2['DESC_SIMPLES']=BP_NIVEL2['DS_CONTA'].map(MapNivel2)\n",
    "BP_NIVEL2.dropna(subset=['DESC_SIMPLES'], inplace=True)\n",
    "BP_NIVEL2['CD_CONTA']=BP_NIVEL2['DESC_SIMPLES'].map(MapaNiveis)"
   ]
  },
  {
   "cell_type": "code",
   "execution_count": 26,
   "metadata": {},
   "outputs": [
    {
     "output_type": "execute_result",
     "data": {
      "text/plain": "                 CNPJ_CIA    DT_REFER  VERSAO                   DENOM_CIA  \\\n11747  60.872.504/0001-23  2019-12-31       1  ITAU UNIBANCO HOLDING S.A.   \n11767  60.872.504/0001-23  2019-12-31       1  ITAU UNIBANCO HOLDING S.A.   \n11785  60.872.504/0001-23  2019-12-31       1  ITAU UNIBANCO HOLDING S.A.   \n11873  60.872.504/0001-23  2019-12-31       1  ITAU UNIBANCO HOLDING S.A.   \n21893  60.872.504/0001-23  2019-12-31       1  ITAU UNIBANCO HOLDING S.A.   \n21935  60.872.504/0001-23  2019-12-31       1  ITAU UNIBANCO HOLDING S.A.   \n\n       CD_CVM                                     GRUPO_DFP MOEDA  \\\n11747   19348     DF Individual - Balanço Patrimonial Ativo  REAL   \n11767   19348     DF Individual - Balanço Patrimonial Ativo  REAL   \n11785   19348     DF Individual - Balanço Patrimonial Ativo  REAL   \n11873   19348  DF Consolidado - Balanço Patrimonial Passivo  REAL   \n21893   19348   DF Individual - Balanço Patrimonial Passivo  REAL   \n21935   19348   DF Individual - Balanço Patrimonial Passivo  REAL   \n\n      ESCALA_MOEDA ORDEM_EXERC DT_FIM_EXERC CD_CONTA  \\\n11747       MILHAR      ÚLTIMO   2019-12-31      1.1   \n11767       MILHAR      ÚLTIMO   2019-12-31      1.2   \n11785       MILHAR      ÚLTIMO   2019-12-31      1.2   \n11873       MILHAR      ÚLTIMO   2019-12-31      2.3   \n21893       MILHAR      ÚLTIMO   2019-12-31      2.1   \n21935       MILHAR      ÚLTIMO   2019-12-31      2.3   \n\n                             DS_CONTA     VL_CONTA  NIVEL  TRIM  YEAR  \\\n11747                Ativo Circulante   26470174.0      2     4  2019   \n11767  Ativo Realizável a Longo Prazo   42104829.0      2     4  2019   \n11785                Ativo Permanente  113772161.0      2     4  2019   \n11873  Patrimônio Líquido Consolidado  149465000.0      2     4  2019   \n21893              Passivo Circulante    5096004.0      2     4  2019   \n21935              Patrimônio Líquido  132244227.0      2     4  2019   \n\n               DESC_SIMPLES  \n11747      Ativo Circulante  \n11767  Ativo Não Circulante  \n11785  Ativo Não Circulante  \n11873    Patrimônio Líquido  \n21893    Passivo Circulante  \n21935    Patrimônio Líquido  ",
      "text/html": "<div>\n<style scoped>\n    .dataframe tbody tr th:only-of-type {\n        vertical-align: middle;\n    }\n\n    .dataframe tbody tr th {\n        vertical-align: top;\n    }\n\n    .dataframe thead th {\n        text-align: right;\n    }\n</style>\n<table border=\"1\" class=\"dataframe\">\n  <thead>\n    <tr style=\"text-align: right;\">\n      <th></th>\n      <th>CNPJ_CIA</th>\n      <th>DT_REFER</th>\n      <th>VERSAO</th>\n      <th>DENOM_CIA</th>\n      <th>CD_CVM</th>\n      <th>GRUPO_DFP</th>\n      <th>MOEDA</th>\n      <th>ESCALA_MOEDA</th>\n      <th>ORDEM_EXERC</th>\n      <th>DT_FIM_EXERC</th>\n      <th>CD_CONTA</th>\n      <th>DS_CONTA</th>\n      <th>VL_CONTA</th>\n      <th>NIVEL</th>\n      <th>TRIM</th>\n      <th>YEAR</th>\n      <th>DESC_SIMPLES</th>\n    </tr>\n  </thead>\n  <tbody>\n    <tr>\n      <th>11747</th>\n      <td>60.872.504/0001-23</td>\n      <td>2019-12-31</td>\n      <td>1</td>\n      <td>ITAU UNIBANCO HOLDING S.A.</td>\n      <td>19348</td>\n      <td>DF Individual - Balanço Patrimonial Ativo</td>\n      <td>REAL</td>\n      <td>MILHAR</td>\n      <td>ÚLTIMO</td>\n      <td>2019-12-31</td>\n      <td>1.1</td>\n      <td>Ativo Circulante</td>\n      <td>26470174.0</td>\n      <td>2</td>\n      <td>4</td>\n      <td>2019</td>\n      <td>Ativo Circulante</td>\n    </tr>\n    <tr>\n      <th>11767</th>\n      <td>60.872.504/0001-23</td>\n      <td>2019-12-31</td>\n      <td>1</td>\n      <td>ITAU UNIBANCO HOLDING S.A.</td>\n      <td>19348</td>\n      <td>DF Individual - Balanço Patrimonial Ativo</td>\n      <td>REAL</td>\n      <td>MILHAR</td>\n      <td>ÚLTIMO</td>\n      <td>2019-12-31</td>\n      <td>1.2</td>\n      <td>Ativo Realizável a Longo Prazo</td>\n      <td>42104829.0</td>\n      <td>2</td>\n      <td>4</td>\n      <td>2019</td>\n      <td>Ativo Não Circulante</td>\n    </tr>\n    <tr>\n      <th>11785</th>\n      <td>60.872.504/0001-23</td>\n      <td>2019-12-31</td>\n      <td>1</td>\n      <td>ITAU UNIBANCO HOLDING S.A.</td>\n      <td>19348</td>\n      <td>DF Individual - Balanço Patrimonial Ativo</td>\n      <td>REAL</td>\n      <td>MILHAR</td>\n      <td>ÚLTIMO</td>\n      <td>2019-12-31</td>\n      <td>1.2</td>\n      <td>Ativo Permanente</td>\n      <td>113772161.0</td>\n      <td>2</td>\n      <td>4</td>\n      <td>2019</td>\n      <td>Ativo Não Circulante</td>\n    </tr>\n    <tr>\n      <th>11873</th>\n      <td>60.872.504/0001-23</td>\n      <td>2019-12-31</td>\n      <td>1</td>\n      <td>ITAU UNIBANCO HOLDING S.A.</td>\n      <td>19348</td>\n      <td>DF Consolidado - Balanço Patrimonial Passivo</td>\n      <td>REAL</td>\n      <td>MILHAR</td>\n      <td>ÚLTIMO</td>\n      <td>2019-12-31</td>\n      <td>2.3</td>\n      <td>Patrimônio Líquido Consolidado</td>\n      <td>149465000.0</td>\n      <td>2</td>\n      <td>4</td>\n      <td>2019</td>\n      <td>Patrimônio Líquido</td>\n    </tr>\n    <tr>\n      <th>21893</th>\n      <td>60.872.504/0001-23</td>\n      <td>2019-12-31</td>\n      <td>1</td>\n      <td>ITAU UNIBANCO HOLDING S.A.</td>\n      <td>19348</td>\n      <td>DF Individual - Balanço Patrimonial Passivo</td>\n      <td>REAL</td>\n      <td>MILHAR</td>\n      <td>ÚLTIMO</td>\n      <td>2019-12-31</td>\n      <td>2.1</td>\n      <td>Passivo Circulante</td>\n      <td>5096004.0</td>\n      <td>2</td>\n      <td>4</td>\n      <td>2019</td>\n      <td>Passivo Circulante</td>\n    </tr>\n    <tr>\n      <th>21935</th>\n      <td>60.872.504/0001-23</td>\n      <td>2019-12-31</td>\n      <td>1</td>\n      <td>ITAU UNIBANCO HOLDING S.A.</td>\n      <td>19348</td>\n      <td>DF Individual - Balanço Patrimonial Passivo</td>\n      <td>REAL</td>\n      <td>MILHAR</td>\n      <td>ÚLTIMO</td>\n      <td>2019-12-31</td>\n      <td>2.3</td>\n      <td>Patrimônio Líquido</td>\n      <td>132244227.0</td>\n      <td>2</td>\n      <td>4</td>\n      <td>2019</td>\n      <td>Patrimônio Líquido</td>\n    </tr>\n  </tbody>\n</table>\n</div>"
     },
     "metadata": {},
     "execution_count": 26
    }
   ],
   "source": [
    "BP_NIVEL2"
   ]
  },
  {
   "cell_type": "code",
   "execution_count": 195,
   "metadata": {},
   "outputs": [
    {
     "name": "stdout",
     "output_type": "stream",
     "text": "2 - Filtrar para somente NIVEL 1\n3 - Filtrar para somente NIVEL 2\n4 - Filtrar para somente NIVEL 3\n5 - Concatenando todos níveis\n6 - Finalizando\n"
    }
   ],
   "source": [
    "\n",
    "#Filtrar para somente NIVEL 1\n",
    "print('2 - Filtrar para somente NIVEL 1')\n",
    "BP_NIVEL1 = BP[BP.NIVEL==1]\n",
    "BP_NIVEL1['DESC_SIMPLES']=BP_NIVEL1['DS_CONTA'].map(MapNivel1)\n",
    "BP_NIVEL1.dropna(subset=['DESC_SIMPLES'], inplace=True)\n",
    "BP_NIVEL1['CD_CONTA']=BP_NIVEL1['DESC_SIMPLES'].map(MapaNiveis)\n",
    "#Filtrar para somente NIVEL 2\n",
    "print('3 - Filtrar para somente NIVEL 2')\n",
    "BP_NIVEL2 = BP[BP.NIVEL==2]\n",
    "BP_NIVEL2['DESC_SIMPLES']=BP_NIVEL2['DS_CONTA'].map(MapNivel2)\n",
    "BP_NIVEL2.dropna(subset=['DESC_SIMPLES'], inplace=True)\n",
    "BP_NIVEL2['CD_CONTA']=BP_NIVEL2['DESC_SIMPLES'].map(MapaNiveis)\n",
    "#Filtrar para somente NIVEL 3\n",
    "print('4 - Filtrar para somente NIVEL 3')\n",
    "BP_NIVEL3 = BP[BP.NIVEL==3]\n",
    "#Alterando 'Empréstimos e Financiamentos do Passivo Não Circulante para diferenciar do Passivo Circulante\n",
    "mask = ((BP_NIVEL3.DS_CONTA=='Empréstimos e Financiamentos') & (BP_NIVEL3.CD_CONTA=='2.02.01'))\n",
    "BP_NIVEL3.loc[mask,'DS_CONTA'] = 'Empréstimos e Financiamentos a Longo Prazo'\n",
    "BP_NIVEL3['DESC_SIMPLES']=BP_NIVEL3['DS_CONTA'].map(MapNivel3)\n",
    "BP_NIVEL3.dropna(subset=['DESC_SIMPLES'], inplace=True)\n",
    "BP_NIVEL3['CD_CONTA']=BP_NIVEL3['DESC_SIMPLES'].map(MapaNiveis)\n",
    "#Concat Nivel 1,2 e 3\n",
    "print('5 - Concatenando todos níveis')\n",
    "BP=pd.concat([BP_NIVEL1,BP_NIVEL2,BP_NIVEL3])\n",
    "#Map Grupo (Individual, Consolidado)\n",
    "print('6 - Finalizando')\n",
    "BP['GRUPO_DFP']=BP['GRUPO_DFP'].map(MapGrupo)\n",
    "#Mapeamento da Escala dos Valores\n",
    "BP['ESCALA'] = BP.ESCALA_MOEDA.map({'MIL': 1000, 'MILHAR': 1000, 'UNIDADE': 1})\n",
    "#FIM\n",
    "BP.DT_FIM_EXERC=pd.to_datetime(BP.DT_FIM_EXERC)\n",
    "#Drop colunas desnecessárias\n",
    "BP.drop(['DT_REFER', 'VERSAO', 'ESCALA_MOEDA', 'MOEDA', 'ORDEM_EXERC', 'DS_CONTA'], axis=1, inplace=True)\n",
    "    "
   ]
  },
  {
   "cell_type": "code",
   "execution_count": 22,
   "metadata": {},
   "outputs": [],
   "source": [
    "def getTrim(month):\n",
    "    if(month==2 or month==3):\n",
    "        return 1\n",
    "    elif(month==5 or month==6):\n",
    "        return 2\n",
    "    elif(month==8 or month==9):\n",
    "        return 3\n",
    "    elif(month==11 or month==12):\n",
    "        return 4\n",
    "    else:\n",
    "        return np.nan\n",
    "\n",
    "BP['TRIM'] = BP.DT_FIM_EXERC.map(lambda d: getTrim(d.month))\n",
    "BP.dropna(inplace=True)\n",
    "BP['YEAR'] = BP.DT_FIM_EXERC.dt.year"
   ]
  },
  {
   "cell_type": "code",
   "execution_count": 198,
   "metadata": {},
   "outputs": [],
   "source": [
    "def calculateAV(r):\n",
    "    yr = r.YEAR\n",
    "    trim = r.TRIM\n",
    "    valor = r.VL_CONTA\n",
    "    ativo_total = df[(df.YEAR==yr) & (df.TRIM == trim) & (df.CD_CONTA == '1')]\n",
    "    passivo_total = df[(df.YEAR==yr) & (df.TRIM == trim) & (df.CD_CONTA == '2')]\n",
    "    if(len(ativo_total)):\n",
    "        baseValue = ativo_total['VL_CONTA'].values[0]\n",
    "    elif(len(passivo_total)):\n",
    "        baseValue = passivo_total['VL_CONTA'].values[0]\n",
    "    else:\n",
    "        baseValue=0\n",
    "    if baseValue!=0:\n",
    "        return valor/baseValue\n",
    "    else:\n",
    "        return np.nan\n"
   ]
  },
  {
   "cell_type": "code",
   "execution_count": 203,
   "metadata": {},
   "outputs": [
    {
     "name": "stdout",
     "output_type": "stream",
     "text": "5\nGrupo: Consolidado\n  8605 - Consolidado - EMPTY\n  8605 - Consolidado - EMPTY\nGrupo: Individual\n  8605 - Individual - 2015.json gravado - 520\n  8605 - Individual - 2016.json gravado - 520\n  8605 - Individual - 2017.json gravado - 520\n  8605 - Individual - 2018.json gravado - 520\n  8605 - Individual - 2019.json gravado - 390\n610/753 - cvm: 15113\nGrupo: Consolidado\n  15113 - Consolidado - EMPTY\n  15113 - Consolidado - EMPTY\nGrupo: Individual\n  15113 - Individual - 2015.json gravado - 520\n  15113 - Individual - 2016.json gravado - 390\n611/753 - cvm: 16861\nGrupo: Consolidado\n  16861 - Consolidado - EMPTY\n  16861 - Consolidado - EMPTY\nGrupo: Individual\n  16861 - Individual - 2015.json gravado - 520\n  16861 - Individual - 2016.json gravado - 520\n  16861 - Individual - 2017.json gravado - 520\n  16861 - Individual - 2018.json gravado - 520\n  16861 - Individual - 2019.json gravado - 390\n612/753 - cvm: 8117\nGrupo: Consolidado\n  8117 - Consolidado - EMPTY\n  8117 - Consolidado - EMPTY\nGrupo: Individual\n  8117 - Individual - 2015.json gravado - 520\n  8117 - Individual - 2016.json gravado - 520\n  8117 - Individual - 2017.json gravado - 520\n  8117 - Individual - 2018.json gravado - 520\n613/753 - cvm: 2038\nGrupo: Consolidado\n  2038 - Consolidado - EMPTY\n  2038 - Consolidado - EMPTY\nGrupo: Individual\n  2038 - Individual - 2015.json gravado - 520\n614/753 - cvm: 15407\nGrupo: Consolidado\n  15407 - Consolidado - EMPTY\n  15407 - Consolidado - EMPTY\nGrupo: Individual\n  15407 - Individual - 2015.json gravado - 520\n  15407 - Individual - 2016.json gravado - 520\n  15407 - Individual - 2017.json gravado - 520\n  15407 - Individual - 2018.json gravado - 520\n  15407 - Individual - 2019.json gravado - 390\n615/753 - cvm: 10561\nGrupo: Consolidado\n  10561 - Consolidado - EMPTY\n  10561 - Consolidado - EMPTY\nGrupo: Individual\n  10561 - Individual - 2015.json gravado - 520\n  10561 - Individual - 2016.json gravado - 520\n  10561 - Individual - 2017.json gravado - 520\n  10561 - Individual - 2018.json gravado - 520\n  10561 - Individual - 2019.json gravado - 520\n616/753 - cvm: 12858\nGrupo: Consolidado\n  12858 - Consolidado - EMPTY\n  12858 - Consolidado - EMPTY\nGrupo: Individual\n  12858 - Individual - 2015.json gravado - 520\n  12858 - Individual - 2016.json gravado - 520\n  12858 - Individual - 2017.json gravado - 520\n617/753 - cvm: 6076\nGrupo: Consolidado\n  6076 - Consolidado - EMPTY\n  6076 - Consolidado - EMPTY\nGrupo: Individual\n  6076 - Individual - 2015.json gravado - 312\n  6076 - Individual - 2016.json gravado - 312\n  6076 - Individual - 2017.json gravado - 312\n  6076 - Individual - 2018.json gravado - 312\n  6076 - Individual - 2019.json gravado - 234\n618/753 - cvm: 1210\nGrupo: Consolidado\n  1210 - Consolidado - 2015.json gravado - 78\n  1210 - Consolidado - 2016.json gravado - 78\n  1210 - Consolidado - 2017.json gravado - 78\n  1210 - Consolidado - 2018.json gravado - 78\nGrupo: Individual\n  1210 - Individual - 2015.json gravado - 312\n  1210 - Individual - 2016.json gravado - 312\n  1210 - Individual - 2017.json gravado - 312\n  1210 - Individual - 2018.json gravado - 312\n  1210 - Individual - 2019.json gravado - 312\n619/753 - cvm: 15822\nGrupo: Consolidado\n  15822 - Consolidado - EMPTY\n  15822 - Consolidado - EMPTY\nGrupo: Individual\n  15822 - Individual - 2015.json gravado - 520\n  15822 - Individual - 2016.json gravado - 520\n  15822 - Individual - 2017.json gravado - 520\n  15822 - Individual - 2018.json gravado - 520\n  15822 - Individual - 2019.json gravado - 390\n620/753 - cvm: 6629\nGrupo: Consolidado\n  6629 - Consolidado - EMPTY\n  6629 - Consolidado - EMPTY\nGrupo: Individual\n  6629 - Individual - 2015.json gravado - 520\n  6629 - Individual - 2016.json gravado - 520\n  6629 - Individual - 2017.json gravado - 520\n  6629 - Individual - 2018.json gravado - 520\n  6629 - Individual - 2019.json gravado - 390\n621/753 - cvm: 16748\nGrupo: Consolidado\n  16748 - Consolidado - EMPTY\n  16748 - Consolidado - EMPTY\nGrupo: Individual\n  16748 - Individual - 2015.json gravado - 520\n  16748 - Individual - 2016.json gravado - 520\n  16748 - Individual - 2017.json gravado - 520\n  16748 - Individual - 2018.json gravado - 520\n  16748 - Individual - 2019.json gravado - 390\n622/753 - cvm: 23183\nGrupo: Consolidado\n  23183 - Consolidado - EMPTY\n  23183 - Consolidado - EMPTY\nGrupo: Individual\n  23183 - Individual - 2015.json gravado - 520\n  23183 - Individual - 2016.json gravado - 520\n  23183 - Individual - 2017.json gravado - 390\n623/753 - cvm: 13854\nGrupo: Consolidado\n  13854 - Consolidado - EMPTY\n  13854 - Consolidado - EMPTY\nGrupo: Individual\n  13854 - Individual - 2015.json gravado - 520\n  13854 - Individual - 2016.json gravado - 520\n  13854 - Individual - 2017.json gravado - 520\n  13854 - Individual - 2018.json gravado - 520\n  13854 - Individual - 2019.json gravado - 390\n624/753 - cvm: 1570\nGrupo: Consolidado\n  1570 - Consolidado - EMPTY\n  1570 - Consolidado - EMPTY\nGrupo: Individual\n  1570 - Individual - 2015.json gravado - 520\n  1570 - Individual - 2016.json gravado - 520\n  1570 - Individual - 2017.json gravado - 520\n  1570 - Individual - 2018.json gravado - 520\n  1570 - Individual - 2019.json gravado - 520\n625/753 - cvm: 4693\nGrupo: Consolidado\n  4693 - Consolidado - EMPTY\n  4693 - Consolidado - EMPTY\nGrupo: Individual\n  4693 - Individual - 2015.json gravado - 520\n  4693 - Individual - 2016.json gravado - 520\n  4693 - Individual - 2017.json gravado - 520\n  4693 - Individual - 2018.json gravado - 520\n  4693 - Individual - 2019.json gravado - 390\n626/753 - cvm: 24015\nGrupo: Consolidado\n  24015 - Consolidado - EMPTY\n  24015 - Consolidado - EMPTY\nGrupo: Individual\n  24015 - Individual - 2015.json gravado - 130\n  24015 - Individual - 2016.json gravado - 520\n  24015 - Individual - 2017.json gravado - 520\n  24015 - Individual - 2018.json gravado - 520\n  24015 - Individual - 2019.json gravado - 390\n627/753 - cvm: 24104\nGrupo: Consolidado\n  24104 - Consolidado - EMPTY\n  24104 - Consolidado - EMPTY\nGrupo: Individual\n  24104 - Individual - 2015.json gravado - 130\n  24104 - Individual - 2016.json gravado - 520\n  24104 - Individual - 2017.json gravado - 520\n  24104 - Individual - 2018.json gravado - 520\n  24104 - Individual - 2019.json gravado - 390\n628/753 - cvm: 24066\nGrupo: Consolidado\n  24066 - Consolidado - EMPTY\n  24066 - Consolidado - EMPTY\nGrupo: Individual\n  24066 - Individual - 2015.json gravado - 130\n  24066 - Individual - 2016.json gravado - 520\n  24066 - Individual - 2017.json gravado - 520\n  24066 - Individual - 2018.json gravado - 520\n  24066 - Individual - 2019.json gravado - 390\n629/753 - cvm: 24074\nGrupo: Consolidado\n  24074 - Consolidado - EMPTY\n  24074 - Consolidado - EMPTY\nGrupo: Individual\n  24074 - Individual - 2015.json gravado - 130\n  24074 - Individual - 2016.json gravado - 520\n  24074 - Individual - 2017.json gravado - 520\n  24074 - Individual - 2018.json gravado - 260\n630/753 - cvm: 23973\nGrupo: Consolidado\n  23973 - Consolidado - EMPTY\n  23973 - Consolidado - EMPTY\nGrupo: Individual\n  23973 - Individual - 2015.json gravado - 130\n  23973 - Individual - 2016.json gravado - 520\n  23973 - Individual - 2017.json gravado - 390\n631/753 - cvm: 23922\nGrupo: Consolidado\n  23922 - Consolidado - EMPTY\n  23922 - Consolidado - EMPTY\nGrupo: Individual\n  23922 - Individual - 2015.json gravado - 130\n  23922 - Individual - 2016.json gravado - 520\n  23922 - Individual - 2017.json gravado - 520\n  23922 - Individual - 2018.json gravado - 520\n  23922 - Individual - 2019.json gravado - 390\n632/753 - cvm: 24040\nGrupo: Consolidado\n  24040 - Consolidado - EMPTY\n  24040 - Consolidado - EMPTY\nGrupo: Individual\n  24040 - Individual - 2015.json gravado - 130\n  24040 - Individual - 2016.json gravado - 520\n  24040 - Individual - 2017.json gravado - 520\n  24040 - Individual - 2018.json gravado - 520\n  24040 - Individual - 2019.json gravado - 390\n633/753 - cvm: 24163\nGrupo: Consolidado\n  24163 - Consolidado - EMPTY\n  24163 - Consolidado - EMPTY\nGrupo: Individual\n  24163 - Individual - 2016.json gravado - 520\n  24163 - Individual - 2017.json gravado - 520\n  24163 - Individual - 2018.json gravado - 520\n634/753 - cvm: 23949\nGrupo: Consolidado\n  23949 - Consolidado - EMPTY\n  23949 - Consolidado - EMPTY\nGrupo: Individual\n  23949 - Individual - 2015.json gravado - 130\n  23949 - Individual - 2016.json gravado - 520\n  23949 - Individual - 2017.json gravado - 520\n  23949 - Individual - 2018.json gravado - 520\n  23949 - Individual - 2019.json gravado - 390\n635/753 - cvm: 23914\nGrupo: Consolidado\n  23914 - Consolidado - EMPTY\n  23914 - Consolidado - EMPTY\nGrupo: Individual\n  23914 - Individual - 2015.json gravado - 130\n  23914 - Individual - 2016.json gravado - 520\n  23914 - Individual - 2017.json gravado - 520\n  23914 - Individual - 2018.json gravado - 260\n636/753 - cvm: 24023\nGrupo: Consolidado\n  24023 - Consolidado - EMPTY\n  24023 - Consolidado - EMPTY\nGrupo: Individual\n  24023 - Individual - 2016.json gravado - 520\n  24023 - Individual - 2017.json gravado - 390\n637/753 - cvm: 24007\nGrupo: Consolidado\n  24007 - Consolidado - EMPTY\n  24007 - Consolidado - EMPTY\nGrupo: Individual\n  24007 - Individual - 2016.json gravado - 260\n638/753 - cvm: 24031\nGrupo: Consolidado\n  24031 - Consolidado - EMPTY\n  24031 - Consolidado - EMPTY\nGrupo: Individual\n  24031 - Individual - 2016.json gravado - 520\n  24031 - Individual - 2017.json gravado - 390\n639/753 - cvm: 3\nGrupo: Consolidado\n  3 - Consolidado - EMPTY\n  3 - Consolidado - EMPTY\nGrupo: Individual\n  3 - Individual - 2016.json gravado - 130\n640/753 - cvm: 24244\nGrupo: Consolidado\n  24244 - Consolidado - EMPTY\n  24244 - Consolidado - EMPTY\nGrupo: Individual\n  24244 - Individual - 2016.json gravado - 130\n  24244 - Individual - 2017.json gravado - 520\n  24244 - Individual - 2018.json gravado - 390\n641/753 - cvm: 24287\nGrupo: Consolidado\n  24287 - Consolidado - EMPTY\n  24287 - Consolidado - EMPTY\nGrupo: Individual\n  24287 - Individual - 2016.json gravado - 130\n  24287 - Individual - 2017.json gravado - 520\n  24287 - Individual - 2018.json gravado - 520\n  24287 - Individual - 2019.json gravado - 390\n642/753 - cvm: 24155\nGrupo: Consolidado\n  24155 - Consolidado - EMPTY\n  24155 - Consolidado - EMPTY\nGrupo: Individual\n  24155 - Individual - 2016.json gravado - 130\n  24155 - Individual - 2017.json gravado - 520\n  24155 - Individual - 2018.json gravado - 520\n  24155 - Individual - 2019.json gravado - 390\n643/753 - cvm: 24139\nGrupo: Consolidado\n  24139 - Consolidado - EMPTY\n  24139 - Consolidado - EMPTY\nGrupo: Individual\n  24139 - Individual - 2016.json gravado - 130\n  24139 - Individual - 2017.json gravado - 520\n  24139 - Individual - 2018.json gravado - 520\n  24139 - Individual - 2019.json gravado - 520\n644/753 - cvm: 24210\nGrupo: Consolidado\n  24210 - Consolidado - EMPTY\n  24210 - Consolidado - EMPTY\nGrupo: Individual\n  24210 - Individual - 2016.json gravado - 130\n  24210 - Individual - 2017.json gravado - 520\n  24210 - Individual - 2018.json gravado - 520\n  24210 - Individual - 2019.json gravado - 390\n645/753 - cvm: 24198\nGrupo: Consolidado\n  24198 - Consolidado - EMPTY\n  24198 - Consolidado - EMPTY\nGrupo: Individual\n  24198 - Individual - 2016.json gravado - 130\n  24198 - Individual - 2017.json gravado - 520\n  24198 - Individual - 2018.json gravado - 130\n646/753 - cvm: 24082\nGrupo: Consolidado\n  24082 - Consolidado - EMPTY\n  24082 - Consolidado - EMPTY\nGrupo: Individual\n  24082 - Individual - 2016.json gravado - 260\n  24082 - Individual - 2017.json gravado - 520\n  24082 - Individual - 2018.json gravado - 520\n  24082 - Individual - 2019.json gravado - 390\n647/753 - cvm: 24341\nGrupo: Consolidado\n  24341 - Consolidado - EMPTY\n  24341 - Consolidado - EMPTY\nGrupo: Individual\n  24341 - Individual - 2016.json gravado - 130\n  24341 - Individual - 2017.json gravado - 520\n  24341 - Individual - 2018.json gravado - 520\n  24341 - Individual - 2019.json gravado - 390\n648/753 - cvm: 24325\nGrupo: Consolidado\n  24325 - Consolidado - EMPTY\n  24325 - Consolidado - EMPTY\nGrupo: Individual\n  24325 - Individual - 2017.json gravado - 520\n  24325 - Individual - 2018.json gravado - 130\n649/753 - cvm: 24147\nGrupo: Consolidado\n  24147 - Consolidado - EMPTY\n  24147 - Consolidado - EMPTY\nGrupo: Individual\n  24147 - Individual - 2017.json gravado - 520\n  24147 - Individual - 2018.json gravado - 520\n  24147 - Individual - 2019.json gravado - 390\n650/753 - cvm: 24333\nGrupo: Consolidado\n  24333 - Consolidado - EMPTY\n  24333 - Consolidado - EMPTY\nGrupo: Individual\n  24333 - Individual - 2017.json gravado - 390\n  24333 - Individual - 2018.json gravado - 520\n  24333 - Individual - 2019.json gravado - 390\n651/753 - cvm: 24406\nGrupo: Consolidado\n  24406 - Consolidado - 2017.json gravado - 78\n  24406 - Consolidado - 2018.json gravado - 78\nGrupo: Individual\n  24406 - Individual - 2017.json gravado - 78\n  24406 - Individual - 2018.json gravado - 312\n  24406 - Individual - 2019.json gravado - 312\n652/753 - cvm: 24708\nGrupo: Consolidado\n  24708 - Consolidado - EMPTY\n  24708 - Consolidado - EMPTY\nGrupo: Individual\n  24708 - Individual - 2017.json gravado - 130\n  24708 - Individual - 2018.json gravado - 520\n  24708 - Individual - 2019.json gravado - 390\n653/753 - cvm: 24465\nGrupo: Consolidado\n  24465 - Consolidado - EMPTY\n  24465 - Consolidado - EMPTY\nGrupo: Individual\n  24465 - Individual - 2018.json gravado - 234\n654/753 - cvm: 24376\nGrupo: Consolidado\n  24376 - Consolidado - EMPTY\n  24376 - Consolidado - EMPTY\nGrupo: Individual\n  24376 - Individual - 2017.json gravado - 130\n  24376 - Individual - 2018.json gravado - 520\n  24376 - Individual - 2019.json gravado - 260\n655/753 - cvm: 24538\nGrupo: Consolidado\n  24538 - Consolidado - EMPTY\n  24538 - Consolidado - EMPTY\nGrupo: Individual\n  24538 - Individual - 2017.json gravado - 130\n  24538 - Individual - 2018.json gravado - 520\n  24538 - Individual - 2019.json gravado - 390\n656/753 - cvm: 24503\nGrupo: Consolidado\n  24503 - Consolidado - EMPTY\n  24503 - Consolidado - EMPTY\nGrupo: Individual\n  24503 - Individual - 2017.json gravado - 260\n  24503 - Individual - 2018.json gravado - 390\n657/753 - cvm: 24449\nGrupo: Consolidado\n  24449 - Consolidado - EMPTY\n  24449 - Consolidado - EMPTY\nGrupo: Individual\n  24449 - Individual - 2017.json gravado - 130\n  24449 - Individual - 2018.json gravado - 130\n658/753 - cvm: 24457\nGrupo: Consolidado\n  24457 - Consolidado - EMPTY\n  24457 - Consolidado - EMPTY\nGrupo: Individual\n  24457 - Individual - 2017.json gravado - 130\n  24457 - Individual - 2018.json gravado - 520\n  24457 - Individual - 2019.json gravado - 390\n659/753 - cvm: 24481\nGrupo: Consolidado\n  24481 - Consolidado - EMPTY\n  24481 - Consolidado - EMPTY\nGrupo: Individual\n  24481 - Individual - 2017.json gravado - 130\n  24481 - Individual - 2018.json gravado - 520\n  24481 - Individual - 2019.json gravado - 390\n660/753 - cvm: 24368\nGrupo: Consolidado\n  24368 - Consolidado - EMPTY\n  24368 - Consolidado - EMPTY\nGrupo: Individual\n  24368 - Individual - 2017.json gravado - 130\n  24368 - Individual - 2018.json gravado - 520\n  24368 - Individual - 2019.json gravado - 390\n661/753 - cvm: 24422\nGrupo: Consolidado\n  24422 - Consolidado - EMPTY\n  24422 - Consolidado - EMPTY\nGrupo: Individual\n  24422 - Individual - 2017.json gravado - 130\n  24422 - Individual - 2018.json gravado - 520\n  24422 - Individual - 2019.json gravado - 520\n662/753 - cvm: 24430\nGrupo: Consolidado\n  24430 - Consolidado - EMPTY\n  24430 - Consolidado - EMPTY\nGrupo: Individual\n  24430 - Individual - 2017.json gravado - 130\n  24430 - Individual - 2018.json gravado - 520\n  24430 - Individual - 2019.json gravado - 520\n663/753 - cvm: 24686\nGrupo: Consolidado\n  24686 - Consolidado - EMPTY\n  24686 - Consolidado - EMPTY\nGrupo: Individual\n  24686 - Individual - 2017.json gravado - 260\n  24686 - Individual - 2018.json gravado - 650\n  24686 - Individual - 2019.json gravado - 390\n664/753 - cvm: 24570\nGrupo: Consolidado\n  24570 - Consolidado - EMPTY\n  24570 - Consolidado - EMPTY\nGrupo: Individual\n  24570 - Individual - 2018.json gravado - 416\n  24570 - Individual - 2019.json gravado - 390\n665/753 - cvm: 24511\nGrupo: Consolidado\n  24511 - Consolidado - EMPTY\n  24511 - Consolidado - EMPTY\nGrupo: Individual\n  24511 - Individual - 2018.json gravado - 390\n  24511 - Individual - 2019.json gravado - 390\n666/753 - cvm: 24619\nGrupo: Consolidado\n  24619 - Consolidado - EMPTY\n  24619 - Consolidado - EMPTY\nGrupo: Individual\n  24619 - Individual - 2017.json gravado - 130\n  24619 - Individual - 2018.json gravado - 520\n  24619 - Individual - 2019.json gravado - 260\n667/753 - cvm: 24520\nGrupo: Consolidado\n  24520 - Consolidado - EMPTY\n  24520 - Consolidado - EMPTY\nGrupo: Individual\n  24520 - Individual - 2018.json gravado - 390\n  24520 - Individual - 2019.json gravado - 390\n668/753 - cvm: 24635\nGrupo: Consolidado\n  24635 - Consolidado - EMPTY\n  24635 - Consolidado - EMPTY\nGrupo: Individual\n  24635 - Individual - 2017.json gravado - 130\n  24635 - Individual - 2018.json gravado - 780\n  24635 - Individual - 2019.json gravado - 338\n669/753 - cvm: 24562\nGrupo: Consolidado\n  24562 - Consolidado - EMPTY\n  24562 - Consolidado - EMPTY\nGrupo: Individual\n  24562 - Individual - 2018.json gravado - 598\n  24562 - Individual - 2019.json gravado - 234\n670/753 - cvm: 24643\nGrupo: Consolidado\n  24643 - Consolidado - EMPTY\n  24643 - Consolidado - EMPTY\nGrupo: Individual\n  24643 - Individual - 2018.json gravado - 390\n  24643 - Individual - 2019.json gravado - 520\n671/753 - cvm: 24651\nGrupo: Consolidado\n  24651 - Consolidado - EMPTY\n  24651 - Consolidado - EMPTY\nGrupo: Individual\n  24651 - Individual - 2018.json gravado - 364\n  24651 - Individual - 2019.json gravado - 390\n672/753 - cvm: 24554\nGrupo: Consolidado\n  24554 - Consolidado - EMPTY\n  24554 - Consolidado - EMPTY\nGrupo: Individual\n  24554 - Individual - 2017.json gravado - 260\n  24554 - Individual - 2018.json gravado - 520\n  24554 - Individual - 2019.json gravado - 520\n673/753 - cvm: 24880\nGrupo: Consolidado\n  24880 - Consolidado - EMPTY\n  24880 - Consolidado - EMPTY\nGrupo: Individual\n  24880 - Individual - 2018.json gravado - 130\n  24880 - Individual - 2019.json gravado - 390\n674/753 - cvm: 24759\nGrupo: Consolidado\n  24759 - Consolidado - EMPTY\n  24759 - Consolidado - EMPTY\nGrupo: Individual\n  24759 - Individual - 2018.json gravado - 130\n  24759 - Individual - 2019.json gravado - 390\n675/753 - cvm: 24767\nGrupo: Consolidado\n  24767 - Consolidado - EMPTY\n  24767 - Consolidado - EMPTY\nGrupo: Individual\n  24767 - Individual - 2018.json gravado - 130\n  24767 - Individual - 2019.json gravado - 390\n676/753 - cvm: 24864\nGrupo: Consolidado\n  24864 - Consolidado - EMPTY\n  24864 - Consolidado - EMPTY\nGrupo: Individual\n  24864 - Individual - 2018.json gravado - 130\n  24864 - Individual - 2019.json gravado - 390\n677/753 - cvm: 24899\nGrupo: Consolidado\n  24899 - Consolidado - EMPTY\n  24899 - Consolidado - EMPTY\nGrupo: Individual\n  24899 - Individual - 2018.json gravado - 390\n  24899 - Individual - 2019.json gravado - 390\n678/753 - cvm: 24732\nGrupo: Consolidado\n  24732 - Consolidado - EMPTY\n  24732 - Consolidado - EMPTY\nGrupo: Individual\n  24732 - Individual - 2018.json gravado - 260\n  24732 - Individual - 2019.json gravado - 520\n679/753 - cvm: 24678\nGrupo: Consolidado\n  24678 - Consolidado - EMPTY\n  24678 - Consolidado - EMPTY\nGrupo: Individual\n  24678 - Individual - 2018.json gravado - 130\n  24678 - Individual - 2019.json gravado - 390\n680/753 - cvm: 24724\nGrupo: Consolidado\n  24724 - Consolidado - EMPTY\n  24724 - Consolidado - EMPTY\nGrupo: Individual\n  24724 - Individual - 2018.json gravado - 260\n  24724 - Individual - 2019.json gravado - 650\n681/753 - cvm: 24791\nGrupo: Consolidado\n  24791 - Consolidado - EMPTY\n  24791 - Consolidado - EMPTY\nGrupo: Individual\n  24791 - Individual - 2019.json gravado - 520\n682/753 - cvm: 22330\nGrupo: Consolidado\n  22330 - Consolidado - 2015.json gravado - 130\nGrupo: Individual\n  22330 - Individual - 2015.json gravado - 130\n683/753 - cvm: 503711\nGrupo: Consolidado\n  503711 - Consolidado - EMPTY\n  503711 - Consolidado - EMPTY\nGrupo: Individual\n  503711 - Individual - 2015.json gravado - 130\n"
    }
   ],
   "source": [
    "numberOfCVM = BP.CD_CVM.nunique()\n",
    "count=0\n",
    "for cvm in BP.CD_CVM.unique()[0:1]:\n",
    "    cvm=19348 #ITAU\n",
    "    count=count+1\n",
    "    print(str(count) + '/' + str(numberOfCVM) + ' - cvm: ' + str(cvm))\n",
    "    DF = BP[(BP.CD_CVM==cvm)]\n",
    "    for grupo in ['Consolidado', 'Individual']:\n",
    "        print('Grupo: ' + grupo)\n",
    "        GrupoAP = pd.DataFrame([])\n",
    "        for subgrupo in ['Ativo Consolidado', 'Passivo Consolidado','Ativo Individual', 'Passivo Individual']:\n",
    "            if(grupo in subgrupo):\n",
    "                # print(' - Sub grupo: ' + subgrupo)\n",
    "                df = DF[DF.GRUPO_DFP == subgrupo]\n",
    "                if(len(df)):\n",
    "                    cnpj =  df.iloc[0]['CNPJ_CIA']  \n",
    "                    denom_cia =  df.iloc[0]['DENOM_CIA']\n",
    "                    df = df.sort_values(['DESC_SIMPLES', 'DT_FIM_EXERC'])\n",
    "                    df.reset_index(inplace=True, drop=True)\n",
    "                    \n",
    "                    #Drop columns\n",
    "                    df.drop(['DT_FIM_EXERC', 'CNPJ_CIA'], axis=1, inplace=True)\n",
    "                    \n",
    "                    #Sort para garantir o sequenciamento correto\n",
    "                    df = df.sort_values(['DESC_SIMPLES', 'YEAR','TRIM']).reset_index(drop=True)\n",
    "                    #Calculate Variação entre Trimestre - AH (Análise Horizontal)\n",
    "                    cutTwo = (df.DESC_SIMPLES == df.DESC_SIMPLES.shift(1)) \n",
    "                    AH = []\n",
    "                    for i, row in df.iterrows():\n",
    "                        if cutTwo[i]:\n",
    "                            if df.iloc[i-1]['VL_CONTA']!=0:\n",
    "                                ah = (df.iloc[i]['VL_CONTA']-df.iloc[i-1]['VL_CONTA'])/df.iloc[i-1]['VL_CONTA']\n",
    "                            else:\n",
    "                                ah = np.nan\n",
    "                            AH.append(ah)\n",
    "                        else:\n",
    "                            AH.append(np.nan)\n",
    "                    df['AH']=pd.Series(AH)\n",
    "                    #Sort novamente\n",
    "                    df = df.sort_values(['YEAR','TRIM','CD_CONTA']).reset_index(drop=True)\n",
    "                    #Cálculo da Variação Vertical no Trimestre - AV (Análise Vertical)\n",
    "                    df['AV'] = df.apply(lambda r: calculateAV(r), axis=1)\n",
    "                    #Adicionando o TRIM_ANO como coluna\n",
    "                    df['TRIM_ANO']=df.apply(lambda r: \"%dT%d\" %(r['TRIM'],r['YEAR']), axis=1)\n",
    "                    #Concat Ativo e Passivo de mesmo grupo\n",
    "                    GrupoAP = pd.concat([GrupoAP,df])\n",
    "                else:\n",
    "                    print('  ' + str(cvm) +  ' - ' + grupo +' - ' + 'EMPTY')\n",
    "    \n",
    "        if(len(GrupoAP)>0):\n",
    "            for ano in GrupoAP.YEAR.unique():\n",
    "                filteredDFbyYear = GrupoAP[GrupoAP.YEAR==ano]\n",
    "                #Gravando arquivo\n",
    "                if(len(filteredDFbyYear)):\n",
    "                    filteredDFbyYear = filteredDFbyYear[['TRIM_ANO','CD_CONTA','DESC_SIMPLES', 'VL_CONTA', 'ESCALA', 'TRIM', 'YEAR', 'NIVEL', 'AH', 'AV']]\n",
    "                    filteredDFbyYear=filteredDFbyYear.sort_values(['TRIM_ANO','CD_CONTA']).reset_index(drop=True)\n",
    "                    # print(filteredDFbyYear[['TRIM_ANO','CD_CONTA','DESC_SIMPLES', 'VL_CONTA', 'AH', 'AV']].head(50))\n",
    "                    data = filteredDFbyYear.to_dict('records')\n",
    "                else:\n",
    "                    data = []           \n",
    "                data = {\n",
    "                    \"cvm\": int(cvm),\n",
    "                    \"ano\": int(ano),\n",
    "                    \"cnpj\": cnpj,\n",
    "                    \"denom_cia\": denom_cia,\n",
    "                    \"grupo\": grupo,\n",
    "                    \"data\" : data,\n",
    "                }\n",
    "                path = './output_cvm/bp/'+str(cvm)+'/'+grupo+'/'\n",
    "                if not os.path.exists(path):\n",
    "                    os.makedirs(path)\n",
    "                with open(path+str(ano)+'.json', 'w') as outfile:\n",
    "                    json.dump(data, outfile, indent=2)\n",
    "                    print('  '+ str(cvm) +  ' - ' + grupo +' - ' + str(ano)+'.json gravado - ' + str(df[df.YEAR==ano].size))\n"
   ]
  },
  {
   "cell_type": "code",
   "execution_count": null,
   "metadata": {},
   "outputs": [],
   "source": []
  }
 ],
 "metadata": {
  "kernelspec": {
   "display_name": "Python 3",
   "language": "python",
   "name": "python3"
  },
  "language_info": {
   "codemirror_mode": {
    "name": "ipython",
    "version": 3
   },
   "file_extension": ".py",
   "mimetype": "text/x-python",
   "name": "python",
   "nbconvert_exporter": "python",
   "pygments_lexer": "ipython3",
   "version": "3.6.0-final"
  }
 },
 "nbformat": 4,
 "nbformat_minor": 1
}