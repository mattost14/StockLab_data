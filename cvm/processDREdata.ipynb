{
 "cells": [
  {
   "cell_type": "code",
   "execution_count": 2,
   "metadata": {},
   "outputs": [],
   "source": [
    "import numpy as np # linear algebra\n",
    "import pandas as pd # data processing, CSV file I/O (e.g. pd.read_csv)\n",
    "import matplotlib, json\n",
    "import matplotlib.pyplot as plt\n",
    "import sys\n",
    "sys.path.append('/Users/BrunoMattos/Documents2/Dev/stocklab_data/Firestore')\n",
    "from uploadToFirestore import uploadDocumentToFirestore\n",
    "import os\n",
    "#print(os.listdir(\"./dre_input\"))\n",
    "itr_input = './input_cvm/itr/'\n",
    "dfp_input = './input_cvm/dfp/'"
   ]
  },
  {
   "cell_type": "code",
   "execution_count": 3,
   "metadata": {},
   "outputs": [],
   "source": [
    "MapaNiveis = {\n",
    "    'Receita Líquida' : 1,\n",
    "    'Custos': 2,\n",
    "    'Lucro Bruto':3,\n",
    "    'Despesas/Receitas Operacionais':4,\n",
    "    'EBITDA': 5,\n",
    "    'Despesas de Depreciação e Amortização': 6,\n",
    "    'EBIT' : 7,\n",
    "    'Resultado Financeiro': 8,\n",
    "        'Receitas Financeiras': 8.1,\n",
    "        'Despesas Financeiras': 8.2,\n",
    "    'EBT': 9,\n",
    "    'Impostos':10,\n",
    "    'Lucro Líquido': 11,\n",
    "}\n",
    "MapNivel2 = {\n",
    "    'Receitas da Intermediação Financeira' : 'Receita Líquida',\n",
    "    'Receitas das Operações' : 'Receita Líquida',\n",
    "    'Receita de Venda de Bens e/ou Serviços': 'Receita Líquida',\n",
    "    'Despesas da Intermediação Financeira': 'Custos',\n",
    "    'Custo dos Bens e/ou Serviços Vendidos': 'Custos',\n",
    "    'Sinistros e Despesas das Operações':'Custos',\n",
    "    'Resultado Bruto': 'Lucro Bruto',\n",
    "    'Resultado Bruto Intermediação Financeira': 'Lucro Bruto',\n",
    "    'Despesas/Receitas Operacionais': 'Despesas/Receitas Operacionais',\n",
    "    'Despesas Administrativas': 'Despesas/Receitas Operacionais',\n",
    "    'Outras Despesas/Receitas Operacionais': 'Despesas/Receitas Operacionais',\n",
    "    'Outras Receitas e Despesas Operacionais': 'Despesas/Receitas Operacionais',\n",
    "    'Resultado Antes dos Tributos sobre o Lucro': 'EBT',\n",
    "    'Resultado Antes do Resultado Financeiro e dos Tributos' : 'EBIT',\n",
    "    'Imposto de Renda e Contribuição Social sobre o Lucro': 'Impostos',\n",
    "    # 'Resultado de Equivalência Patrimonial' : 'Resultado de Equivalência Patrimonial',\n",
    "    'Resultado Financeiro' : 'Resultado Financeiro',\n",
    "    'Lucro/Prejuízo Consolidado do Período' : 'Lucro Líquido',\n",
    "    # 'Resultado Líquido das Operações Continuadas': 'Lucro Líquido'\n",
    "}\n",
    "MapNivel3 = {\n",
    "    'Receitas Financeiras': 'Receitas Financeiras',\n",
    "    'Despesas Financeiras': 'Despesas Financeiras',\n",
    "    'Despesas de Depreciação e Amortização' : 'Amortização/Depreciação'\n",
    "}"
   ]
  },
  {
   "cell_type": "code",
   "execution_count": 13,
   "metadata": {},
   "outputs": [
    {
     "name": "stdout",
     "output_type": "stream",
     "text": "['ITR_CIA_ABERTA_DFC_MD_con_2018.csv', 'meta_ITR_CIA_ABERTA_DFC_MI.txt', 'ITR_CIA_ABERTA_DVA_ind_2018.csv', 'itr_cia_aberta_bpa_ind_2015.csv', 'itr_cia_aberta_dre_con_2015.csv', 'meta_ITR_CIA_ABERTA_BPP.txt', 'ITR_CIA_ABERTA_DVA_ind_2019.csv', 'ITR_CIA_ABERTA_DFC_MD_con_2019.csv', 'ITR_CIA_ABERTA_BPA_ind_2016.csv', 'ITR_CIA_ABERTA_DRE_con_2016.csv', 'ITR_CIA_ABERTA_DRE_con_2017.csv', 'ITR_CIA_ABERTA_BPA_ind_2017.csv', 'ITR_CIA_ABERTA_DRE_ind_2017.csv', 'ITR_CIA_ABERTA_BPA_con_2017.csv', 'ITR_CIA_ABERTA_2016.csv', 'meta_ITR_CIA_ABERTA_BPA.txt', 'ITR_CIA_ABERTA_2017.csv', 'ITR_CIA_ABERTA_BPA_con_2016.csv', 'ITR_CIA_ABERTA_DRE_ind_2016.csv', 'meta_ITR_CIA_ABERTA_DMPL.txt', 'ITR_CIA_ABERTA_DFC_MD_ind_2019.csv', 'ITR_CIA_ABERTA_DVA_con_2019.csv', 'itr_cia_aberta_2015.csv', 'ITR_CIA_ABERTA_DVA_con_2018.csv', 'ITR_CIA_ABERTA_DFC_MD_ind_2018.csv', 'itr_cia_aberta_bpa_con_2015.csv', 'itr_cia_aberta_dre_ind_2015.csv', 'ITR_CIA_ABERTA_DFC_MI_ind_2018.csv', 'ITR_CIA_ABERTA_DFC_MI_ind_2019.csv', 'ITR_CIA_ABERTA_DMPL_con_2019.csv', 'ITR_CIA_ABERTA_BPP_ind_2019.csv', 'ITR_CIA_ABERTA_BPP_ind_2018.csv', 'ITR_CIA_ABERTA_DMPL_con_2018.csv', 'meta_ITR_CIA_ABERTA_DVA.txt', 'ITR_CIA_ABERTA_BPP_con_2018.csv', 'ITR_CIA_ABERTA_DMPL_ind_2018.csv', 'ITR_CIA_ABERTA_DMPL_ind_2019.csv', 'ITR_CIA_ABERTA_BPP_con_2019.csv', 'ITR_CIA_ABERTA_DFC_MI_con_2019.csv', 'ITR_CIA_ABERTA_DFC_MI_con_2018.csv', 'ITR_CIA_ABERTA_BPP_con_2017.csv', 'itr_cia_aberta_dfc_mi_con_2015.csv', 'ITR_CIA_ABERTA_DMPL_ind_2017.csv', 'ITR_CIA_ABERTA_DMPL_ind_2016.csv', 'ITR_CIA_ABERTA_BPP_con_2016.csv', 'ITR_CIA_ABERTA_DFC_MI_con_2016.csv', 'itr_cia_aberta_dmpl_ind_2015.csv', 'ITR_CIA_ABERTA_DFC_MI_con_2017.csv', 'itr_cia_aberta_bpp_con_2015.csv', 'itr_cia_aberta_dmpl_con_2015.csv', 'ITR_CIA_ABERTA_DFC_MI_ind_2017.csv', 'itr_cia_aberta_bpp_ind_2015.csv', 'meta_ITR_CIA_ABERTA.txt', 'ITR_CIA_ABERTA_DFC_MI_ind_2016.csv', 'ITR_CIA_ABERTA_DMPL_con_2016.csv', 'ITR_CIA_ABERTA_BPP_ind_2016.csv', 'ITR_CIA_ABERTA_BPP_ind_2017.csv', 'itr_cia_aberta_dfc_mi_ind_2015.csv', 'ITR_CIA_ABERTA_DMPL_con_2017.csv', 'ITR_CIA_ABERTA_DRE_ind_2018.csv', 'ITR_CIA_ABERTA_BPA_con_2018.csv', 'itr_cia_aberta_dva_con_2015.csv', 'itr_cia_aberta_dfc_md_ind_2015.csv', 'ITR_CIA_ABERTA_2019.csv', 'ITR_CIA_ABERTA_2018.csv', 'ITR_CIA_ABERTA_BPA_con_2019.csv', 'ITR_CIA_ABERTA_DRE_ind_2019.csv', 'ITR_CIA_ABERTA_DFC_MD_ind_2016.csv', 'ITR_CIA_ABERTA_DVA_con_2016.csv', 'ITR_CIA_ABERTA_DVA_con_2017.csv', 'ITR_CIA_ABERTA_DFC_MD_ind_2017.csv', 'ITR_CIA_ABERTA_DFC_MD_con_2017.csv', 'ITR_CIA_ABERTA_DVA_ind_2017.csv', 'ITR_CIA_ABERTA_DVA_ind_2016.csv', 'ITR_CIA_ABERTA_DFC_MD_con_2016.csv', 'ITR_CIA_ABERTA_BPA_ind_2019.csv', 'ITR_CIA_ABERTA_DRE_con_2019.csv', 'ITR_CIA_ABERTA_DRE_con_2018.csv', 'ITR_CIA_ABERTA_BPA_ind_2018.csv', 'itr_cia_aberta_dfc_md_con_2015.csv', 'meta_ITR_CIA_ABERTA_DFC_MD.txt', 'itr_cia_aberta_dva_ind_2015.csv', 'meta_ITR_CIA_ABERTA_DRE.txt']\n"
    }
   ],
   "source": [
    "print(os.listdir(\"./input_cvm/itr\"))"
   ]
  },
  {
   "cell_type": "code",
   "execution_count": 14,
   "metadata": {},
   "outputs": [],
   "source": [
    "DRE_ITR2019 = pd.read_csv(\"./input_cvm/itr/ITR_CIA_ABERTA_DRE_con_2019.csv\", thousands=',', sep=';', encoding='latin-1')"
   ]
  },
  {
   "cell_type": "code",
   "execution_count": 26,
   "metadata": {},
   "outputs": [],
   "source": [
    "DRE_ITR_CON = []\n",
    "path = './input_cvm/itr/itr_cia_aberta_dre_con_'\n",
    "for year in range(2015,2020,1):\n",
    "    DRE_ITR_CON = pd.concat([pd.read_csv(path+str(year)+'.csv', thousands=',', sep=';', encoding='latin-1')])\n",
    "\n",
    "DRE_ITR_IND = []\n",
    "path = './input_cvm/itr/itr_cia_aberta_dre_ind_'\n",
    "for year in range(2015,2020,1):\n",
    "    DRE_ITR_IND = pd.concat([pd.read_csv(path+str(year)+'.csv', thousands=',', sep=';', encoding='latin-1')])\n",
    "\n",
    "path = './input_cvm/dfp/dre_cia_aberta_con_'\n",
    "for year in range(2015,2020,1):\n",
    "    DRE_DFP_CON = pd.concat([pd.read_csv(path+str(year)+'.csv', thousands=',', sep=';', encoding='latin-1')])\n",
    "\n",
    "path = './input_cvm/dfp/dre_cia_aberta_ind_'\n",
    "for year in range(2015,2020,1):\n",
    "    DRE_DFP_IND = pd.concat([pd.read_csv(path+str(year)+'.csv', thousands=',', sep=';', encoding='latin-1')])\n",
    "\n",
    "DRE=pd.concat([DRE_ITR_CON,DRE_DFP_CON])"
   ]
  },
  {
   "cell_type": "code",
   "execution_count": 16,
   "metadata": {},
   "outputs": [],
   "source": [
    "# DRE_ITR2015_CON = pd.read_csv(\"./input_cvm/itr/itr_cia_aberta_dre_con_2015.csv\", thousands=',', sep=';', encoding='latin-1')\n",
    "# DRE_ITR2016_CON = pd.read_csv(\"./input_cvm/itr/itr_cia_aberta_dre_con_2016.csv\", thousands=',', sep=';', encoding='latin-1')\n",
    "# DRE_ITR2017_CON = pd.read_csv(\"./input_cvm/itr/itr_cia_aberta_dre_con_2017.csv\", thousands=',', sep=';', encoding='latin-1')\n",
    "# DRE_ITR2018_CON = pd.read_csv(\"./input_cvm/itr/itr_cia_aberta_dre_con_2018.csv\", thousands=',', sep=';', encoding='latin-1')\n",
    "# DRE_ITR2019_CON = pd.read_csv(\"./input_cvm/itr/itr_cia_aberta_dre_con_2019.csv\", thousands=',', sep=';', encoding='latin-1')\n",
    "# #Concat todos\n",
    "# DRE_ITR_CON=pd.concat([DRE_ITR2015_CON,DRE_ITR2016_CON,DRE_ITR2017_CON,DRE_ITR2018_CON,DRE_ITR2019_CON])\n",
    "# #ITR individuais\n",
    "# DRE_ITR2015_IND = pd.read_csv(\"./input_cvm/itr/itr_cia_aberta_dre_ind_2015.csv\", thousands=',', sep=';', encoding='latin-1')\n",
    "# DRE_ITR2016_IND = pd.read_csv(\"./input_cvm/itr/itr_cia_aberta_dre_ind_2016.csv\", thousands=',', sep=';', encoding='latin-1')\n",
    "# DRE_ITR2017_IND = pd.read_csv(\"./input_cvm/itr/itr_cia_aberta_dre_ind_2017.csv\", thousands=',', sep=';', encoding='latin-1')\n",
    "# DRE_ITR2018_IND = pd.read_csv(\"./input_cvm/itr/itr_cia_aberta_dre_ind_2018.csv\", thousands=',', sep=';', encoding='latin-1')\n",
    "# DRE_ITR2019_IND = pd.read_csv(\"./input_cvm/itr/itr_cia_aberta_dre_ind_2019.csv\", thousands=',', sep=';', encoding='latin-1')\n",
    "# #Concat todos\n",
    "# DRE_ITR_IND=pd.concat([DRE_ITR2015_IND,DRE_ITR2016_IND,DRE_ITR2017_IND,DRE_ITR2018_IND,DRE_ITR2019_IND])\n",
    "\n",
    "# #Carregando dados padronizados (DFP) de cada ano\n",
    "# DRE_DFP2015 = pd.read_csv(\"./input_cvm/dfp/dre_cia_aberta_con_2015.csv\", thousands=',', sep=';', encoding='latin-1')\n",
    "# DRE_DFP2016 = pd.read_csv(\"./input_cvm/dfp/dre_cia_aberta_con_2016.csv\", thousands=',', sep=';', encoding='latin-1')\n",
    "# DRE_DFP2017 = pd.read_csv(\"./input_cvm/dfp/dre_cia_aberta_con_2017.csv\", thousands=',', sep=';', encoding='latin-1')\n",
    "# DRE_DFP2018 = pd.read_csv(\"./input_cvm/dfp/dre_cia_aberta_con_2018.csv\", thousands=',', sep=';', encoding='latin-1')\n",
    "# DRE_DFP2019 = pd.read_csv(\"./input_cvm/dfp/dre_cia_aberta_con_2019.csv\", thousands=',', sep=';', encoding='latin-1')\n",
    "# #Concat todos\n",
    "# DRE_DFP=pd.concat([DRE_DFP2015,DRE_DFP2016,DRE_DFP2017,DRE_DFP2018,DRE_DFP2019])\n",
    "# #Concat DRE_ITR e DRE_DFP\n",
    "# DRE=pd.concat([DRE_ITR,DRE_DFP])\n",
    "#DATA REF\n",
    "DRE.DT_REFER=pd.to_datetime(DRE.DT_REFER)\n",
    "#INICIO\n",
    "DRE.DT_INI_EXERC=pd.to_datetime(DRE.DT_INI_EXERC)\n",
    "#FIM\n",
    "DRE.DT_FIM_EXERC=pd.to_datetime(DRE.DT_FIM_EXERC)\n",
    "#Drop ORDEM_EXERC==PENÚLTIMO\n",
    "DRE=DRE[DRE.ORDEM_EXERC=='ÚLTIMO']"
   ]
  },
  {
   "cell_type": "markdown",
   "metadata": {},
   "source": [
    "Definido o trimestre correspondente de cada dado"
   ]
  },
  {
   "cell_type": "code",
   "execution_count": 17,
   "metadata": {},
   "outputs": [
    {
     "data": {
      "text/plain": "138"
     },
     "execution_count": 17,
     "metadata": {},
     "output_type": "execute_result"
    }
   ],
   "source": [
    "(DRE_ITR2019.CD_CVM==1155).sum()"
   ]
  },
  {
   "cell_type": "code",
   "execution_count": 9,
   "metadata": {},
   "outputs": [],
   "source": [
    "#Adicionar column do nível do dado conforme columna CD_CONTA. Ex.: '3.04.02' -> nível 3\n",
    "def getLevel(row):\n",
    "    return len(row['CD_CONTA'].split('.'))\n",
    "DRE['NIVEL']=DRE.apply(lambda r: getLevel(r), axis=1)"
   ]
  },
  {
   "cell_type": "code",
   "execution_count": 11,
   "metadata": {},
   "outputs": [],
   "source": [
    "#Filtrar para somente NIVEL 2\n",
    "DRE_NIVEL1 = DRE[DRE.NIVEL==2]\n",
    "DRE_NIVEL1['DESC_SIMPLES']=DRE_NIVEL1['DS_CONTA'].map(MapNivel2)\n",
    "DRE_NIVEL1.dropna(subset=['DESC_SIMPLES'], inplace=True)\n",
    "DRE_NIVEL1['CD_CONTA']=DRE_NIVEL1['DESC_SIMPLES'].map(MapaNiveis)\n",
    "#Filtrar para somente NIVEL 3\n",
    "DRE_NIVEL2 = DRE[DRE.NIVEL==3]\n",
    "DRE_NIVEL2['DESC_SIMPLES']=DRE_NIVEL2['DS_CONTA'].map(MapNivel3)\n",
    "DRE_NIVEL2.dropna(subset=['DESC_SIMPLES'], inplace=True)\n",
    "DRE_NIVEL2['CD_CONTA']=DRE_NIVEL2['DESC_SIMPLES'].map(MapaNiveis)\n",
    "#Concat Nivel 1 e 2\n",
    "DRE_NIVEL1e2=pd.concat([DRE_NIVEL1,DRE_NIVEL2])\n",
    "#Mapeamento da Escala dos Valores\n",
    "DRE_NIVEL1e2['ESCALA'] = DRE_NIVEL1e2.ESCALA_MOEDA.map({'MIL': 1000, 'MILHAR': 1000, 'UNIDADE': 1})\n",
    "#Drop colunas desnecessárias\n",
    "DRE_NIVEL1e2.drop(['DT_REFER', 'VERSAO', 'GRUPO_DFP', 'ESCALA_MOEDA', 'MOEDA', 'ORDEM_EXERC', 'DS_CONTA'], axis=1, inplace=True)"
   ]
  },
  {
   "cell_type": "code",
   "execution_count": 12,
   "metadata": {},
   "outputs": [],
   "source": [
    "def getTrim(month):\n",
    "    if(month==2 or month==3):\n",
    "        return 1\n",
    "    elif(month==5 or month==6):\n",
    "        return 2\n",
    "    elif(month==8 or month==9):\n",
    "        return 3\n",
    "    elif(month==11 or month==12):\n",
    "        return 4\n",
    "    else:\n",
    "        return np.nan\n",
    "\n",
    "DRE_NIVEL1e2['TRIM'] = DRE_NIVEL1e2.DT_FIM_EXERC.map(lambda d: getTrim(d.month))\n",
    "DRE_NIVEL1e2=DRE_NIVEL1e2.dropna()\n",
    "#Create column with YEAR\n",
    "DRE_NIVEL1e2['YEAR']=DRE_NIVEL1e2.DT_FIM_EXERC.dt.year\n",
    "#Create DAYS column (diff entre INI e FIM)\n",
    "DRE_NIVEL1e2['DAYS'] = DRE_NIVEL1e2.apply(lambda x: (x['DT_FIM_EXERC']-x['DT_INI_EXERC']).days , axis=1)"
   ]
  },
  {
   "cell_type": "code",
   "execution_count": 112,
   "metadata": {},
   "outputs": [],
   "source": [
    "def calculateAV(r):\n",
    "    yr = r.YEAR\n",
    "    trim = r.TRIM\n",
    "    receita = df[(df.YEAR==yr) & (df.TRIM == trim) & (df.DESC_SIMPLES == 'Receita Líquida')]['TRIM_VL'].values[0]\n",
    "    valor = r.TRIM_VL\n",
    "    if receita!=0:\n",
    "        return valor/receita\n",
    "    else:\n",
    "        return np.nan\n",
    "\n",
    "def calculateMarginTrim(r):\n",
    "    campo = r.DESC_SIMPLES\n",
    "    if  campo in ['EBIT', 'Lucro Líquido', 'EBT', 'Lucro Bruto']:\n",
    "        yr = r.YEAR\n",
    "        trim = r.TRIM\n",
    "        receita = df[(df.YEAR==yr) & (df.TRIM == trim) & (df.DESC_SIMPLES == 'Receita Líquida')]['TRIM_VL'].values[0]\n",
    "        valor = r.TRIM_VL\n",
    "        if receita!=0:\n",
    "            return valor/receita\n",
    "        else:\n",
    "            return np.nan\n",
    "\n",
    "def calculateMarginYear(r):\n",
    "    campo = r.DESC_SIMPLES\n",
    "    if  campo in ['EBIT', 'Lucro Líquido', 'EBT', 'Lucro Bruto']:\n",
    "        yr = r.YEAR\n",
    "        trim = r.TRIM\n",
    "        receita = df[(df.YEAR==yr) & (df.TRIM == trim) & (df.DESC_SIMPLES == 'Receita Líquida')]['VL_CONTA'].values[0]\n",
    "        valor = r.VL_CONTA\n",
    "        if receita!=0:\n",
    "            return valor/receita\n",
    "        else:\n",
    "            return np.nan\n",
    "\n",
    "def calculateMarginTTM(r):\n",
    "    campo = r.DESC_SIMPLES\n",
    "    if  campo in ['EBIT', 'Lucro Líquido', 'EBT', 'Lucro Bruto']:\n",
    "        yr = r.YEAR\n",
    "        trim = r.TRIM\n",
    "        receita = df[(df.YEAR==yr) & (df.TRIM == trim) & (df.DESC_SIMPLES == 'Receita Líquida')]['TTM'].values[0]\n",
    "        valor = r.TTM\n",
    "        if receita!=0:\n",
    "            return valor/receita\n",
    "        else:\n",
    "            return np.nan"
   ]
  },
  {
   "cell_type": "code",
   "execution_count": 7,
   "metadata": {},
   "outputs": [
    {
     "name": "stdout",
     "output_type": "stream",
     "text": "CNPJ_CIA                               DENOM_CIA  CD_CVM  \\\n9562  28.127.603/0001-78  BANESTES S.A. - BCO EST ESPIRITO SANTO    1155   \n9572  28.127.603/0001-78  BANESTES S.A. - BCO EST ESPIRITO SANTO    1155   \n9576  28.127.603/0001-78  BANESTES S.A. - BCO EST ESPIRITO SANTO    1155   \n9578  28.127.603/0001-78  BANESTES S.A. - BCO EST ESPIRITO SANTO    1155   \n9612  28.127.603/0001-78  BANESTES S.A. - BCO EST ESPIRITO SANTO    1155   \n9614  28.127.603/0001-78  BANESTES S.A. - BCO EST ESPIRITO SANTO    1155   \n9628  28.127.603/0001-78  BANESTES S.A. - BCO EST ESPIRITO SANTO    1155   \n9500  28.127.603/0001-78  BANESTES S.A. - BCO EST ESPIRITO SANTO    1155   \n9508  28.127.603/0001-78  BANESTES S.A. - BCO EST ESPIRITO SANTO    1155   \n9512  28.127.603/0001-78  BANESTES S.A. - BCO EST ESPIRITO SANTO    1155   \n9514  28.127.603/0001-78  BANESTES S.A. - BCO EST ESPIRITO SANTO    1155   \n9546  28.127.603/0001-78  BANESTES S.A. - BCO EST ESPIRITO SANTO    1155   \n9548  28.127.603/0001-78  BANESTES S.A. - BCO EST ESPIRITO SANTO    1155   \n9562  28.127.603/0001-78  BANESTES S.A. - BCO EST ESPIRITO SANTO    1155   \n9363  28.127.603/0001-78  BANESTES S.A. - BCO EST ESPIRITO SANTO    1155   \n9373  28.127.603/0001-78  BANESTES S.A. - BCO EST ESPIRITO SANTO    1155   \n9377  28.127.603/0001-78  BANESTES S.A. - BCO EST ESPIRITO SANTO    1155   \n9379  28.127.603/0001-78  BANESTES S.A. - BCO EST ESPIRITO SANTO    1155   \n9411  28.127.603/0001-78  BANESTES S.A. - BCO EST ESPIRITO SANTO    1155   \n9413  28.127.603/0001-78  BANESTES S.A. - BCO EST ESPIRITO SANTO    1155   \n9427  28.127.603/0001-78  BANESTES S.A. - BCO EST ESPIRITO SANTO    1155   \n9651  28.127.603/0001-78  BANESTES S.A. - BCO EST ESPIRITO SANTO    1155   \n9665  28.127.603/0001-78  BANESTES S.A. - BCO EST ESPIRITO SANTO    1155   \n9669  28.127.603/0001-78  BANESTES S.A. - BCO EST ESPIRITO SANTO    1155   \n9671  28.127.603/0001-78  BANESTES S.A. - BCO EST ESPIRITO SANTO    1155   \n9703  28.127.603/0001-78  BANESTES S.A. - BCO EST ESPIRITO SANTO    1155   \n9705  28.127.603/0001-78  BANESTES S.A. - BCO EST ESPIRITO SANTO    1155   \n9719  28.127.603/0001-78  BANESTES S.A. - BCO EST ESPIRITO SANTO    1155   \n\n     DT_INI_EXERC DT_FIM_EXERC  CD_CONTA   VL_CONTA  NIVEL  \\\n9562   2015-01-01   2015-12-31       1.0  2238017.0      2   \n9572   2015-01-01   2015-12-31       2.0 -1460241.0      2   \n9576   2015-01-01   2015-12-31       3.0   777776.0      2   \n9578   2015-01-01   2015-12-31       4.0  -602264.0      2   \n9612   2015-01-01   2015-12-31       9.0   175512.0      2   \n9614   2015-01-01   2015-12-31      10.0   -19148.0      2   \n9628   2015-01-01   2015-12-31      11.0   156364.0      2   \n9500   2016-01-01   2016-12-31       1.0  2898343.0      2   \n9508   2016-01-01   2016-12-31       2.0 -2114464.0      2   \n9512   2016-01-01   2016-12-31       3.0   783879.0      2   \n9514   2016-01-01   2016-12-31       4.0  -563932.0      2   \n9546   2016-01-01   2016-12-31       9.0   219947.0      2   \n9548   2016-01-01   2016-12-31      10.0   -74199.0      2   \n9562   2016-01-01   2016-12-31      11.0   145748.0      2   \n9363   2017-01-01   2017-12-31       1.0  2651708.0      2   \n9373   2017-01-01   2017-12-31       2.0 -1835559.0      2   \n9377   2017-01-01   2017-12-31       3.0   816149.0      2   \n9379   2017-01-01   2017-12-31       4.0  -557577.0      2   \n9411   2017-01-01   2017-12-31       9.0   258572.0      2   \n9413   2017-01-01   2017-12-31      10.0   -91205.0      2   \n9427   2017-01-01   2017-12-31      11.0   167367.0      2   \n9651   2018-01-01   2018-12-31       1.0  2164884.0      2   \n9665   2018-01-01   2018-12-31       2.0 -1323203.0      2   \n9669   2018-01-01   2018-12-31       3.0   841681.0      2   \n9671   2018-01-01   2018-12-31       4.0  -610725.0      2   \n9703   2018-01-01   2018-12-31       9.0   230956.0      2   \n9705   2018-01-01   2018-12-31      10.0   -77223.0      2   \n9719   2018-01-01   2018-12-31      11.0   153733.0      2   \n\n                        DESC_SIMPLES  ESCALA  TRIM  YEAR  DAYS  \n9562                 Receita Líquida    1000     4  2015   364  \n9572                          Custos    1000     4  2015   364  \n9576                     Lucro Bruto    1000     4  2015   364  \n9578  Despesas/Receitas Operacionais    1000     4  2015   364  \n9612                             EBT    1000     4  2015   364  \n9614                        Impostos    1000     4  2015   364  \n9628                   Lucro Líquido    1000     4  2015   364  \n9500                 Receita Líquida    1000     4  2016   365  \n9508                          Custos    1000     4  2016   365  \n9512                     Lucro Bruto    1000     4  2016   365  \n9514  Despesas/Receitas Operacionais    1000     4  2016   365  \n9546                             EBT    1000     4  2016   365  \n9548                        Impostos    1000     4  2016   365  \n9562                   Lucro Líquido    1000     4  2016   365  \n9363                 Receita Líquida    1000     4  2017   364  \n9373                          Custos    1000     4  2017   364  \n9377                     Lucro Bruto    1000     4  2017   364  \n9379  Despesas/Receitas Operacionais    1000     4  2017   364  \n9411                             EBT    1000     4  2017   364  \n9413                        Impostos    1000     4  2017   364  \n9427                   Lucro Líquido    1000     4  2017   364  \n9651                 Receita Líquida    1000     4  2018   364  \n9665                          Custos    1000     4  2018   364  \n9669                     Lucro Bruto    1000     4  2018   364  \n9671  Despesas/Receitas Operacionais    1000     4  2018   364  \n9703                             EBT    1000     4  2018   364  \n9705                        Impostos    1000     4  2018   364  \n9719                   Lucro Líquido    1000     4  2018   364  \n"
    },
    {
     "ename": "NameError",
     "evalue": "name 'T' is not defined",
     "output_type": "error",
     "traceback": [
      "\u001b[0;31m---------------------------------------------------------------------------\u001b[0m",
      "\u001b[0;31mNameError\u001b[0m                                 Traceback (most recent call last)",
      "\u001b[0;32m<ipython-input-7-b8a8abd6900c>\u001b[0m in \u001b[0;36m<module>\u001b[0;34m\u001b[0m\n\u001b[1;32m      7\u001b[0m     \u001b[0mdf\u001b[0m \u001b[0;34m=\u001b[0m \u001b[0mDRE_NIVEL1e2\u001b[0m\u001b[0;34m[\u001b[0m\u001b[0;34m(\u001b[0m\u001b[0mDRE_NIVEL1e2\u001b[0m\u001b[0;34m.\u001b[0m\u001b[0mCD_CVM\u001b[0m\u001b[0;34m==\u001b[0m\u001b[0mcvm\u001b[0m\u001b[0;34m)\u001b[0m\u001b[0;34m]\u001b[0m\u001b[0;34m\u001b[0m\u001b[0m\n\u001b[1;32m      8\u001b[0m     \u001b[0mprint\u001b[0m\u001b[0;34m(\u001b[0m\u001b[0mdf\u001b[0m\u001b[0;34m)\u001b[0m\u001b[0;34m\u001b[0m\u001b[0m\n\u001b[0;32m----> 9\u001b[0;31m     \u001b[0mdf\u001b[0m\u001b[0;34m[\u001b[0m\u001b[0;34m'DAYS'\u001b[0m\u001b[0;34m]\u001b[0m \u001b[0;34m=\u001b[0m \u001b[0mT\u001b[0m\u001b[0;34m.\u001b[0m\u001b[0mapply\u001b[0m\u001b[0;34m(\u001b[0m\u001b[0;32mlambda\u001b[0m \u001b[0mx\u001b[0m\u001b[0;34m:\u001b[0m \u001b[0;34m(\u001b[0m\u001b[0mx\u001b[0m\u001b[0;34m[\u001b[0m\u001b[0;34m'DT_FIM_EXERC'\u001b[0m\u001b[0;34m]\u001b[0m\u001b[0;34m-\u001b[0m\u001b[0mx\u001b[0m\u001b[0;34m[\u001b[0m\u001b[0;34m'DT_INI_EXERC'\u001b[0m\u001b[0;34m]\u001b[0m\u001b[0;34m)\u001b[0m\u001b[0;34m.\u001b[0m\u001b[0mdays\u001b[0m \u001b[0;34m,\u001b[0m \u001b[0maxis\u001b[0m\u001b[0;34m=\u001b[0m\u001b[0;36m1\u001b[0m\u001b[0;34m)\u001b[0m\u001b[0;34m\u001b[0m\u001b[0m\n\u001b[0m\u001b[1;32m     10\u001b[0m     \u001b[0mdf\u001b[0m \u001b[0;34m=\u001b[0m \u001b[0mdf\u001b[0m\u001b[0;34m.\u001b[0m\u001b[0msort_values\u001b[0m\u001b[0;34m(\u001b[0m\u001b[0;34m[\u001b[0m\u001b[0;34m'DESC_SIMPLES'\u001b[0m\u001b[0;34m,\u001b[0m\u001b[0;34m'DT_INI_EXERC'\u001b[0m\u001b[0;34m,\u001b[0m \u001b[0;34m'DT_FIM_EXERC'\u001b[0m\u001b[0;34m]\u001b[0m\u001b[0;34m)\u001b[0m\u001b[0;34m\u001b[0m\u001b[0m\n\u001b[1;32m     11\u001b[0m     \u001b[0mdf\u001b[0m\u001b[0;34m.\u001b[0m\u001b[0mreset_index\u001b[0m\u001b[0;34m(\u001b[0m\u001b[0minplace\u001b[0m\u001b[0;34m=\u001b[0m\u001b[0;32mTrue\u001b[0m\u001b[0;34m,\u001b[0m \u001b[0mdrop\u001b[0m\u001b[0;34m=\u001b[0m\u001b[0;32mTrue\u001b[0m\u001b[0;34m)\u001b[0m\u001b[0;34m\u001b[0m\u001b[0m\n",
      "\u001b[0;31mNameError\u001b[0m: name 'T' is not defined"
     ]
    }
   ],
   "source": [
    "# cvm = 94\n",
    "# cvm=1155\n",
    "# cvm=24228\n",
    "for cvm in DRE_NIVEL1e2.CD_CVM.unique()[0:1]:\n",
    "    df=[]\n",
    "    cvm = 1155\n",
    "    df = DRE_NIVEL1e2[(DRE_NIVEL1e2.CD_CVM==cvm)]\n",
    "    print(df)\n",
    "    df['DAYS'] = T.apply(lambda x: (x['DT_FIM_EXERC']-x['DT_INI_EXERC']).days , axis=1)\n",
    "    df = df.sort_values(['DESC_SIMPLES','DT_INI_EXERC', 'DT_FIM_EXERC'])\n",
    "    df.reset_index(inplace=True, drop=True)\n",
    "    \n",
    "    #CALCULATE TRIM\n",
    "    criteria1 = (df.DAYS <=100)\n",
    "    criteria2 = ((df.DESC_SIMPLES == df.DESC_SIMPLES.shift(1)) & (df.DAYS>100) & (abs(df.YEAR-df.YEAR.shift(1))<=1) & ((df.DAYS-df.DAYS.shift(1))<=100) & ((df.TRIM-df.TRIM.shift(1)).isin([1,-3])))\n",
    "    TRIM_VL = []\n",
    "    for i, row in df.iterrows():\n",
    "        if criteria1[i]:\n",
    "            TRIM_VL.append(row['VL_CONTA'])\n",
    "        elif criteria2[i]:\n",
    "            TRIM_VL.append(df.loc[i]['VL_CONTA']-df.loc[i-1]['VL_CONTA'])\n",
    "        else:\n",
    "            TRIM_VL.append(np.nan)\n",
    "    df['TRIM_VL'] = TRIM_VL\n",
    "    #Drop DT_FIM_EXERC e DT_INI_EXERC\n",
    "    df.drop(['DT_FIM_EXERC', 'DT_INI_EXERC', 'DAYS', 'CNPJ_CIA'], axis=1, inplace=True)\n",
    "    \n",
    "    #Sort para garantir o sequenciamento correto\n",
    "    df = df.sort_values(['DESC_SIMPLES', 'YEAR','TRIM']).reset_index(drop=True)\n",
    "    #Calculate Variação entre Trimestre - AH (Análise Horizontal)\n",
    "    cutTwo = (df.DESC_SIMPLES == df.DESC_SIMPLES.shift(1)) \n",
    "    AH = []\n",
    "    for i, row in df.iterrows():\n",
    "        if cutTwo[i]:\n",
    "            ah = (df.iloc[i]['TRIM_VL']-df.iloc[i-1]['TRIM_VL'])/df.iloc[i-1]['TRIM_VL']\n",
    "            AH.append(ah)\n",
    "        else:\n",
    "            AH.append(None)\n",
    "    df['AH']=pd.Series(AH)\n",
    "    # Calculate TTM (Soma das últimas 4 rows)\n",
    "    cutFour = (df.DESC_SIMPLES == df.DESC_SIMPLES.shift(1)) & (df.DESC_SIMPLES == df.DESC_SIMPLES.shift(2)) & (df.DESC_SIMPLES == df.DESC_SIMPLES.shift(3))\n",
    "    TTM = []\n",
    "    for i, row in df.iterrows():\n",
    "        if cutFour[i]:\n",
    "            TTM.append(sum(df.iloc[i-3:i+1]['TRIM_VL'].values))\n",
    "        else:\n",
    "            TTM.append(np.nan)\n",
    "    df['TTM']=pd.Series(TTM)\n",
    "    #Sort novamente\n",
    "    df = df.sort_values(['YEAR','TRIM','CD_CONTA']).reset_index(drop=True)\n",
    "    #Cálculo da Variação Vertical no Trimestre - AV (Análise Vertical)\n",
    "    df['AV'] = df.apply(lambda r: calculateAV(r), axis=1)\n",
    "    #Cálculo das Margins\n",
    "    df['MARGEM_TRIM']=df.apply(lambda r: calculateMarginTrim(r), axis=1)\n",
    "    df['MARGEM_ANO']=df.apply(lambda r: calculateMarginYear(r), axis=1)\n",
    "    df['MARGEM_TTM']=df.apply(lambda r: calculateMarginTTM(r), axis=1)\n",
    "    #Adicionando o TRIM_ANO como coluna\n",
    "    df['TRIM_ANO']=df.apply(lambda r: \"%dT%d\" %(r['TRIM'],r['YEAR']), axis=1)\n",
    "\n",
    "    #Gravando arquivo\n",
    "    data = {\"data\" : df.to_dict('records')}\n",
    "    data = {\n",
    "        \"cvm\": int(cvm), \n",
    "        \"data\" : data,\n",
    "    }\n",
    "    with open('./output_cvm/'+str(cvm)+'.json', 'w') as outfile:\n",
    "        json.dump(data, outfile, indent=2)"
   ]
  },
  {
   "cell_type": "code",
   "execution_count": null,
   "metadata": {},
   "outputs": [],
   "source": []
  }
 ],
 "metadata": {
  "kernelspec": {
   "display_name": "Python 3",
   "language": "python",
   "name": "python3"
  },
  "language_info": {
   "codemirror_mode": {
    "name": "ipython",
    "version": 3
   },
   "file_extension": ".py",
   "mimetype": "text/x-python",
   "name": "python",
   "nbconvert_exporter": "python",
   "pygments_lexer": "ipython3",
   "version": "3.6.0-final"
  }
 },
 "nbformat": 4,
 "nbformat_minor": 1
}