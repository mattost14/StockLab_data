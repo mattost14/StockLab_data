{
 "cells": [
  {
   "cell_type": "code",
   "execution_count": 1,
   "metadata": {},
   "outputs": [],
   "source": [
    "import numpy as np # linear algebra\n",
    "import pandas as pd # data processing, CSV file I/O (e.g. pd.read_csv)\n",
    "import matplotlib, json\n",
    "import matplotlib.pyplot as plt\n",
    "import sys\n",
    "sys.path.append('/Users/BrunoMattos/Documents2/Dev/stocklab_data/Firestore')\n",
    "from uploadToFirestore import uploadDocumentToFirestore\n",
    "import os\n",
    "#print(os.listdir(\"./dre_input\"))\n",
    "itr_input = './input_cvm/itr/'\n",
    "dfp_input = './input_cvm/dfp/'\n",
    "# print(os.listdir(\"./input_cvm/itr\"))"
   ]
  },
  {
   "cell_type": "code",
   "execution_count": 164,
   "metadata": {},
   "outputs": [],
   "source": [
    "MapaNiveis = {\n",
    "    'Caixa Líquido Atividades Operacionais': 1,\n",
    "        'Caixa Gerado nas Operações': 1.1,\n",
    "        'Variações nos Ativos e Passivos': 1.2,\n",
    "        'Outros': 1.3,\n",
    "    'Caixa Líquido Atividades de Investimento': 2,\n",
    "    'Caixa Líquido Atividades de Financiamento': 3,\n",
    "    'Variação Cambial s/ Caixa e Equivalentes':4 ,\n",
    "    'Aumento (Redução) de Caixa e Equivalentes': 5,\n",
    "        'Saldo Inicial de Caixa e Equivalentes': 5.1,\n",
    "        'Saldo Final de Caixa e Equivalentes': 5.2, \n",
    "}\n",
    "MapNivel1 = {\n",
    "    'Caixa Líquido Atividades Operacionais':'Caixa Líquido Atividades Operacionais',\n",
    "    'Caixa Líquido Atividades de Investimento':'Caixa Líquido Atividades de Investimento',\n",
    "    'Caixa Líquido Atividades de Financiamento':'Caixa Líquido Atividades de Financiamento',\n",
    "}\n",
    "MapNivel2 = {\n",
    "    'Caixa Gerado nas Operações':'Caixa Gerado nas Operações',\n",
    "    'Variações nos Ativos e Passivos':'Variações nos Ativos e Passivos',\n",
    "    'Outros':'Outros',\n",
    "    'Saldo Inicial de Caixa e Equivalentes':'Saldo Inicial de Caixa e Equivalentes',\n",
    "    'Saldo Final de Caixa e Equivalentes':'Saldo Final de Caixa e Equivalentes',   \n",
    "}\n",
    "MapGrupo = {\n",
    "    'DF Consolidado - Demonstração do Fluxo de Caixa (Método Indireto)': 'Consolidado',\n",
    "    'DF Individual - Balanço Patrimonial Ativo': 'Ativo Individual',\n",
    "}"
   ]
  },
  {
   "cell_type": "code",
   "execution_count": 8,
   "metadata": {},
   "outputs": [],
   "source": [
    "#DEMONSTRAÇÃO DE FLUXO DE CAIXA - DFC\n",
    "\n",
    "# --- ITR\n",
    "DFC_ITR_CON = pd.DataFrame() \n",
    "path = itr_input + 'itr_cia_aberta_dfc_mi_con_'\n",
    "for year in range(2015,2020,1):\n",
    "    DFC_ITR_CON = pd.concat([DFC_ITR_CON, pd.read_csv(path+str(year)+'.csv', thousands=',', sep=';', encoding='latin-1')])\n",
    "\n",
    "DFC_ITR_IND = pd.DataFrame()\n",
    "path = itr_input + 'itr_cia_aberta_dfc_mi_ind_'\n",
    "for year in range(2015,2020,1):\n",
    "    DFC_ITR_IND = pd.concat([DFC_ITR_IND, pd.read_csv(path+str(year)+'.csv', thousands=',', sep=';', encoding='latin-1')])\n",
    "\n",
    "# --- DFP\n",
    "# DFC_DFP_CON = pd.DataFrame() \n",
    "# path = dfp_input + 'bpa_cia_aberta_con_'\n",
    "# for year in range(2015,2020,1):\n",
    "#     DFC_DFP_CON = pd.concat([DFC_DFP_CON, pd.read_csv(path+str(year)+'.csv', thousands=',', sep=';', encoding='latin-1')])\n",
    "\n",
    "# DFC_DFP_IND = pd.DataFrame()\n",
    "# path = dfp_input + 'bpa_cia_aberta_ind_'\n",
    "# for year in range(2015,2020,1):\n",
    "#     DFC_DFP_IND = pd.concat([DFC_DFP_IND, pd.read_csv(path+str(year)+'.csv', thousands=',', sep=';', encoding='latin-1')])\n",
    "\n",
    "# DFC = pd.concat([DFC_ITR_CON, DFC_ITR_IND, DFC_DFP_CON, DFC_DFP_IND]) \n",
    "DFC = pd.concat([DFC_ITR_CON, DFC_ITR_IND]) "
   ]
  },
  {
   "cell_type": "code",
   "execution_count": 20,
   "metadata": {},
   "outputs": [
    {
     "data": {
      "text/plain": "array(['DF Consolidado - Demonstração do Fluxo de Caixa (Método Indireto)',\n       'DF Individual - Demonstração do Fluxo de Caixa (Método Indireto)'],\n      dtype=object)"
     },
     "execution_count": 20,
     "metadata": {},
     "output_type": "execute_result"
    }
   ],
   "source": [
    "DFC.GRUPO_DFP.unique()"
   ]
  },
  {
   "cell_type": "code",
   "execution_count": 14,
   "metadata": {},
   "outputs": [
    {
     "data": {
      "text/plain": "CD_CONTA  DS_CONTA                                                     \n6.01      Caixa Líquido Atividades Operacionais                            27297\n6.01.01   Caixa Aplicado nas Operações                                         2\n          Caixa Gerado nas Operacoes                                           8\n          Caixa Gerado nas Operações                                       27285\n          Caixa proveniente (aplicado nas) das operações                       2\n6.01.02   Variacoes nos Ativos e Passivos                                      8\n          Variações nos Ativos e Obrigações                                    4\n          Variações nos Ativos e Passivos                                  27261\n          Variações nos Ativos e Passivos Operacionais:                        8\n          Variações nos ativos e passivos                                      8\n          Variações nos ativos e passivos, circulante e não circulantes        8\n6.01.03   Outros                                                           27295\n6.02      Caixa Líquido Atividades de Investimento                         27297\n6.03      Caixa Líquido Atividades de Financiamento                        27297\n6.04      Variação Cambial s/ Caixa e Equivalentes                         27297\n6.05      Aumento (Redução) de Caixa e Equivalentes                        27297\n6.05.01   Saldo Inicial de Caixa e Equivalentes                            27297\n6.05.02   Saldo Final de Caixa e Equivalentes                              27297\nName: CD_CVM, dtype: int64"
     },
     "execution_count": 14,
     "metadata": {},
     "output_type": "execute_result"
    }
   ],
   "source": [
    "DFC.groupby(['CD_CONTA','DS_CONTA']).CD_CVM.count()"
   ]
  },
  {
   "cell_type": "code",
   "execution_count": 194,
   "metadata": {},
   "outputs": [
    {
     "name": "stdout",
     "output_type": "stream",
     "text": "1 - Gerando NÍVEIS ...\n"
    }
   ],
   "source": [
    "#Drop ORDEM_EXERC==PENÚLTIMO\n",
    "BP=BP[BP.ORDEM_EXERC=='ÚLTIMO']\n",
    "print('1 - Gerando NÍVEIS ...')\n",
    "def getLevel(row):\n",
    "    return len(row['CD_CONTA'].split('.'))   \n",
    "BP['NIVEL']=BP.apply(lambda r: getLevel(r), axis=1)"
   ]
  },
  {
   "cell_type": "code",
   "execution_count": 195,
   "metadata": {},
   "outputs": [
    {
     "name": "stdout",
     "output_type": "stream",
     "text": "2 - Filtrar para somente NIVEL 1\n3 - Filtrar para somente NIVEL 2\n4 - Filtrar para somente NIVEL 3\n5 - Concatenando todos níveis\n6 - Finalizando\n"
    }
   ],
   "source": [
    "\n",
    "#Filtrar para somente NIVEL 1\n",
    "print('2 - Filtrar para somente NIVEL 1')\n",
    "BP_NIVEL1 = BP[BP.NIVEL==1]\n",
    "BP_NIVEL1['DESC_SIMPLES']=BP_NIVEL1['DS_CONTA'].map(MapNivel1)\n",
    "BP_NIVEL1.dropna(subset=['DESC_SIMPLES'], inplace=True)\n",
    "BP_NIVEL1['CD_CONTA']=BP_NIVEL1['DESC_SIMPLES'].map(MapaNiveis)\n",
    "#Filtrar para somente NIVEL 2\n",
    "print('3 - Filtrar para somente NIVEL 2')\n",
    "BP_NIVEL2 = BP[BP.NIVEL==2]\n",
    "BP_NIVEL2['DESC_SIMPLES']=BP_NIVEL2['DS_CONTA'].map(MapNivel2)\n",
    "BP_NIVEL2.dropna(subset=['DESC_SIMPLES'], inplace=True)\n",
    "BP_NIVEL2['CD_CONTA']=BP_NIVEL2['DESC_SIMPLES'].map(MapaNiveis)\n",
    "#Filtrar para somente NIVEL 3\n",
    "print('4 - Filtrar para somente NIVEL 3')\n",
    "BP_NIVEL3 = BP[BP.NIVEL==3]\n",
    "#Alterando 'Empréstimos e Financiamentos do Passivo Não Circulante para diferenciar do Passivo Circulante\n",
    "mask = ((BP_NIVEL3.DS_CONTA=='Empréstimos e Financiamentos') & (BP_NIVEL3.CD_CONTA=='2.02.01'))\n",
    "BP_NIVEL3.loc[mask,'DS_CONTA'] = 'Empréstimos e Financiamentos a Longo Prazo'\n",
    "BP_NIVEL3['DESC_SIMPLES']=BP_NIVEL3['DS_CONTA'].map(MapNivel3)\n",
    "BP_NIVEL3.dropna(subset=['DESC_SIMPLES'], inplace=True)\n",
    "BP_NIVEL3['CD_CONTA']=BP_NIVEL3['DESC_SIMPLES'].map(MapaNiveis)\n",
    "#Concat Nivel 1,2 e 3\n",
    "print('5 - Concatenando todos níveis')\n",
    "BP=pd.concat([BP_NIVEL1,BP_NIVEL2,BP_NIVEL3])\n",
    "#Map Grupo (Individual, Consolidado)\n",
    "print('6 - Finalizando')\n",
    "BP['GRUPO_DFP']=BP['GRUPO_DFP'].map(MapGrupo)\n",
    "#Mapeamento da Escala dos Valores\n",
    "BP['ESCALA'] = BP.ESCALA_MOEDA.map({'MIL': 1000, 'MILHAR': 1000, 'UNIDADE': 1})\n",
    "#FIM\n",
    "BP.DT_FIM_EXERC=pd.to_datetime(BP.DT_FIM_EXERC)\n",
    "#Drop colunas desnecessárias\n",
    "BP.drop(['DT_REFER', 'VERSAO', 'ESCALA_MOEDA', 'MOEDA', 'ORDEM_EXERC', 'DS_CONTA'], axis=1, inplace=True)\n",
    "    "
   ]
  },
  {
   "cell_type": "code",
   "execution_count": 196,
   "metadata": {},
   "outputs": [],
   "source": [
    "def getTrim(month):\n",
    "    if(month==2 or month==3):\n",
    "        return 1\n",
    "    elif(month==5 or month==6):\n",
    "        return 2\n",
    "    elif(month==8 or month==9):\n",
    "        return 3\n",
    "    elif(month==11 or month==12):\n",
    "        return 4\n",
    "    else:\n",
    "        return np.nan\n",
    "\n",
    "BP['TRIM'] = BP.DT_FIM_EXERC.map(lambda d: getTrim(d.month))\n",
    "BP.dropna(inplace=True)\n",
    "BP['YEAR'] = BP.DT_FIM_EXERC.dt.year"
   ]
  },
  {
   "cell_type": "code",
   "execution_count": 198,
   "metadata": {},
   "outputs": [],
   "source": [
    "def calculateAV(r):\n",
    "    yr = r.YEAR\n",
    "    trim = r.TRIM\n",
    "    valor = r.VL_CONTA\n",
    "    ativo_total = df[(df.YEAR==yr) & (df.TRIM == trim) & (df.CD_CONTA == '1')]\n",
    "    passivo_total = df[(df.YEAR==yr) & (df.TRIM == trim) & (df.CD_CONTA == '2')]\n",
    "    if(len(ativo_total)):\n",
    "        baseValue = ativo_total['VL_CONTA'].values[0]\n",
    "    elif(len(passivo_total)):\n",
    "        baseValue = passivo_total['VL_CONTA'].values[0]\n",
    "    else:\n",
    "        baseValue=0\n",
    "    if baseValue!=0:\n",
    "        return valor/baseValue\n",
    "    else:\n",
    "        return np.nan\n"
   ]
  },
  {
   "cell_type": "code",
   "execution_count": 203,
   "metadata": {},
   "outputs": [
    {
     "name": "stdout",
     "output_type": "stream",
     "text": "5\nGrupo: Consolidado\n  8605 - Consolidado - EMPTY\n  8605 - Consolidado - EMPTY\nGrupo: Individual\n  8605 - Individual - 2015.json gravado - 520\n  8605 - Individual - 2016.json gravado - 520\n  8605 - Individual - 2017.json gravado - 520\n  8605 - Individual - 2018.json gravado - 520\n  8605 - Individual - 2019.json gravado - 390\n610/753 - cvm: 15113\nGrupo: Consolidado\n  15113 - Consolidado - EMPTY\n  15113 - Consolidado - EMPTY\nGrupo: Individual\n  15113 - Individual - 2015.json gravado - 520\n  15113 - Individual - 2016.json gravado - 390\n611/753 - cvm: 16861\nGrupo: Consolidado\n  16861 - Consolidado - EMPTY\n  16861 - Consolidado - EMPTY\nGrupo: Individual\n  16861 - Individual - 2015.json gravado - 520\n  16861 - Individual - 2016.json gravado - 520\n  16861 - Individual - 2017.json gravado - 520\n  16861 - Individual - 2018.json gravado - 520\n  16861 - Individual - 2019.json gravado - 390\n612/753 - cvm: 8117\nGrupo: Consolidado\n  8117 - Consolidado - EMPTY\n  8117 - Consolidado - EMPTY\nGrupo: Individual\n  8117 - Individual - 2015.json gravado - 520\n  8117 - Individual - 2016.json gravado - 520\n  8117 - Individual - 2017.json gravado - 520\n  8117 - Individual - 2018.json gravado - 520\n613/753 - cvm: 2038\nGrupo: Consolidado\n  2038 - Consolidado - EMPTY\n  2038 - Consolidado - EMPTY\nGrupo: Individual\n  2038 - Individual - 2015.json gravado - 520\n614/753 - cvm: 15407\nGrupo: Consolidado\n  15407 - Consolidado - EMPTY\n  15407 - Consolidado - EMPTY\nGrupo: Individual\n  15407 - Individual - 2015.json gravado - 520\n  15407 - Individual - 2016.json gravado - 520\n  15407 - Individual - 2017.json gravado - 520\n  15407 - Individual - 2018.json gravado - 520\n  15407 - Individual - 2019.json gravado - 390\n615/753 - cvm: 10561\nGrupo: Consolidado\n  10561 - Consolidado - EMPTY\n  10561 - Consolidado - EMPTY\nGrupo: Individual\n  10561 - Individual - 2015.json gravado - 520\n  10561 - Individual - 2016.json gravado - 520\n  10561 - Individual - 2017.json gravado - 520\n  10561 - Individual - 2018.json gravado - 520\n  10561 - Individual - 2019.json gravado - 520\n616/753 - cvm: 12858\nGrupo: Consolidado\n  12858 - Consolidado - EMPTY\n  12858 - Consolidado - EMPTY\nGrupo: Individual\n  12858 - Individual - 2015.json gravado - 520\n  12858 - Individual - 2016.json gravado - 520\n  12858 - Individual - 2017.json gravado - 520\n617/753 - cvm: 6076\nGrupo: Consolidado\n  6076 - Consolidado - EMPTY\n  6076 - Consolidado - EMPTY\nGrupo: Individual\n  6076 - Individual - 2015.json gravado - 312\n  6076 - Individual - 2016.json gravado - 312\n  6076 - Individual - 2017.json gravado - 312\n  6076 - Individual - 2018.json gravado - 312\n  6076 - Individual - 2019.json gravado - 234\n618/753 - cvm: 1210\nGrupo: Consolidado\n  1210 - Consolidado - 2015.json gravado - 78\n  1210 - Consolidado - 2016.json gravado - 78\n  1210 - Consolidado - 2017.json gravado - 78\n  1210 - Consolidado - 2018.json gravado - 78\nGrupo: Individual\n  1210 - Individual - 2015.json gravado - 312\n  1210 - Individual - 2016.json gravado - 312\n  1210 - Individual - 2017.json gravado - 312\n  1210 - Individual - 2018.json gravado - 312\n  1210 - Individual - 2019.json gravado - 312\n619/753 - cvm: 15822\nGrupo: Consolidado\n  15822 - Consolidado - EMPTY\n  15822 - Consolidado - EMPTY\nGrupo: Individual\n  15822 - Individual - 2015.json gravado - 520\n  15822 - Individual - 2016.json gravado - 520\n  15822 - Individual - 2017.json gravado - 520\n  15822 - Individual - 2018.json gravado - 520\n  15822 - Individual - 2019.json gravado - 390\n620/753 - cvm: 6629\nGrupo: Consolidado\n  6629 - Consolidado - EMPTY\n  6629 - Consolidado - EMPTY\nGrupo: Individual\n  6629 - Individual - 2015.json gravado - 520\n  6629 - Individual - 2016.json gravado - 520\n  6629 - Individual - 2017.json gravado - 520\n  6629 - Individual - 2018.json gravado - 520\n  6629 - Individual - 2019.json gravado - 390\n621/753 - cvm: 16748\nGrupo: Consolidado\n  16748 - Consolidado - EMPTY\n  16748 - Consolidado - EMPTY\nGrupo: Individual\n  16748 - Individual - 2015.json gravado - 520\n  16748 - Individual - 2016.json gravado - 520\n  16748 - Individual - 2017.json gravado - 520\n  16748 - Individual - 2018.json gravado - 520\n  16748 - Individual - 2019.json gravado - 390\n622/753 - cvm: 23183\nGrupo: Consolidado\n  23183 - Consolidado - EMPTY\n  23183 - Consolidado - EMPTY\nGrupo: Individual\n  23183 - Individual - 2015.json gravado - 520\n  23183 - Individual - 2016.json gravado - 520\n  23183 - Individual - 2017.json gravado - 390\n623/753 - cvm: 13854\nGrupo: Consolidado\n  13854 - Consolidado - EMPTY\n  13854 - Consolidado - EMPTY\nGrupo: Individual\n  13854 - Individual - 2015.json gravado - 520\n  13854 - Individual - 2016.json gravado - 520\n  13854 - Individual - 2017.json gravado - 520\n  13854 - Individual - 2018.json gravado - 520\n  13854 - Individual - 2019.json gravado - 390\n624/753 - cvm: 1570\nGrupo: Consolidado\n  1570 - Consolidado - EMPTY\n  1570 - Consolidado - EMPTY\nGrupo: Individual\n  1570 - Individual - 2015.json gravado - 520\n  1570 - Individual - 2016.json gravado - 520\n  1570 - Individual - 2017.json gravado - 520\n  1570 - Individual - 2018.json gravado - 520\n  1570 - Individual - 2019.json gravado - 520\n625/753 - cvm: 4693\nGrupo: Consolidado\n  4693 - Consolidado - EMPTY\n  4693 - Consolidado - EMPTY\nGrupo: Individual\n  4693 - Individual - 2015.json gravado - 520\n  4693 - Individual - 2016.json gravado - 520\n  4693 - Individual - 2017.json gravado - 520\n  4693 - Individual - 2018.json gravado - 520\n  4693 - Individual - 2019.json gravado - 390\n626/753 - cvm: 24015\nGrupo: Consolidado\n  24015 - Consolidado - EMPTY\n  24015 - Consolidado - EMPTY\nGrupo: Individual\n  24015 - Individual - 2015.json gravado - 130\n  24015 - Individual - 2016.json gravado - 520\n  24015 - Individual - 2017.json gravado - 520\n  24015 - Individual - 2018.json gravado - 520\n  24015 - Individual - 2019.json gravado - 390\n627/753 - cvm: 24104\nGrupo: Consolidado\n  24104 - Consolidado - EMPTY\n  24104 - Consolidado - EMPTY\nGrupo: Individual\n  24104 - Individual - 2015.json gravado - 130\n  24104 - Individual - 2016.json gravado - 520\n  24104 - Individual - 2017.json gravado - 520\n  24104 - Individual - 2018.json gravado - 520\n  24104 - Individual - 2019.json gravado - 390\n628/753 - cvm: 24066\nGrupo: Consolidado\n  24066 - Consolidado - EMPTY\n  24066 - Consolidado - EMPTY\nGrupo: Individual\n  24066 - Individual - 2015.json gravado - 130\n  24066 - Individual - 2016.json gravado - 520\n  24066 - Individual - 2017.json gravado - 520\n  24066 - Individual - 2018.json gravado - 520\n  24066 - Individual - 2019.json gravado - 390\n629/753 - cvm: 24074\nGrupo: Consolidado\n  24074 - Consolidado - EMPTY\n  24074 - Consolidado - EMPTY\nGrupo: Individual\n  24074 - Individual - 2015.json gravado - 130\n  24074 - Individual - 2016.json gravado - 520\n  24074 - Individual - 2017.json gravado - 520\n  24074 - Individual - 2018.json gravado - 260\n630/753 - cvm: 23973\nGrupo: Consolidado\n  23973 - Consolidado - EMPTY\n  23973 - Consolidado - EMPTY\nGrupo: Individual\n  23973 - Individual - 2015.json gravado - 130\n  23973 - Individual - 2016.json gravado - 520\n  23973 - Individual - 2017.json gravado - 390\n631/753 - cvm: 23922\nGrupo: Consolidado\n  23922 - Consolidado - EMPTY\n  23922 - Consolidado - EMPTY\nGrupo: Individual\n  23922 - Individual - 2015.json gravado - 130\n  23922 - Individual - 2016.json gravado - 520\n  23922 - Individual - 2017.json gravado - 520\n  23922 - Individual - 2018.json gravado - 520\n  23922 - Individual - 2019.json gravado - 390\n632/753 - cvm: 24040\nGrupo: Consolidado\n  24040 - Consolidado - EMPTY\n  24040 - Consolidado - EMPTY\nGrupo: Individual\n  24040 - Individual - 2015.json gravado - 130\n  24040 - Individual - 2016.json gravado - 520\n  24040 - Individual - 2017.json gravado - 520\n  24040 - Individual - 2018.json gravado - 520\n  24040 - Individual - 2019.json gravado - 390\n633/753 - cvm: 24163\nGrupo: Consolidado\n  24163 - Consolidado - EMPTY\n  24163 - Consolidado - EMPTY\nGrupo: Individual\n  24163 - Individual - 2016.json gravado - 520\n  24163 - Individual - 2017.json gravado - 520\n  24163 - Individual - 2018.json gravado - 520\n634/753 - cvm: 23949\nGrupo: Consolidado\n  23949 - Consolidado - EMPTY\n  23949 - Consolidado - EMPTY\nGrupo: Individual\n  23949 - Individual - 2015.json gravado - 130\n  23949 - Individual - 2016.json gravado - 520\n  23949 - Individual - 2017.json gravado - 520\n  23949 - Individual - 2018.json gravado - 520\n  23949 - Individual - 2019.json gravado - 390\n635/753 - cvm: 23914\nGrupo: Consolidado\n  23914 - Consolidado - EMPTY\n  23914 - Consolidado - EMPTY\nGrupo: Individual\n  23914 - Individual - 2015.json gravado - 130\n  23914 - Individual - 2016.json gravado - 520\n  23914 - Individual - 2017.json gravado - 520\n  23914 - Individual - 2018.json gravado - 260\n636/753 - cvm: 24023\nGrupo: Consolidado\n  24023 - Consolidado - EMPTY\n  24023 - Consolidado - EMPTY\nGrupo: Individual\n  24023 - Individual - 2016.json gravado - 520\n  24023 - Individual - 2017.json gravado - 390\n637/753 - cvm: 24007\nGrupo: Consolidado\n  24007 - Consolidado - EMPTY\n  24007 - Consolidado - EMPTY\nGrupo: Individual\n  24007 - Individual - 2016.json gravado - 260\n638/753 - cvm: 24031\nGrupo: Consolidado\n  24031 - Consolidado - EMPTY\n  24031 - Consolidado - EMPTY\nGrupo: Individual\n  24031 - Individual - 2016.json gravado - 520\n  24031 - Individual - 2017.json gravado - 390\n639/753 - cvm: 3\nGrupo: Consolidado\n  3 - Consolidado - EMPTY\n  3 - Consolidado - EMPTY\nGrupo: Individual\n  3 - Individual - 2016.json gravado - 130\n640/753 - cvm: 24244\nGrupo: Consolidado\n  24244 - Consolidado - EMPTY\n  24244 - Consolidado - EMPTY\nGrupo: Individual\n  24244 - Individual - 2016.json gravado - 130\n  24244 - Individual - 2017.json gravado - 520\n  24244 - Individual - 2018.json gravado - 390\n641/753 - cvm: 24287\nGrupo: Consolidado\n  24287 - Consolidado - EMPTY\n  24287 - Consolidado - EMPTY\nGrupo: Individual\n  24287 - Individual - 2016.json gravado - 130\n  24287 - Individual - 2017.json gravado - 520\n  24287 - Individual - 2018.json gravado - 520\n  24287 - Individual - 2019.json gravado - 390\n642/753 - cvm: 24155\nGrupo: Consolidado\n  24155 - Consolidado - EMPTY\n  24155 - Consolidado - EMPTY\nGrupo: Individual\n  24155 - Individual - 2016.json gravado - 130\n  24155 - Individual - 2017.json gravado - 520\n  24155 - Individual - 2018.json gravado - 520\n  24155 - Individual - 2019.json gravado - 390\n643/753 - cvm: 24139\nGrupo: Consolidado\n  24139 - Consolidado - EMPTY\n  24139 - Consolidado - EMPTY\nGrupo: Individual\n  24139 - Individual - 2016.json gravado - 130\n  24139 - Individual - 2017.json gravado - 520\n  24139 - Individual - 2018.json gravado - 520\n  24139 - Individual - 2019.json gravado - 520\n644/753 - cvm: 24210\nGrupo: Consolidado\n  24210 - Consolidado - EMPTY\n  24210 - Consolidado - EMPTY\nGrupo: Individual\n  24210 - Individual - 2016.json gravado - 130\n  24210 - Individual - 2017.json gravado - 520\n  24210 - Individual - 2018.json gravado - 520\n  24210 - Individual - 2019.json gravado - 390\n645/753 - cvm: 24198\nGrupo: Consolidado\n  24198 - Consolidado - EMPTY\n  24198 - Consolidado - EMPTY\nGrupo: Individual\n  24198 - Individual - 2016.json gravado - 130\n  24198 - Individual - 2017.json gravado - 520\n  24198 - Individual - 2018.json gravado - 130\n646/753 - cvm: 24082\nGrupo: Consolidado\n  24082 - Consolidado - EMPTY\n  24082 - Consolidado - EMPTY\nGrupo: Individual\n  24082 - Individual - 2016.json gravado - 260\n  24082 - Individual - 2017.json gravado - 520\n  24082 - Individual - 2018.json gravado - 520\n  24082 - Individual - 2019.json gravado - 390\n647/753 - cvm: 24341\nGrupo: Consolidado\n  24341 - Consolidado - EMPTY\n  24341 - Consolidado - EMPTY\nGrupo: Individual\n  24341 - Individual - 2016.json gravado - 130\n  24341 - Individual - 2017.json gravado - 520\n  24341 - Individual - 2018.json gravado - 520\n  24341 - Individual - 2019.json gravado - 390\n648/753 - cvm: 24325\nGrupo: Consolidado\n  24325 - Consolidado - EMPTY\n  24325 - Consolidado - EMPTY\nGrupo: Individual\n  24325 - Individual - 2017.json gravado - 520\n  24325 - Individual - 2018.json gravado - 130\n649/753 - cvm: 24147\nGrupo: Consolidado\n  24147 - Consolidado - EMPTY\n  24147 - Consolidado - EMPTY\nGrupo: Individual\n  24147 - Individual - 2017.json gravado - 520\n  24147 - Individual - 2018.json gravado - 520\n  24147 - Individual - 2019.json gravado - 390\n650/753 - cvm: 24333\nGrupo: Consolidado\n  24333 - Consolidado - EMPTY\n  24333 - Consolidado - EMPTY\nGrupo: Individual\n  24333 - Individual - 2017.json gravado - 390\n  24333 - Individual - 2018.json gravado - 520\n  24333 - Individual - 2019.json gravado - 390\n651/753 - cvm: 24406\nGrupo: Consolidado\n  24406 - Consolidado - 2017.json gravado - 78\n  24406 - Consolidado - 2018.json gravado - 78\nGrupo: Individual\n  24406 - Individual - 2017.json gravado - 78\n  24406 - Individual - 2018.json gravado - 312\n  24406 - Individual - 2019.json gravado - 312\n652/753 - cvm: 24708\nGrupo: Consolidado\n  24708 - Consolidado - EMPTY\n  24708 - Consolidado - EMPTY\nGrupo: Individual\n  24708 - Individual - 2017.json gravado - 130\n  24708 - Individual - 2018.json gravado - 520\n  24708 - Individual - 2019.json gravado - 390\n653/753 - cvm: 24465\nGrupo: Consolidado\n  24465 - Consolidado - EMPTY\n  24465 - Consolidado - EMPTY\nGrupo: Individual\n  24465 - Individual - 2018.json gravado - 234\n654/753 - cvm: 24376\nGrupo: Consolidado\n  24376 - Consolidado - EMPTY\n  24376 - Consolidado - EMPTY\nGrupo: Individual\n  24376 - Individual - 2017.json gravado - 130\n  24376 - Individual - 2018.json gravado - 520\n  24376 - Individual - 2019.json gravado - 260\n655/753 - cvm: 24538\nGrupo: Consolidado\n  24538 - Consolidado - EMPTY\n  24538 - Consolidado - EMPTY\nGrupo: Individual\n  24538 - Individual - 2017.json gravado - 130\n  24538 - Individual - 2018.json gravado - 520\n  24538 - Individual - 2019.json gravado - 390\n656/753 - cvm: 24503\nGrupo: Consolidado\n  24503 - Consolidado - EMPTY\n  24503 - Consolidado - EMPTY\nGrupo: Individual\n  24503 - Individual - 2017.json gravado - 260\n  24503 - Individual - 2018.json gravado - 390\n657/753 - cvm: 24449\nGrupo: Consolidado\n  24449 - Consolidado - EMPTY\n  24449 - Consolidado - EMPTY\nGrupo: Individual\n  24449 - Individual - 2017.json gravado - 130\n  24449 - Individual - 2018.json gravado - 130\n658/753 - cvm: 24457\nGrupo: Consolidado\n  24457 - Consolidado - EMPTY\n  24457 - Consolidado - EMPTY\nGrupo: Individual\n  24457 - Individual - 2017.json gravado - 130\n  24457 - Individual - 2018.json gravado - 520\n  24457 - Individual - 2019.json gravado - 390\n659/753 - cvm: 24481\nGrupo: Consolidado\n  24481 - Consolidado - EMPTY\n  24481 - Consolidado - EMPTY\nGrupo: Individual\n  24481 - Individual - 2017.json gravado - 130\n  24481 - Individual - 2018.json gravado - 520\n  24481 - Individual - 2019.json gravado - 390\n660/753 - cvm: 24368\nGrupo: Consolidado\n  24368 - Consolidado - EMPTY\n  24368 - Consolidado - EMPTY\nGrupo: Individual\n  24368 - Individual - 2017.json gravado - 130\n  24368 - Individual - 2018.json gravado - 520\n  24368 - Individual - 2019.json gravado - 390\n661/753 - cvm: 24422\nGrupo: Consolidado\n  24422 - Consolidado - EMPTY\n  24422 - Consolidado - EMPTY\nGrupo: Individual\n  24422 - Individual - 2017.json gravado - 130\n  24422 - Individual - 2018.json gravado - 520\n  24422 - Individual - 2019.json gravado - 520\n662/753 - cvm: 24430\nGrupo: Consolidado\n  24430 - Consolidado - EMPTY\n  24430 - Consolidado - EMPTY\nGrupo: Individual\n  24430 - Individual - 2017.json gravado - 130\n  24430 - Individual - 2018.json gravado - 520\n  24430 - Individual - 2019.json gravado - 520\n663/753 - cvm: 24686\nGrupo: Consolidado\n  24686 - Consolidado - EMPTY\n  24686 - Consolidado - EMPTY\nGrupo: Individual\n  24686 - Individual - 2017.json gravado - 260\n  24686 - Individual - 2018.json gravado - 650\n  24686 - Individual - 2019.json gravado - 390\n664/753 - cvm: 24570\nGrupo: Consolidado\n  24570 - Consolidado - EMPTY\n  24570 - Consolidado - EMPTY\nGrupo: Individual\n  24570 - Individual - 2018.json gravado - 416\n  24570 - Individual - 2019.json gravado - 390\n665/753 - cvm: 24511\nGrupo: Consolidado\n  24511 - Consolidado - EMPTY\n  24511 - Consolidado - EMPTY\nGrupo: Individual\n  24511 - Individual - 2018.json gravado - 390\n  24511 - Individual - 2019.json gravado - 390\n666/753 - cvm: 24619\nGrupo: Consolidado\n  24619 - Consolidado - EMPTY\n  24619 - Consolidado - EMPTY\nGrupo: Individual\n  24619 - Individual - 2017.json gravado - 130\n  24619 - Individual - 2018.json gravado - 520\n  24619 - Individual - 2019.json gravado - 260\n667/753 - cvm: 24520\nGrupo: Consolidado\n  24520 - Consolidado - EMPTY\n  24520 - Consolidado - EMPTY\nGrupo: Individual\n  24520 - Individual - 2018.json gravado - 390\n  24520 - Individual - 2019.json gravado - 390\n668/753 - cvm: 24635\nGrupo: Consolidado\n  24635 - Consolidado - EMPTY\n  24635 - Consolidado - EMPTY\nGrupo: Individual\n  24635 - Individual - 2017.json gravado - 130\n  24635 - Individual - 2018.json gravado - 780\n  24635 - Individual - 2019.json gravado - 338\n669/753 - cvm: 24562\nGrupo: Consolidado\n  24562 - Consolidado - EMPTY\n  24562 - Consolidado - EMPTY\nGrupo: Individual\n  24562 - Individual - 2018.json gravado - 598\n  24562 - Individual - 2019.json gravado - 234\n670/753 - cvm: 24643\nGrupo: Consolidado\n  24643 - Consolidado - EMPTY\n  24643 - Consolidado - EMPTY\nGrupo: Individual\n  24643 - Individual - 2018.json gravado - 390\n  24643 - Individual - 2019.json gravado - 520\n671/753 - cvm: 24651\nGrupo: Consolidado\n  24651 - Consolidado - EMPTY\n  24651 - Consolidado - EMPTY\nGrupo: Individual\n  24651 - Individual - 2018.json gravado - 364\n  24651 - Individual - 2019.json gravado - 390\n672/753 - cvm: 24554\nGrupo: Consolidado\n  24554 - Consolidado - EMPTY\n  24554 - Consolidado - EMPTY\nGrupo: Individual\n  24554 - Individual - 2017.json gravado - 260\n  24554 - Individual - 2018.json gravado - 520\n  24554 - Individual - 2019.json gravado - 520\n673/753 - cvm: 24880\nGrupo: Consolidado\n  24880 - Consolidado - EMPTY\n  24880 - Consolidado - EMPTY\nGrupo: Individual\n  24880 - Individual - 2018.json gravado - 130\n  24880 - Individual - 2019.json gravado - 390\n674/753 - cvm: 24759\nGrupo: Consolidado\n  24759 - Consolidado - EMPTY\n  24759 - Consolidado - EMPTY\nGrupo: Individual\n  24759 - Individual - 2018.json gravado - 130\n  24759 - Individual - 2019.json gravado - 390\n675/753 - cvm: 24767\nGrupo: Consolidado\n  24767 - Consolidado - EMPTY\n  24767 - Consolidado - EMPTY\nGrupo: Individual\n  24767 - Individual - 2018.json gravado - 130\n  24767 - Individual - 2019.json gravado - 390\n676/753 - cvm: 24864\nGrupo: Consolidado\n  24864 - Consolidado - EMPTY\n  24864 - Consolidado - EMPTY\nGrupo: Individual\n  24864 - Individual - 2018.json gravado - 130\n  24864 - Individual - 2019.json gravado - 390\n677/753 - cvm: 24899\nGrupo: Consolidado\n  24899 - Consolidado - EMPTY\n  24899 - Consolidado - EMPTY\nGrupo: Individual\n  24899 - Individual - 2018.json gravado - 390\n  24899 - Individual - 2019.json gravado - 390\n678/753 - cvm: 24732\nGrupo: Consolidado\n  24732 - Consolidado - EMPTY\n  24732 - Consolidado - EMPTY\nGrupo: Individual\n  24732 - Individual - 2018.json gravado - 260\n  24732 - Individual - 2019.json gravado - 520\n679/753 - cvm: 24678\nGrupo: Consolidado\n  24678 - Consolidado - EMPTY\n  24678 - Consolidado - EMPTY\nGrupo: Individual\n  24678 - Individual - 2018.json gravado - 130\n  24678 - Individual - 2019.json gravado - 390\n680/753 - cvm: 24724\nGrupo: Consolidado\n  24724 - Consolidado - EMPTY\n  24724 - Consolidado - EMPTY\nGrupo: Individual\n  24724 - Individual - 2018.json gravado - 260\n  24724 - Individual - 2019.json gravado - 650\n681/753 - cvm: 24791\nGrupo: Consolidado\n  24791 - Consolidado - EMPTY\n  24791 - Consolidado - EMPTY\nGrupo: Individual\n  24791 - Individual - 2019.json gravado - 520\n682/753 - cvm: 22330\nGrupo: Consolidado\n  22330 - Consolidado - 2015.json gravado - 130\nGrupo: Individual\n  22330 - Individual - 2015.json gravado - 130\n683/753 - cvm: 503711\nGrupo: Consolidado\n  503711 - Consolidado - EMPTY\n  503711 - Consolidado - EMPTY\nGrupo: Individual\n  503711 - Individual - 2015.json gravado - 130\n"
    }
   ],
   "source": [
    "numberOfCVM = BP.CD_CVM.nunique()\n",
    "count=0\n",
    "for cvm in BP.CD_CVM.unique()[70:numberOfCVM+1]:\n",
    "    # cvm=4170\n",
    "    count=count+1\n",
    "    print(str(count) + '/' + str(numberOfCVM) + ' - cvm: ' + str(cvm))\n",
    "    DF = BP[(BP.CD_CVM==cvm)]\n",
    "    for grupo in ['Consolidado', 'Individual']:\n",
    "        print('Grupo: ' + grupo)\n",
    "        GrupoAP = pd.DataFrame([])\n",
    "        for subgrupo in ['Ativo Consolidado', 'Passivo Consolidado','Ativo Individual', 'Passivo Individual']:\n",
    "            if(grupo in subgrupo):\n",
    "                # print(' - Sub grupo: ' + subgrupo)\n",
    "                df = DF[DF.GRUPO_DFP == subgrupo]\n",
    "                if(len(df)):\n",
    "                    cnpj =  df.iloc[0]['CNPJ_CIA']  \n",
    "                    denom_cia =  df.iloc[0]['DENOM_CIA']\n",
    "                    df = df.sort_values(['DESC_SIMPLES', 'DT_FIM_EXERC'])\n",
    "                    df.reset_index(inplace=True, drop=True)\n",
    "                    \n",
    "                    #Drop columns\n",
    "                    df.drop(['DT_FIM_EXERC', 'CNPJ_CIA'], axis=1, inplace=True)\n",
    "                    \n",
    "                    #Sort para garantir o sequenciamento correto\n",
    "                    df = df.sort_values(['DESC_SIMPLES', 'YEAR','TRIM']).reset_index(drop=True)\n",
    "                    #Calculate Variação entre Trimestre - AH (Análise Horizontal)\n",
    "                    cutTwo = (df.DESC_SIMPLES == df.DESC_SIMPLES.shift(1)) \n",
    "                    AH = []\n",
    "                    for i, row in df.iterrows():\n",
    "                        if cutTwo[i]:\n",
    "                            if df.iloc[i-1]['VL_CONTA']!=0:\n",
    "                                ah = (df.iloc[i]['VL_CONTA']-df.iloc[i-1]['VL_CONTA'])/df.iloc[i-1]['VL_CONTA']\n",
    "                            else:\n",
    "                                ah = np.nan\n",
    "                            AH.append(ah)\n",
    "                        else:\n",
    "                            AH.append(np.nan)\n",
    "                    df['AH']=pd.Series(AH)\n",
    "                    #Sort novamente\n",
    "                    df = df.sort_values(['YEAR','TRIM','CD_CONTA']).reset_index(drop=True)\n",
    "                    #Cálculo da Variação Vertical no Trimestre - AV (Análise Vertical)\n",
    "                    df['AV'] = df.apply(lambda r: calculateAV(r), axis=1)\n",
    "                    #Adicionando o TRIM_ANO como coluna\n",
    "                    df['TRIM_ANO']=df.apply(lambda r: \"%dT%d\" %(r['TRIM'],r['YEAR']), axis=1)\n",
    "                    #Concat Ativo e Passivo de mesmo grupo\n",
    "                    GrupoAP = pd.concat([GrupoAP,df])\n",
    "                else:\n",
    "                    print('  ' + str(cvm) +  ' - ' + grupo +' - ' + 'EMPTY')\n",
    "    \n",
    "        if(len(GrupoAP)>0):\n",
    "            for ano in GrupoAP.YEAR.unique():\n",
    "                filteredDFbyYear = GrupoAP[GrupoAP.YEAR==ano]\n",
    "                #Gravando arquivo\n",
    "                if(len(filteredDFbyYear)):\n",
    "                    filteredDFbyYear = filteredDFbyYear[['TRIM_ANO','CD_CONTA','DESC_SIMPLES', 'VL_CONTA', 'ESCALA', 'TRIM', 'YEAR', 'NIVEL', 'AH', 'AV']]\n",
    "                    filteredDFbyYear=filteredDFbyYear.sort_values(['TRIM_ANO','CD_CONTA']).reset_index(drop=True)\n",
    "                    # print(filteredDFbyYear[['TRIM_ANO','CD_CONTA','DESC_SIMPLES', 'VL_CONTA', 'AH', 'AV']].head(50))\n",
    "                    data = filteredDFbyYear.to_dict('records')\n",
    "                else:\n",
    "                    data = []           \n",
    "                data = {\n",
    "                    \"cvm\": int(cvm),\n",
    "                    \"ano\": int(ano),\n",
    "                    \"cnpj\": cnpj,\n",
    "                    \"denom_cia\": denom_cia,\n",
    "                    \"grupo\": grupo,\n",
    "                    \"data\" : data,\n",
    "                }\n",
    "                path = './output_cvm/bp/'+str(cvm)+'/'+grupo+'/'\n",
    "                if not os.path.exists(path):\n",
    "                    os.makedirs(path)\n",
    "                with open(path+str(ano)+'.json', 'w') as outfile:\n",
    "                    json.dump(data, outfile, indent=2)\n",
    "                    print('  '+ str(cvm) +  ' - ' + grupo +' - ' + str(ano)+'.json gravado - ' + str(df[df.YEAR==ano].size))\n"
   ]
  },
  {
   "cell_type": "code",
   "execution_count": null,
   "metadata": {},
   "outputs": [],
   "source": []
  }
 ],
 "metadata": {
  "kernelspec": {
   "display_name": "Python 3",
   "language": "python",
   "name": "python3"
  },
  "language_info": {
   "codemirror_mode": {
    "name": "ipython",
    "version": 3
   },
   "file_extension": ".py",
   "mimetype": "text/x-python",
   "name": "python",
   "nbconvert_exporter": "python",
   "pygments_lexer": "ipython3",
   "version": "3.6.0-final"
  }
 },
 "nbformat": 4,
 "nbformat_minor": 1
}