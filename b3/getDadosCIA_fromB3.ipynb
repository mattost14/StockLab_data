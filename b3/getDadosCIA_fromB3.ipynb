# -*- coding: utf-8 -*-
import requests
import pandas as pd
from bs4 import BeautifulSoup

#url = 'http://bvmf.bmfbovespa.com.br/cias-listadas/empresas-listadas/ResumoEmpresaPrincipal.aspx?codigoCvm=24805&idioma=pt-br&vi=FNNLRVHLEOKFPIMWPTKFNCERODDPVDRV-0&modifiedSince=1582893803500&bp=3&app=5286dfffe4e737f8&end=1'
url = 'http://bvmf.bmfbovespa.com.br/pt-br/mercados/acoes/empresas/ExecutaAcaoConsultaInfoEmp.asp?CodCVM=24805&ViewDoc=1&AnoDoc=2020&VersaoDoc=1&NumSeqDoc=91193#a'
try:
    print(' - Requesting data from B3 ...')
    response = requests.post(url)
    if(response.status_code==200):
        print('Conexão realizada com sucesso!')
        html = response.content
        # soup = BeautifulSoup(html, "html.parser")
        # print soup.prettify()
        df_list = pd.read_html(html)
        # df = df_list[-1]
        print(df_list[0])
except requests.exceptions.Timeout:
        print('TIME OUT')
except requests.exceptions.RequestException as e:
    print(e)



# if response:
#     #print('Conexão realizada com sucesso. Status: {}').format(response.status_code)
#     html = response.content
#     df_list = pd.read_html(html)
#     df = df_list[-1]
#     print(df)

# else:
#     print('!!! An error has occurred try connecting to B3 server. Error: {}').format(response.status_code)